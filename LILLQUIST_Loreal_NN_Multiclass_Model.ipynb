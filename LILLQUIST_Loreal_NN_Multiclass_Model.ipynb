{
  "cells": [
    {
      "cell_type": "code",
      "execution_count": 1,
      "metadata": {
        "id": "I0v_dWNa_vjt"
      },
      "outputs": [],
      "source": [
        "import os\n",
        "import warnings\n",
        "import datetime\n",
        "\n",
        "\n",
        "import numpy as np\n",
        "import pandas as pd\n",
        "import matplotlib.pyplot as plt\n",
        "\n",
        "from tqdm import tqdm\n",
        "from sklearn.metrics import classification_report\n",
        "\n",
        "import torch\n",
        "from torch import nn\n",
        "from torch.utils.data import Dataset, DataLoader\n",
        "from torch.utils.data.dataset import random_split\n",
        "\n",
        "# for padding a list of variable length tensors to equal length\n",
        "from torch.nn.utils.rnn import pad_sequence\n",
        "# for packing a tensor containing padded sequences of variable length\n",
        "from torch.nn.utils.rnn import pack_padded_sequence\n",
        "\n",
        "import nltk\n",
        "# for removing stop words like 'the', 'and', etc\n",
        "# stop words don't provide useful information\n",
        "from nltk.corpus import stopwords\n",
        "# for tokenization\n",
        "from nltk.tokenize import word_tokenize\n",
        "\n",
        "# for counting the number of unique tokens\n",
        "from collections import Counter\n"
      ]
    },
    {
      "cell_type": "code",
      "execution_count": 2,
      "metadata": {
        "colab": {
          "base_uri": "https://localhost:8080/"
        },
        "id": "cYV1Akz2_vju",
        "outputId": "2dfce8aa-a034-429e-ddc4-2c60ed35d850"
      },
      "outputs": [
        {
          "output_type": "stream",
          "name": "stdout",
          "text": [
            "Using cuda device\n"
          ]
        }
      ],
      "source": [
        "# suppress all warnings\n",
        "warnings.filterwarnings(\"ignore\")\n",
        "\n",
        "# get cpu, gpu or mps device for computation\n",
        "device = (\n",
        "    \"cuda\"\n",
        "    if torch.cuda.is_available()\n",
        "    else \"mps\"\n",
        "    if torch.backends.mps.is_available()\n",
        "    else \"cpu\"\n",
        ")\n",
        "print(f\"Using {device} device\")"
      ]
    },
    {
      "cell_type": "code",
      "execution_count": 3,
      "metadata": {
        "colab": {
          "base_uri": "https://localhost:8080/",
          "height": 654
        },
        "id": "SLt4BDLm_vjv",
        "outputId": "9c8f83a5-19d5-4d77-88f2-3fd057f07e62"
      },
      "outputs": [
        {
          "output_type": "execute_result",
          "data": {
            "text/plain": [
              "                                         description  dark_pigmentation  acne  \\\n",
              "0  Vichy IdÃƒalia Smooth & Glow Energizing Moistu...                  0     0   \n",
              "1  La Roche-Posay Pure Vitamin C Anti-Aging Face ...                  0     0   \n",
              "2  Pure Nutrition Aloe Vera Moisturizing Day & Ni...                  0     1   \n",
              "3  Vaseline Nourishing Face Facial Mask Sheet - S...                  0     0   \n",
              "4  [By Wishtrend] Pro-Biome Balance Cream 1.69 Fl...                  0     1   \n",
              "\n",
              "   eye_contour  homogeneity  lack_firmness  lack_radiance  pores  fine_lines  \\\n",
              "0            0            1              0              1      1           0   \n",
              "1            0            1              0              1      0           0   \n",
              "2            0            1              1              1      0           0   \n",
              "3            0            1              0              1      0           0   \n",
              "4            0            0              0              0      0           0   \n",
              "\n",
              "   wrinkles_fine-lines  ...  female  cleanse  prepare  treat  targeted  care  \\\n",
              "0                    1  ...       1        0        0      0         0     0   \n",
              "1                    1  ...       1        0        0      1         0     0   \n",
              "2                    1  ...       1        0        0      1         0     0   \n",
              "3                    0  ...       1        0        0      1         0     1   \n",
              "4                    0  ...       1        0        0      1         0     0   \n",
              "\n",
              "   moisturize  protect  day  night  \n",
              "0           1        0    1      0  \n",
              "1           0        0    1      1  \n",
              "2           1        0    1      1  \n",
              "3           1        0    1      1  \n",
              "4           1        0    1      1  \n",
              "\n",
              "[5 rows x 34 columns]"
            ],
            "text/html": [
              "\n",
              "  <div id=\"df-1fa04559-67d8-4a21-bc58-5e7ae45d5248\" class=\"colab-df-container\">\n",
              "    <div>\n",
              "<style scoped>\n",
              "    .dataframe tbody tr th:only-of-type {\n",
              "        vertical-align: middle;\n",
              "    }\n",
              "\n",
              "    .dataframe tbody tr th {\n",
              "        vertical-align: top;\n",
              "    }\n",
              "\n",
              "    .dataframe thead th {\n",
              "        text-align: right;\n",
              "    }\n",
              "</style>\n",
              "<table border=\"1\" class=\"dataframe\">\n",
              "  <thead>\n",
              "    <tr style=\"text-align: right;\">\n",
              "      <th></th>\n",
              "      <th>description</th>\n",
              "      <th>dark_pigmentation</th>\n",
              "      <th>acne</th>\n",
              "      <th>eye_contour</th>\n",
              "      <th>homogeneity</th>\n",
              "      <th>lack_firmness</th>\n",
              "      <th>lack_radiance</th>\n",
              "      <th>pores</th>\n",
              "      <th>fine_lines</th>\n",
              "      <th>wrinkles_fine-lines</th>\n",
              "      <th>...</th>\n",
              "      <th>female</th>\n",
              "      <th>cleanse</th>\n",
              "      <th>prepare</th>\n",
              "      <th>treat</th>\n",
              "      <th>targeted</th>\n",
              "      <th>care</th>\n",
              "      <th>moisturize</th>\n",
              "      <th>protect</th>\n",
              "      <th>day</th>\n",
              "      <th>night</th>\n",
              "    </tr>\n",
              "  </thead>\n",
              "  <tbody>\n",
              "    <tr>\n",
              "      <th>0</th>\n",
              "      <td>Vichy IdÃƒalia Smooth &amp; Glow Energizing Moistu...</td>\n",
              "      <td>0</td>\n",
              "      <td>0</td>\n",
              "      <td>0</td>\n",
              "      <td>1</td>\n",
              "      <td>0</td>\n",
              "      <td>1</td>\n",
              "      <td>1</td>\n",
              "      <td>0</td>\n",
              "      <td>1</td>\n",
              "      <td>...</td>\n",
              "      <td>1</td>\n",
              "      <td>0</td>\n",
              "      <td>0</td>\n",
              "      <td>0</td>\n",
              "      <td>0</td>\n",
              "      <td>0</td>\n",
              "      <td>1</td>\n",
              "      <td>0</td>\n",
              "      <td>1</td>\n",
              "      <td>0</td>\n",
              "    </tr>\n",
              "    <tr>\n",
              "      <th>1</th>\n",
              "      <td>La Roche-Posay Pure Vitamin C Anti-Aging Face ...</td>\n",
              "      <td>0</td>\n",
              "      <td>0</td>\n",
              "      <td>0</td>\n",
              "      <td>1</td>\n",
              "      <td>0</td>\n",
              "      <td>1</td>\n",
              "      <td>0</td>\n",
              "      <td>0</td>\n",
              "      <td>1</td>\n",
              "      <td>...</td>\n",
              "      <td>1</td>\n",
              "      <td>0</td>\n",
              "      <td>0</td>\n",
              "      <td>1</td>\n",
              "      <td>0</td>\n",
              "      <td>0</td>\n",
              "      <td>0</td>\n",
              "      <td>0</td>\n",
              "      <td>1</td>\n",
              "      <td>1</td>\n",
              "    </tr>\n",
              "    <tr>\n",
              "      <th>2</th>\n",
              "      <td>Pure Nutrition Aloe Vera Moisturizing Day &amp; Ni...</td>\n",
              "      <td>0</td>\n",
              "      <td>1</td>\n",
              "      <td>0</td>\n",
              "      <td>1</td>\n",
              "      <td>1</td>\n",
              "      <td>1</td>\n",
              "      <td>0</td>\n",
              "      <td>0</td>\n",
              "      <td>1</td>\n",
              "      <td>...</td>\n",
              "      <td>1</td>\n",
              "      <td>0</td>\n",
              "      <td>0</td>\n",
              "      <td>1</td>\n",
              "      <td>0</td>\n",
              "      <td>0</td>\n",
              "      <td>1</td>\n",
              "      <td>0</td>\n",
              "      <td>1</td>\n",
              "      <td>1</td>\n",
              "    </tr>\n",
              "    <tr>\n",
              "      <th>3</th>\n",
              "      <td>Vaseline Nourishing Face Facial Mask Sheet - S...</td>\n",
              "      <td>0</td>\n",
              "      <td>0</td>\n",
              "      <td>0</td>\n",
              "      <td>1</td>\n",
              "      <td>0</td>\n",
              "      <td>1</td>\n",
              "      <td>0</td>\n",
              "      <td>0</td>\n",
              "      <td>0</td>\n",
              "      <td>...</td>\n",
              "      <td>1</td>\n",
              "      <td>0</td>\n",
              "      <td>0</td>\n",
              "      <td>1</td>\n",
              "      <td>0</td>\n",
              "      <td>1</td>\n",
              "      <td>1</td>\n",
              "      <td>0</td>\n",
              "      <td>1</td>\n",
              "      <td>1</td>\n",
              "    </tr>\n",
              "    <tr>\n",
              "      <th>4</th>\n",
              "      <td>[By Wishtrend] Pro-Biome Balance Cream 1.69 Fl...</td>\n",
              "      <td>0</td>\n",
              "      <td>1</td>\n",
              "      <td>0</td>\n",
              "      <td>0</td>\n",
              "      <td>0</td>\n",
              "      <td>0</td>\n",
              "      <td>0</td>\n",
              "      <td>0</td>\n",
              "      <td>0</td>\n",
              "      <td>...</td>\n",
              "      <td>1</td>\n",
              "      <td>0</td>\n",
              "      <td>0</td>\n",
              "      <td>1</td>\n",
              "      <td>0</td>\n",
              "      <td>0</td>\n",
              "      <td>1</td>\n",
              "      <td>0</td>\n",
              "      <td>1</td>\n",
              "      <td>1</td>\n",
              "    </tr>\n",
              "  </tbody>\n",
              "</table>\n",
              "<p>5 rows × 34 columns</p>\n",
              "</div>\n",
              "    <div class=\"colab-df-buttons\">\n",
              "\n",
              "  <div class=\"colab-df-container\">\n",
              "    <button class=\"colab-df-convert\" onclick=\"convertToInteractive('df-1fa04559-67d8-4a21-bc58-5e7ae45d5248')\"\n",
              "            title=\"Convert this dataframe to an interactive table.\"\n",
              "            style=\"display:none;\">\n",
              "\n",
              "  <svg xmlns=\"http://www.w3.org/2000/svg\" height=\"24px\" viewBox=\"0 -960 960 960\">\n",
              "    <path d=\"M120-120v-720h720v720H120Zm60-500h600v-160H180v160Zm220 220h160v-160H400v160Zm0 220h160v-160H400v160ZM180-400h160v-160H180v160Zm440 0h160v-160H620v160ZM180-180h160v-160H180v160Zm440 0h160v-160H620v160Z\"/>\n",
              "  </svg>\n",
              "    </button>\n",
              "\n",
              "  <style>\n",
              "    .colab-df-container {\n",
              "      display:flex;\n",
              "      gap: 12px;\n",
              "    }\n",
              "\n",
              "    .colab-df-convert {\n",
              "      background-color: #E8F0FE;\n",
              "      border: none;\n",
              "      border-radius: 50%;\n",
              "      cursor: pointer;\n",
              "      display: none;\n",
              "      fill: #1967D2;\n",
              "      height: 32px;\n",
              "      padding: 0 0 0 0;\n",
              "      width: 32px;\n",
              "    }\n",
              "\n",
              "    .colab-df-convert:hover {\n",
              "      background-color: #E2EBFA;\n",
              "      box-shadow: 0px 1px 2px rgba(60, 64, 67, 0.3), 0px 1px 3px 1px rgba(60, 64, 67, 0.15);\n",
              "      fill: #174EA6;\n",
              "    }\n",
              "\n",
              "    .colab-df-buttons div {\n",
              "      margin-bottom: 4px;\n",
              "    }\n",
              "\n",
              "    [theme=dark] .colab-df-convert {\n",
              "      background-color: #3B4455;\n",
              "      fill: #D2E3FC;\n",
              "    }\n",
              "\n",
              "    [theme=dark] .colab-df-convert:hover {\n",
              "      background-color: #434B5C;\n",
              "      box-shadow: 0px 1px 3px 1px rgba(0, 0, 0, 0.15);\n",
              "      filter: drop-shadow(0px 1px 2px rgba(0, 0, 0, 0.3));\n",
              "      fill: #FFFFFF;\n",
              "    }\n",
              "  </style>\n",
              "\n",
              "    <script>\n",
              "      const buttonEl =\n",
              "        document.querySelector('#df-1fa04559-67d8-4a21-bc58-5e7ae45d5248 button.colab-df-convert');\n",
              "      buttonEl.style.display =\n",
              "        google.colab.kernel.accessAllowed ? 'block' : 'none';\n",
              "\n",
              "      async function convertToInteractive(key) {\n",
              "        const element = document.querySelector('#df-1fa04559-67d8-4a21-bc58-5e7ae45d5248');\n",
              "        const dataTable =\n",
              "          await google.colab.kernel.invokeFunction('convertToInteractive',\n",
              "                                                    [key], {});\n",
              "        if (!dataTable) return;\n",
              "\n",
              "        const docLinkHtml = 'Like what you see? Visit the ' +\n",
              "          '<a target=\"_blank\" href=https://colab.research.google.com/notebooks/data_table.ipynb>data table notebook</a>'\n",
              "          + ' to learn more about interactive tables.';\n",
              "        element.innerHTML = '';\n",
              "        dataTable['output_type'] = 'display_data';\n",
              "        await google.colab.output.renderOutput(dataTable, element);\n",
              "        const docLink = document.createElement('div');\n",
              "        docLink.innerHTML = docLinkHtml;\n",
              "        element.appendChild(docLink);\n",
              "      }\n",
              "    </script>\n",
              "  </div>\n",
              "\n",
              "\n",
              "<div id=\"df-f7141b4f-800d-4302-a12f-754114db9f4a\">\n",
              "  <button class=\"colab-df-quickchart\" onclick=\"quickchart('df-f7141b4f-800d-4302-a12f-754114db9f4a')\"\n",
              "            title=\"Suggest charts\"\n",
              "            style=\"display:none;\">\n",
              "\n",
              "<svg xmlns=\"http://www.w3.org/2000/svg\" height=\"24px\"viewBox=\"0 0 24 24\"\n",
              "     width=\"24px\">\n",
              "    <g>\n",
              "        <path d=\"M19 3H5c-1.1 0-2 .9-2 2v14c0 1.1.9 2 2 2h14c1.1 0 2-.9 2-2V5c0-1.1-.9-2-2-2zM9 17H7v-7h2v7zm4 0h-2V7h2v10zm4 0h-2v-4h2v4z\"/>\n",
              "    </g>\n",
              "</svg>\n",
              "  </button>\n",
              "\n",
              "<style>\n",
              "  .colab-df-quickchart {\n",
              "      --bg-color: #E8F0FE;\n",
              "      --fill-color: #1967D2;\n",
              "      --hover-bg-color: #E2EBFA;\n",
              "      --hover-fill-color: #174EA6;\n",
              "      --disabled-fill-color: #AAA;\n",
              "      --disabled-bg-color: #DDD;\n",
              "  }\n",
              "\n",
              "  [theme=dark] .colab-df-quickchart {\n",
              "      --bg-color: #3B4455;\n",
              "      --fill-color: #D2E3FC;\n",
              "      --hover-bg-color: #434B5C;\n",
              "      --hover-fill-color: #FFFFFF;\n",
              "      --disabled-bg-color: #3B4455;\n",
              "      --disabled-fill-color: #666;\n",
              "  }\n",
              "\n",
              "  .colab-df-quickchart {\n",
              "    background-color: var(--bg-color);\n",
              "    border: none;\n",
              "    border-radius: 50%;\n",
              "    cursor: pointer;\n",
              "    display: none;\n",
              "    fill: var(--fill-color);\n",
              "    height: 32px;\n",
              "    padding: 0;\n",
              "    width: 32px;\n",
              "  }\n",
              "\n",
              "  .colab-df-quickchart:hover {\n",
              "    background-color: var(--hover-bg-color);\n",
              "    box-shadow: 0 1px 2px rgba(60, 64, 67, 0.3), 0 1px 3px 1px rgba(60, 64, 67, 0.15);\n",
              "    fill: var(--button-hover-fill-color);\n",
              "  }\n",
              "\n",
              "  .colab-df-quickchart-complete:disabled,\n",
              "  .colab-df-quickchart-complete:disabled:hover {\n",
              "    background-color: var(--disabled-bg-color);\n",
              "    fill: var(--disabled-fill-color);\n",
              "    box-shadow: none;\n",
              "  }\n",
              "\n",
              "  .colab-df-spinner {\n",
              "    border: 2px solid var(--fill-color);\n",
              "    border-color: transparent;\n",
              "    border-bottom-color: var(--fill-color);\n",
              "    animation:\n",
              "      spin 1s steps(1) infinite;\n",
              "  }\n",
              "\n",
              "  @keyframes spin {\n",
              "    0% {\n",
              "      border-color: transparent;\n",
              "      border-bottom-color: var(--fill-color);\n",
              "      border-left-color: var(--fill-color);\n",
              "    }\n",
              "    20% {\n",
              "      border-color: transparent;\n",
              "      border-left-color: var(--fill-color);\n",
              "      border-top-color: var(--fill-color);\n",
              "    }\n",
              "    30% {\n",
              "      border-color: transparent;\n",
              "      border-left-color: var(--fill-color);\n",
              "      border-top-color: var(--fill-color);\n",
              "      border-right-color: var(--fill-color);\n",
              "    }\n",
              "    40% {\n",
              "      border-color: transparent;\n",
              "      border-right-color: var(--fill-color);\n",
              "      border-top-color: var(--fill-color);\n",
              "    }\n",
              "    60% {\n",
              "      border-color: transparent;\n",
              "      border-right-color: var(--fill-color);\n",
              "    }\n",
              "    80% {\n",
              "      border-color: transparent;\n",
              "      border-right-color: var(--fill-color);\n",
              "      border-bottom-color: var(--fill-color);\n",
              "    }\n",
              "    90% {\n",
              "      border-color: transparent;\n",
              "      border-bottom-color: var(--fill-color);\n",
              "    }\n",
              "  }\n",
              "</style>\n",
              "\n",
              "  <script>\n",
              "    async function quickchart(key) {\n",
              "      const quickchartButtonEl =\n",
              "        document.querySelector('#' + key + ' button');\n",
              "      quickchartButtonEl.disabled = true;  // To prevent multiple clicks.\n",
              "      quickchartButtonEl.classList.add('colab-df-spinner');\n",
              "      try {\n",
              "        const charts = await google.colab.kernel.invokeFunction(\n",
              "            'suggestCharts', [key], {});\n",
              "      } catch (error) {\n",
              "        console.error('Error during call to suggestCharts:', error);\n",
              "      }\n",
              "      quickchartButtonEl.classList.remove('colab-df-spinner');\n",
              "      quickchartButtonEl.classList.add('colab-df-quickchart-complete');\n",
              "    }\n",
              "    (() => {\n",
              "      let quickchartButtonEl =\n",
              "        document.querySelector('#df-f7141b4f-800d-4302-a12f-754114db9f4a button');\n",
              "      quickchartButtonEl.style.display =\n",
              "        google.colab.kernel.accessAllowed ? 'block' : 'none';\n",
              "    })();\n",
              "  </script>\n",
              "</div>\n",
              "\n",
              "    </div>\n",
              "  </div>\n"
            ],
            "application/vnd.google.colaboratory.intrinsic+json": {
              "type": "dataframe",
              "variable_name": "df_loreal"
            }
          },
          "metadata": {},
          "execution_count": 3
        }
      ],
      "source": [
        "# Load the concatenated_MV file as a pandas DataFrame\n",
        "file_path = '/content/sample_data/concatenated_MV.xlsx'  # Update this path to the actual file location\n",
        "df_loreal = pd.read_excel(file_path)\n",
        "\n",
        "# Shuffle the DataFrame\n",
        "df_loreal = df_loreal.sample(frac=1).reset_index(drop=True)\n",
        "# Display the first few rows of the DataFrame\n",
        "df_loreal.head()"
      ]
    },
    {
      "cell_type": "code",
      "execution_count": 15,
      "metadata": {
        "colab": {
          "base_uri": "https://localhost:8080/"
        },
        "id": "D362o6ix_vjv",
        "outputId": "48ee06f7-335b-43cb-a1ed-6a942c1c9840"
      },
      "outputs": [
        {
          "output_type": "stream",
          "name": "stdout",
          "text": [
            "Number of output classes: 33\n",
            "List of output classes:\n",
            "['dark_pigmentation', 'acne', 'eye_contour', 'homogeneity', 'lack_firmness', 'lack_radiance', 'pores', 'fine_lines', 'wrinkles_fine-lines', 'eye-wrinkles', 'undereye-bags', 'generic', '18-34', '35-54', '55-99', 'dry', 'normal', 'oily', 'combination', 'sensitivity-high', 'sensitivity-low', 'no_sensitivity', 'male', 'female', 'cleanse', 'prepare', 'treat', 'targeted', 'care', 'moisturize', 'protect', 'day', 'night']\n"
          ]
        }
      ],
      "source": [
        "# Extract the output class names (column names excluding the text column)\n",
        "output_classes = list(df_loreal.columns[1:34])  # Exclude the 'text_raw' column\n",
        "\n",
        "num_classes = len(output_classes)\n",
        "\n",
        "# Display the output\n",
        "print(f\"Number of output classes: {num_classes}\")\n",
        "print(\"List of output classes:\")\n",
        "print(output_classes)"
      ]
    },
    {
      "cell_type": "code",
      "execution_count": 5,
      "metadata": {
        "colab": {
          "base_uri": "https://localhost:8080/",
          "height": 527
        },
        "id": "Gd61S0Ho_vjv",
        "outputId": "72ef0e3b-ac61-4583-d33c-7489564e3019"
      },
      "outputs": [
        {
          "output_type": "stream",
          "name": "stderr",
          "text": [
            "[nltk_data] Downloading package punkt to /root/nltk_data...\n",
            "[nltk_data]   Unzipping tokenizers/punkt.zip.\n",
            "[nltk_data] Downloading package stopwords to /root/nltk_data...\n",
            "[nltk_data]   Unzipping corpora/stopwords.zip.\n",
            "[nltk_data] Downloading package punkt_tab to /root/nltk_data...\n",
            "[nltk_data]   Unzipping tokenizers/punkt_tab.zip.\n"
          ]
        },
        {
          "output_type": "execute_result",
          "data": {
            "text/plain": [
              "                                            description  \\\n",
              "0     Vichy IdÃƒalia Smooth & Glow Energizing Moistu...   \n",
              "1     La Roche-Posay Pure Vitamin C Anti-Aging Face ...   \n",
              "2     Pure Nutrition Aloe Vera Moisturizing Day & Ni...   \n",
              "3     Vaseline Nourishing Face Facial Mask Sheet - S...   \n",
              "4     [By Wishtrend] Pro-Biome Balance Cream 1.69 Fl...   \n",
              "...                                                 ...   \n",
              "6235  LOreal Paris Glycolic Bright Skin Brightening ...   \n",
              "6236  L'Oreal® Paris RevitaLift® Volume Filler Moist...   \n",
              "6237  It's Skin The Fresh Mask Sheet Lemon The Fresh...   \n",
              "6238  Blackhead Solutions by Clinique 7 Day Deep Por...   \n",
              "6239  Hand Soap What it is: A no-frills, thick-textu...   \n",
              "\n",
              "                                                 tokens  \n",
              "0     [vichy, idãƒalia, smooth, &, glow, energizing,...  \n",
              "1     [la, roche-posay, pure, vitamin, c, anti-aging...  \n",
              "2     [pure, nutrition, aloe, vera, moisturizing, da...  \n",
              "3     [vaseline, nourishing, face, facial, mask, she...  \n",
              "4     [[, wishtrend, ], pro-biome, balance, cream, 1...  \n",
              "...                                                 ...  \n",
              "6235  [loreal, paris, glycolic, bright, skin, bright...  \n",
              "6236  [l'oreal®, paris, revitalift®, volume, filler,...  \n",
              "6237  ['s, skin, fresh, mask, sheet, lemon, fresh, m...  \n",
              "6238  [blackhead, solutions, clinique, 7, day, deep,...  \n",
              "6239  [hand, soap, :, no-frills, ,, thick-textured, ...  \n",
              "\n",
              "[6240 rows x 2 columns]"
            ],
            "text/html": [
              "\n",
              "  <div id=\"df-2cdb57f5-4c28-4f7e-87a6-36d0fd91267e\" class=\"colab-df-container\">\n",
              "    <div>\n",
              "<style scoped>\n",
              "    .dataframe tbody tr th:only-of-type {\n",
              "        vertical-align: middle;\n",
              "    }\n",
              "\n",
              "    .dataframe tbody tr th {\n",
              "        vertical-align: top;\n",
              "    }\n",
              "\n",
              "    .dataframe thead th {\n",
              "        text-align: right;\n",
              "    }\n",
              "</style>\n",
              "<table border=\"1\" class=\"dataframe\">\n",
              "  <thead>\n",
              "    <tr style=\"text-align: right;\">\n",
              "      <th></th>\n",
              "      <th>description</th>\n",
              "      <th>tokens</th>\n",
              "    </tr>\n",
              "  </thead>\n",
              "  <tbody>\n",
              "    <tr>\n",
              "      <th>0</th>\n",
              "      <td>Vichy IdÃƒalia Smooth &amp; Glow Energizing Moistu...</td>\n",
              "      <td>[vichy, idãƒalia, smooth, &amp;, glow, energizing,...</td>\n",
              "    </tr>\n",
              "    <tr>\n",
              "      <th>1</th>\n",
              "      <td>La Roche-Posay Pure Vitamin C Anti-Aging Face ...</td>\n",
              "      <td>[la, roche-posay, pure, vitamin, c, anti-aging...</td>\n",
              "    </tr>\n",
              "    <tr>\n",
              "      <th>2</th>\n",
              "      <td>Pure Nutrition Aloe Vera Moisturizing Day &amp; Ni...</td>\n",
              "      <td>[pure, nutrition, aloe, vera, moisturizing, da...</td>\n",
              "    </tr>\n",
              "    <tr>\n",
              "      <th>3</th>\n",
              "      <td>Vaseline Nourishing Face Facial Mask Sheet - S...</td>\n",
              "      <td>[vaseline, nourishing, face, facial, mask, she...</td>\n",
              "    </tr>\n",
              "    <tr>\n",
              "      <th>4</th>\n",
              "      <td>[By Wishtrend] Pro-Biome Balance Cream 1.69 Fl...</td>\n",
              "      <td>[[, wishtrend, ], pro-biome, balance, cream, 1...</td>\n",
              "    </tr>\n",
              "    <tr>\n",
              "      <th>...</th>\n",
              "      <td>...</td>\n",
              "      <td>...</td>\n",
              "    </tr>\n",
              "    <tr>\n",
              "      <th>6235</th>\n",
              "      <td>LOreal Paris Glycolic Bright Skin Brightening ...</td>\n",
              "      <td>[loreal, paris, glycolic, bright, skin, bright...</td>\n",
              "    </tr>\n",
              "    <tr>\n",
              "      <th>6236</th>\n",
              "      <td>L'Oreal® Paris RevitaLift® Volume Filler Moist...</td>\n",
              "      <td>[l'oreal®, paris, revitalift®, volume, filler,...</td>\n",
              "    </tr>\n",
              "    <tr>\n",
              "      <th>6237</th>\n",
              "      <td>It's Skin The Fresh Mask Sheet Lemon The Fresh...</td>\n",
              "      <td>['s, skin, fresh, mask, sheet, lemon, fresh, m...</td>\n",
              "    </tr>\n",
              "    <tr>\n",
              "      <th>6238</th>\n",
              "      <td>Blackhead Solutions by Clinique 7 Day Deep Por...</td>\n",
              "      <td>[blackhead, solutions, clinique, 7, day, deep,...</td>\n",
              "    </tr>\n",
              "    <tr>\n",
              "      <th>6239</th>\n",
              "      <td>Hand Soap What it is: A no-frills, thick-textu...</td>\n",
              "      <td>[hand, soap, :, no-frills, ,, thick-textured, ...</td>\n",
              "    </tr>\n",
              "  </tbody>\n",
              "</table>\n",
              "<p>6240 rows × 2 columns</p>\n",
              "</div>\n",
              "    <div class=\"colab-df-buttons\">\n",
              "\n",
              "  <div class=\"colab-df-container\">\n",
              "    <button class=\"colab-df-convert\" onclick=\"convertToInteractive('df-2cdb57f5-4c28-4f7e-87a6-36d0fd91267e')\"\n",
              "            title=\"Convert this dataframe to an interactive table.\"\n",
              "            style=\"display:none;\">\n",
              "\n",
              "  <svg xmlns=\"http://www.w3.org/2000/svg\" height=\"24px\" viewBox=\"0 -960 960 960\">\n",
              "    <path d=\"M120-120v-720h720v720H120Zm60-500h600v-160H180v160Zm220 220h160v-160H400v160Zm0 220h160v-160H400v160ZM180-400h160v-160H180v160Zm440 0h160v-160H620v160ZM180-180h160v-160H180v160Zm440 0h160v-160H620v160Z\"/>\n",
              "  </svg>\n",
              "    </button>\n",
              "\n",
              "  <style>\n",
              "    .colab-df-container {\n",
              "      display:flex;\n",
              "      gap: 12px;\n",
              "    }\n",
              "\n",
              "    .colab-df-convert {\n",
              "      background-color: #E8F0FE;\n",
              "      border: none;\n",
              "      border-radius: 50%;\n",
              "      cursor: pointer;\n",
              "      display: none;\n",
              "      fill: #1967D2;\n",
              "      height: 32px;\n",
              "      padding: 0 0 0 0;\n",
              "      width: 32px;\n",
              "    }\n",
              "\n",
              "    .colab-df-convert:hover {\n",
              "      background-color: #E2EBFA;\n",
              "      box-shadow: 0px 1px 2px rgba(60, 64, 67, 0.3), 0px 1px 3px 1px rgba(60, 64, 67, 0.15);\n",
              "      fill: #174EA6;\n",
              "    }\n",
              "\n",
              "    .colab-df-buttons div {\n",
              "      margin-bottom: 4px;\n",
              "    }\n",
              "\n",
              "    [theme=dark] .colab-df-convert {\n",
              "      background-color: #3B4455;\n",
              "      fill: #D2E3FC;\n",
              "    }\n",
              "\n",
              "    [theme=dark] .colab-df-convert:hover {\n",
              "      background-color: #434B5C;\n",
              "      box-shadow: 0px 1px 3px 1px rgba(0, 0, 0, 0.15);\n",
              "      filter: drop-shadow(0px 1px 2px rgba(0, 0, 0, 0.3));\n",
              "      fill: #FFFFFF;\n",
              "    }\n",
              "  </style>\n",
              "\n",
              "    <script>\n",
              "      const buttonEl =\n",
              "        document.querySelector('#df-2cdb57f5-4c28-4f7e-87a6-36d0fd91267e button.colab-df-convert');\n",
              "      buttonEl.style.display =\n",
              "        google.colab.kernel.accessAllowed ? 'block' : 'none';\n",
              "\n",
              "      async function convertToInteractive(key) {\n",
              "        const element = document.querySelector('#df-2cdb57f5-4c28-4f7e-87a6-36d0fd91267e');\n",
              "        const dataTable =\n",
              "          await google.colab.kernel.invokeFunction('convertToInteractive',\n",
              "                                                    [key], {});\n",
              "        if (!dataTable) return;\n",
              "\n",
              "        const docLinkHtml = 'Like what you see? Visit the ' +\n",
              "          '<a target=\"_blank\" href=https://colab.research.google.com/notebooks/data_table.ipynb>data table notebook</a>'\n",
              "          + ' to learn more about interactive tables.';\n",
              "        element.innerHTML = '';\n",
              "        dataTable['output_type'] = 'display_data';\n",
              "        await google.colab.output.renderOutput(dataTable, element);\n",
              "        const docLink = document.createElement('div');\n",
              "        docLink.innerHTML = docLinkHtml;\n",
              "        element.appendChild(docLink);\n",
              "      }\n",
              "    </script>\n",
              "  </div>\n",
              "\n",
              "\n",
              "<div id=\"df-921db245-21a4-4180-9fc5-abf4fd613caa\">\n",
              "  <button class=\"colab-df-quickchart\" onclick=\"quickchart('df-921db245-21a4-4180-9fc5-abf4fd613caa')\"\n",
              "            title=\"Suggest charts\"\n",
              "            style=\"display:none;\">\n",
              "\n",
              "<svg xmlns=\"http://www.w3.org/2000/svg\" height=\"24px\"viewBox=\"0 0 24 24\"\n",
              "     width=\"24px\">\n",
              "    <g>\n",
              "        <path d=\"M19 3H5c-1.1 0-2 .9-2 2v14c0 1.1.9 2 2 2h14c1.1 0 2-.9 2-2V5c0-1.1-.9-2-2-2zM9 17H7v-7h2v7zm4 0h-2V7h2v10zm4 0h-2v-4h2v4z\"/>\n",
              "    </g>\n",
              "</svg>\n",
              "  </button>\n",
              "\n",
              "<style>\n",
              "  .colab-df-quickchart {\n",
              "      --bg-color: #E8F0FE;\n",
              "      --fill-color: #1967D2;\n",
              "      --hover-bg-color: #E2EBFA;\n",
              "      --hover-fill-color: #174EA6;\n",
              "      --disabled-fill-color: #AAA;\n",
              "      --disabled-bg-color: #DDD;\n",
              "  }\n",
              "\n",
              "  [theme=dark] .colab-df-quickchart {\n",
              "      --bg-color: #3B4455;\n",
              "      --fill-color: #D2E3FC;\n",
              "      --hover-bg-color: #434B5C;\n",
              "      --hover-fill-color: #FFFFFF;\n",
              "      --disabled-bg-color: #3B4455;\n",
              "      --disabled-fill-color: #666;\n",
              "  }\n",
              "\n",
              "  .colab-df-quickchart {\n",
              "    background-color: var(--bg-color);\n",
              "    border: none;\n",
              "    border-radius: 50%;\n",
              "    cursor: pointer;\n",
              "    display: none;\n",
              "    fill: var(--fill-color);\n",
              "    height: 32px;\n",
              "    padding: 0;\n",
              "    width: 32px;\n",
              "  }\n",
              "\n",
              "  .colab-df-quickchart:hover {\n",
              "    background-color: var(--hover-bg-color);\n",
              "    box-shadow: 0 1px 2px rgba(60, 64, 67, 0.3), 0 1px 3px 1px rgba(60, 64, 67, 0.15);\n",
              "    fill: var(--button-hover-fill-color);\n",
              "  }\n",
              "\n",
              "  .colab-df-quickchart-complete:disabled,\n",
              "  .colab-df-quickchart-complete:disabled:hover {\n",
              "    background-color: var(--disabled-bg-color);\n",
              "    fill: var(--disabled-fill-color);\n",
              "    box-shadow: none;\n",
              "  }\n",
              "\n",
              "  .colab-df-spinner {\n",
              "    border: 2px solid var(--fill-color);\n",
              "    border-color: transparent;\n",
              "    border-bottom-color: var(--fill-color);\n",
              "    animation:\n",
              "      spin 1s steps(1) infinite;\n",
              "  }\n",
              "\n",
              "  @keyframes spin {\n",
              "    0% {\n",
              "      border-color: transparent;\n",
              "      border-bottom-color: var(--fill-color);\n",
              "      border-left-color: var(--fill-color);\n",
              "    }\n",
              "    20% {\n",
              "      border-color: transparent;\n",
              "      border-left-color: var(--fill-color);\n",
              "      border-top-color: var(--fill-color);\n",
              "    }\n",
              "    30% {\n",
              "      border-color: transparent;\n",
              "      border-left-color: var(--fill-color);\n",
              "      border-top-color: var(--fill-color);\n",
              "      border-right-color: var(--fill-color);\n",
              "    }\n",
              "    40% {\n",
              "      border-color: transparent;\n",
              "      border-right-color: var(--fill-color);\n",
              "      border-top-color: var(--fill-color);\n",
              "    }\n",
              "    60% {\n",
              "      border-color: transparent;\n",
              "      border-right-color: var(--fill-color);\n",
              "    }\n",
              "    80% {\n",
              "      border-color: transparent;\n",
              "      border-right-color: var(--fill-color);\n",
              "      border-bottom-color: var(--fill-color);\n",
              "    }\n",
              "    90% {\n",
              "      border-color: transparent;\n",
              "      border-bottom-color: var(--fill-color);\n",
              "    }\n",
              "  }\n",
              "</style>\n",
              "\n",
              "  <script>\n",
              "    async function quickchart(key) {\n",
              "      const quickchartButtonEl =\n",
              "        document.querySelector('#' + key + ' button');\n",
              "      quickchartButtonEl.disabled = true;  // To prevent multiple clicks.\n",
              "      quickchartButtonEl.classList.add('colab-df-spinner');\n",
              "      try {\n",
              "        const charts = await google.colab.kernel.invokeFunction(\n",
              "            'suggestCharts', [key], {});\n",
              "      } catch (error) {\n",
              "        console.error('Error during call to suggestCharts:', error);\n",
              "      }\n",
              "      quickchartButtonEl.classList.remove('colab-df-spinner');\n",
              "      quickchartButtonEl.classList.add('colab-df-quickchart-complete');\n",
              "    }\n",
              "    (() => {\n",
              "      let quickchartButtonEl =\n",
              "        document.querySelector('#df-921db245-21a4-4180-9fc5-abf4fd613caa button');\n",
              "      quickchartButtonEl.style.display =\n",
              "        google.colab.kernel.accessAllowed ? 'block' : 'none';\n",
              "    })();\n",
              "  </script>\n",
              "</div>\n",
              "\n",
              "    </div>\n",
              "  </div>\n"
            ],
            "application/vnd.google.colaboratory.intrinsic+json": {
              "type": "dataframe",
              "summary": "{\n  \"name\": \"df_loreal[[\\\"description\\\", \\\"tokens\\\"]]\",\n  \"rows\": 6240,\n  \"fields\": [\n    {\n      \"column\": \"description\",\n      \"properties\": {\n        \"dtype\": \"string\",\n        \"num_unique_values\": 6062,\n        \"samples\": [\n          \"Tonique Radiance Clarifying Exfoliating Toner 6.8 oz/200 ml Normal/Combination Skin 6.8 oz/200 ml\",\n          \"Antioxidant HydraMist Refresh with Dermalogica's flash firming Antioxidant HydraMist Toner. This toner improves skin texture, fights damaging free radical pollution and moisturizes dehydrated skin. Highly-active Vitamin C complex, Hyaluronic Acid and collagen-stimulating peptides encourage firmness and elasticity.\",\n          \"Plant Gold Nutri-Revitalizing Oil-Emulsion What it is: A two-in-one oil-emulsion in a dual-chamber bottle that blends the perfect balance of Blue Orchid Face Treatment Oil with a melting lotion. What it does: Skin is left intensely hydrated, nourished and radiant.  True to Clarins' commitment to green beauty, Plant Gold's lightweight, non-oily formula contains ingredients of 100% natural origin.  Aromatic blue orchid extract and patchouli essential oils visibly tone skin while renewing radiance and vitality.  A precious blend of hazelnut\\u2014rich in Omega 9 and vitamin E\\u2014along with sweet almond, macadamia and grape seed plant oils comfort, soften and nourish skin.  Wintergreen extract, an antimicrobial plant, acts as a natural preservative. Research results:In a satisfaction test on 110 women immediately after application:- 94% said skin was immediately nourished- 92% said skin was immediately comfortableAfter 15 days:- 92% noted a fine, lightweight texture- 82% said skin was radiant and more toned- 81% said the natural scent brought a feeling of well-being- 81% said skin was revitalizedHow to use: Smooth over a clean face in the morning.  Apply with gentle press-and-release motions, avoiding the eye contour area.  Work downward toward the neck and d\\u00e9colletage.\"\n        ],\n        \"semantic_type\": \"\",\n        \"description\": \"\"\n      }\n    },\n    {\n      \"column\": \"tokens\",\n      \"properties\": {\n        \"dtype\": \"object\",\n        \"semantic_type\": \"\",\n        \"description\": \"\"\n      }\n    }\n  ]\n}"
            }
          },
          "metadata": {},
          "execution_count": 5
        }
      ],
      "source": [
        "# ensure NLTK resources are downloaded\n",
        "nltk.download('punkt')\n",
        "nltk.download('stopwords')\n",
        "nltk.download('punkt_tab')\n",
        "\n",
        "# set the stop words to the English mode\n",
        "stop_words = set(stopwords.words('english'))\n",
        "\n",
        "# define a function for pre-processing\n",
        "def preprocess_text(text):\n",
        "    # Tokenize\n",
        "    tokens = word_tokenize(text.lower())\n",
        "    # Remove stopwords and non-alphabetic tokens\n",
        "    tokens = [word for word in tokens if word not in stop_words]  # remove stop words\n",
        "    return tokens\n",
        "\n",
        "# Apply preprocessing to the 'text_raw' column\n",
        "df_loreal[\"tokens\"] = df_loreal[\"description\"].apply(preprocess_text)\n",
        "\n",
        "# Display first few tokenized samples\n",
        "df_loreal[[\"description\", \"tokens\"]]"
      ]
    },
    {
      "cell_type": "code",
      "execution_count": 6,
      "metadata": {
        "colab": {
          "base_uri": "https://localhost:8080/"
        },
        "id": "fAqnlpkw_vjv",
        "outputId": "bf7c5d33-3587-4aa9-b802-f934d031ecb6"
      },
      "outputs": [
        {
          "output_type": "stream",
          "name": "stdout",
          "text": [
            "The number of unique tokens in the vocabulary: 24064\n"
          ]
        }
      ],
      "source": [
        "# build vocabulary\n",
        "all_tokens = [token for tokens in df_loreal['tokens'] for token in tokens]\n",
        "token_counts = Counter(all_tokens)\n",
        "print('The number of unique tokens in the vocabulary:', len(token_counts))"
      ]
    },
    {
      "cell_type": "code",
      "execution_count": null,
      "metadata": {
        "id": "qLxMK2wR_vjv"
      },
      "outputs": [],
      "source": [
        "from scipy.stats import norm\n",
        "\n",
        "# Assume token_counts is already defined from our vocabulary creation step:\n",
        "# token_counts = Counter(all_tokens)\n",
        "\n",
        "# Get an array of token frequencies\n",
        "frequencies = np.array(list(token_counts.values()))\n",
        "\n",
        "# Plot the histogram of token frequencies\n",
        "# plt.figure(figsize=(10, 6))\n",
        "# n, bins, patches = plt.hist(frequencies, bins=50, density=True, alpha=0.6, color='skyblue', edgecolor='black', label='Token Frequency Histogram')\n",
        "\n",
        "# # Fit a normal distribution to the frequency data\n",
        "# mu, sigma = norm.fit(frequencies)\n",
        "# print(f\"Fitted Normal Distribution: mu = {mu:.2f}, sigma = {sigma:.2f}\")\n",
        "\n",
        "# # Set the x-axis maximum to 10,000\n",
        "# xmin, _ = plt.xlim()\n",
        "# xmax = 5000\n",
        "# plt.xlim(xmin, xmax)\n",
        "\n",
        "# # Create a range of values for plotting the PDF of the fitted normal distribution\n",
        "# x = np.linspace(xmin, xmax, 100)\n",
        "# p = norm.pdf(x, mu, sigma)\n",
        "\n",
        "# # Plot the fitted normal distribution curve\n",
        "# plt.plot(x, p, 'r', linewidth=2, label=f'Normal fit (mu={mu:.2f}, sigma={sigma:.2f})')\n",
        "# plt.xlabel('Token Frequency')\n",
        "# plt.ylabel('Density')\n",
        "# plt.title('Token Frequency Distribution with Fitted Normal Curve')\n",
        "# plt.legend()\n",
        "# plt.show()\n",
        "\n"
      ]
    },
    {
      "cell_type": "code",
      "execution_count": 7,
      "metadata": {
        "colab": {
          "base_uri": "https://localhost:8080/",
          "height": 206
        },
        "id": "BVNGn68D_vjw",
        "outputId": "056158d6-65d1-4429-f126-163f828c5453"
      },
      "outputs": [
        {
          "output_type": "execute_result",
          "data": {
            "text/plain": [
              "                                         description  \\\n",
              "0  Vichy IdÃƒalia Smooth & Glow Energizing Moistu...   \n",
              "1  La Roche-Posay Pure Vitamin C Anti-Aging Face ...   \n",
              "2  Pure Nutrition Aloe Vera Moisturizing Day & Ni...   \n",
              "3  Vaseline Nourishing Face Facial Mask Sheet - S...   \n",
              "4  [By Wishtrend] Pro-Biome Balance Cream 1.69 Fl...   \n",
              "\n",
              "                                              tokens  \\\n",
              "0  [vichy, idãƒalia, smooth, &, glow, energizing,...   \n",
              "1  [la, roche-posay, pure, vitamin, c, anti-aging...   \n",
              "2  [pure, nutrition, aloe, vera, moisturizing, da...   \n",
              "3  [vaseline, nourishing, face, facial, mask, she...   \n",
              "4  [[, wishtrend, ], pro-biome, balance, cream, 1...   \n",
              "\n",
              "                                      encoded_tokens  \n",
              "0  [544, 12863, 42, 14, 109, 756, 20, 2, 1192, 84...  \n",
              "1  [233, 307, 117, 24, 53, 99, 6, 16, 1500, 1539,...  \n",
              "2  [117, 1243, 154, 273, 76, 40, 14, 59, 7, 262, ...  \n",
              "3  [1849, 215, 6, 31, 28, 230, 9, 4, 47, 189, 2, ...  \n",
              "4  [1054, 7854, 946, 6795, 279, 7, 1192, 84, 17, ...  "
            ],
            "text/html": [
              "\n",
              "  <div id=\"df-e02fe6c5-b6d6-4cf7-ae83-b3100c57baa3\" class=\"colab-df-container\">\n",
              "    <div>\n",
              "<style scoped>\n",
              "    .dataframe tbody tr th:only-of-type {\n",
              "        vertical-align: middle;\n",
              "    }\n",
              "\n",
              "    .dataframe tbody tr th {\n",
              "        vertical-align: top;\n",
              "    }\n",
              "\n",
              "    .dataframe thead th {\n",
              "        text-align: right;\n",
              "    }\n",
              "</style>\n",
              "<table border=\"1\" class=\"dataframe\">\n",
              "  <thead>\n",
              "    <tr style=\"text-align: right;\">\n",
              "      <th></th>\n",
              "      <th>description</th>\n",
              "      <th>tokens</th>\n",
              "      <th>encoded_tokens</th>\n",
              "    </tr>\n",
              "  </thead>\n",
              "  <tbody>\n",
              "    <tr>\n",
              "      <th>0</th>\n",
              "      <td>Vichy IdÃƒalia Smooth &amp; Glow Energizing Moistu...</td>\n",
              "      <td>[vichy, idãƒalia, smooth, &amp;, glow, energizing,...</td>\n",
              "      <td>[544, 12863, 42, 14, 109, 756, 20, 2, 1192, 84...</td>\n",
              "    </tr>\n",
              "    <tr>\n",
              "      <th>1</th>\n",
              "      <td>La Roche-Posay Pure Vitamin C Anti-Aging Face ...</td>\n",
              "      <td>[la, roche-posay, pure, vitamin, c, anti-aging...</td>\n",
              "      <td>[233, 307, 117, 24, 53, 99, 6, 16, 1500, 1539,...</td>\n",
              "    </tr>\n",
              "    <tr>\n",
              "      <th>2</th>\n",
              "      <td>Pure Nutrition Aloe Vera Moisturizing Day &amp; Ni...</td>\n",
              "      <td>[pure, nutrition, aloe, vera, moisturizing, da...</td>\n",
              "      <td>[117, 1243, 154, 273, 76, 40, 14, 59, 7, 262, ...</td>\n",
              "    </tr>\n",
              "    <tr>\n",
              "      <th>3</th>\n",
              "      <td>Vaseline Nourishing Face Facial Mask Sheet - S...</td>\n",
              "      <td>[vaseline, nourishing, face, facial, mask, she...</td>\n",
              "      <td>[1849, 215, 6, 31, 28, 230, 9, 4, 47, 189, 2, ...</td>\n",
              "    </tr>\n",
              "    <tr>\n",
              "      <th>4</th>\n",
              "      <td>[By Wishtrend] Pro-Biome Balance Cream 1.69 Fl...</td>\n",
              "      <td>[[, wishtrend, ], pro-biome, balance, cream, 1...</td>\n",
              "      <td>[1054, 7854, 946, 6795, 279, 7, 1192, 84, 17, ...</td>\n",
              "    </tr>\n",
              "  </tbody>\n",
              "</table>\n",
              "</div>\n",
              "    <div class=\"colab-df-buttons\">\n",
              "\n",
              "  <div class=\"colab-df-container\">\n",
              "    <button class=\"colab-df-convert\" onclick=\"convertToInteractive('df-e02fe6c5-b6d6-4cf7-ae83-b3100c57baa3')\"\n",
              "            title=\"Convert this dataframe to an interactive table.\"\n",
              "            style=\"display:none;\">\n",
              "\n",
              "  <svg xmlns=\"http://www.w3.org/2000/svg\" height=\"24px\" viewBox=\"0 -960 960 960\">\n",
              "    <path d=\"M120-120v-720h720v720H120Zm60-500h600v-160H180v160Zm220 220h160v-160H400v160Zm0 220h160v-160H400v160ZM180-400h160v-160H180v160Zm440 0h160v-160H620v160ZM180-180h160v-160H180v160Zm440 0h160v-160H620v160Z\"/>\n",
              "  </svg>\n",
              "    </button>\n",
              "\n",
              "  <style>\n",
              "    .colab-df-container {\n",
              "      display:flex;\n",
              "      gap: 12px;\n",
              "    }\n",
              "\n",
              "    .colab-df-convert {\n",
              "      background-color: #E8F0FE;\n",
              "      border: none;\n",
              "      border-radius: 50%;\n",
              "      cursor: pointer;\n",
              "      display: none;\n",
              "      fill: #1967D2;\n",
              "      height: 32px;\n",
              "      padding: 0 0 0 0;\n",
              "      width: 32px;\n",
              "    }\n",
              "\n",
              "    .colab-df-convert:hover {\n",
              "      background-color: #E2EBFA;\n",
              "      box-shadow: 0px 1px 2px rgba(60, 64, 67, 0.3), 0px 1px 3px 1px rgba(60, 64, 67, 0.15);\n",
              "      fill: #174EA6;\n",
              "    }\n",
              "\n",
              "    .colab-df-buttons div {\n",
              "      margin-bottom: 4px;\n",
              "    }\n",
              "\n",
              "    [theme=dark] .colab-df-convert {\n",
              "      background-color: #3B4455;\n",
              "      fill: #D2E3FC;\n",
              "    }\n",
              "\n",
              "    [theme=dark] .colab-df-convert:hover {\n",
              "      background-color: #434B5C;\n",
              "      box-shadow: 0px 1px 3px 1px rgba(0, 0, 0, 0.15);\n",
              "      filter: drop-shadow(0px 1px 2px rgba(0, 0, 0, 0.3));\n",
              "      fill: #FFFFFF;\n",
              "    }\n",
              "  </style>\n",
              "\n",
              "    <script>\n",
              "      const buttonEl =\n",
              "        document.querySelector('#df-e02fe6c5-b6d6-4cf7-ae83-b3100c57baa3 button.colab-df-convert');\n",
              "      buttonEl.style.display =\n",
              "        google.colab.kernel.accessAllowed ? 'block' : 'none';\n",
              "\n",
              "      async function convertToInteractive(key) {\n",
              "        const element = document.querySelector('#df-e02fe6c5-b6d6-4cf7-ae83-b3100c57baa3');\n",
              "        const dataTable =\n",
              "          await google.colab.kernel.invokeFunction('convertToInteractive',\n",
              "                                                    [key], {});\n",
              "        if (!dataTable) return;\n",
              "\n",
              "        const docLinkHtml = 'Like what you see? Visit the ' +\n",
              "          '<a target=\"_blank\" href=https://colab.research.google.com/notebooks/data_table.ipynb>data table notebook</a>'\n",
              "          + ' to learn more about interactive tables.';\n",
              "        element.innerHTML = '';\n",
              "        dataTable['output_type'] = 'display_data';\n",
              "        await google.colab.output.renderOutput(dataTable, element);\n",
              "        const docLink = document.createElement('div');\n",
              "        docLink.innerHTML = docLinkHtml;\n",
              "        element.appendChild(docLink);\n",
              "      }\n",
              "    </script>\n",
              "  </div>\n",
              "\n",
              "\n",
              "<div id=\"df-3afe36e6-7b23-469c-a943-f6c629c62c09\">\n",
              "  <button class=\"colab-df-quickchart\" onclick=\"quickchart('df-3afe36e6-7b23-469c-a943-f6c629c62c09')\"\n",
              "            title=\"Suggest charts\"\n",
              "            style=\"display:none;\">\n",
              "\n",
              "<svg xmlns=\"http://www.w3.org/2000/svg\" height=\"24px\"viewBox=\"0 0 24 24\"\n",
              "     width=\"24px\">\n",
              "    <g>\n",
              "        <path d=\"M19 3H5c-1.1 0-2 .9-2 2v14c0 1.1.9 2 2 2h14c1.1 0 2-.9 2-2V5c0-1.1-.9-2-2-2zM9 17H7v-7h2v7zm4 0h-2V7h2v10zm4 0h-2v-4h2v4z\"/>\n",
              "    </g>\n",
              "</svg>\n",
              "  </button>\n",
              "\n",
              "<style>\n",
              "  .colab-df-quickchart {\n",
              "      --bg-color: #E8F0FE;\n",
              "      --fill-color: #1967D2;\n",
              "      --hover-bg-color: #E2EBFA;\n",
              "      --hover-fill-color: #174EA6;\n",
              "      --disabled-fill-color: #AAA;\n",
              "      --disabled-bg-color: #DDD;\n",
              "  }\n",
              "\n",
              "  [theme=dark] .colab-df-quickchart {\n",
              "      --bg-color: #3B4455;\n",
              "      --fill-color: #D2E3FC;\n",
              "      --hover-bg-color: #434B5C;\n",
              "      --hover-fill-color: #FFFFFF;\n",
              "      --disabled-bg-color: #3B4455;\n",
              "      --disabled-fill-color: #666;\n",
              "  }\n",
              "\n",
              "  .colab-df-quickchart {\n",
              "    background-color: var(--bg-color);\n",
              "    border: none;\n",
              "    border-radius: 50%;\n",
              "    cursor: pointer;\n",
              "    display: none;\n",
              "    fill: var(--fill-color);\n",
              "    height: 32px;\n",
              "    padding: 0;\n",
              "    width: 32px;\n",
              "  }\n",
              "\n",
              "  .colab-df-quickchart:hover {\n",
              "    background-color: var(--hover-bg-color);\n",
              "    box-shadow: 0 1px 2px rgba(60, 64, 67, 0.3), 0 1px 3px 1px rgba(60, 64, 67, 0.15);\n",
              "    fill: var(--button-hover-fill-color);\n",
              "  }\n",
              "\n",
              "  .colab-df-quickchart-complete:disabled,\n",
              "  .colab-df-quickchart-complete:disabled:hover {\n",
              "    background-color: var(--disabled-bg-color);\n",
              "    fill: var(--disabled-fill-color);\n",
              "    box-shadow: none;\n",
              "  }\n",
              "\n",
              "  .colab-df-spinner {\n",
              "    border: 2px solid var(--fill-color);\n",
              "    border-color: transparent;\n",
              "    border-bottom-color: var(--fill-color);\n",
              "    animation:\n",
              "      spin 1s steps(1) infinite;\n",
              "  }\n",
              "\n",
              "  @keyframes spin {\n",
              "    0% {\n",
              "      border-color: transparent;\n",
              "      border-bottom-color: var(--fill-color);\n",
              "      border-left-color: var(--fill-color);\n",
              "    }\n",
              "    20% {\n",
              "      border-color: transparent;\n",
              "      border-left-color: var(--fill-color);\n",
              "      border-top-color: var(--fill-color);\n",
              "    }\n",
              "    30% {\n",
              "      border-color: transparent;\n",
              "      border-left-color: var(--fill-color);\n",
              "      border-top-color: var(--fill-color);\n",
              "      border-right-color: var(--fill-color);\n",
              "    }\n",
              "    40% {\n",
              "      border-color: transparent;\n",
              "      border-right-color: var(--fill-color);\n",
              "      border-top-color: var(--fill-color);\n",
              "    }\n",
              "    60% {\n",
              "      border-color: transparent;\n",
              "      border-right-color: var(--fill-color);\n",
              "    }\n",
              "    80% {\n",
              "      border-color: transparent;\n",
              "      border-right-color: var(--fill-color);\n",
              "      border-bottom-color: var(--fill-color);\n",
              "    }\n",
              "    90% {\n",
              "      border-color: transparent;\n",
              "      border-bottom-color: var(--fill-color);\n",
              "    }\n",
              "  }\n",
              "</style>\n",
              "\n",
              "  <script>\n",
              "    async function quickchart(key) {\n",
              "      const quickchartButtonEl =\n",
              "        document.querySelector('#' + key + ' button');\n",
              "      quickchartButtonEl.disabled = true;  // To prevent multiple clicks.\n",
              "      quickchartButtonEl.classList.add('colab-df-spinner');\n",
              "      try {\n",
              "        const charts = await google.colab.kernel.invokeFunction(\n",
              "            'suggestCharts', [key], {});\n",
              "      } catch (error) {\n",
              "        console.error('Error during call to suggestCharts:', error);\n",
              "      }\n",
              "      quickchartButtonEl.classList.remove('colab-df-spinner');\n",
              "      quickchartButtonEl.classList.add('colab-df-quickchart-complete');\n",
              "    }\n",
              "    (() => {\n",
              "      let quickchartButtonEl =\n",
              "        document.querySelector('#df-3afe36e6-7b23-469c-a943-f6c629c62c09 button');\n",
              "      quickchartButtonEl.style.display =\n",
              "        google.colab.kernel.accessAllowed ? 'block' : 'none';\n",
              "    })();\n",
              "  </script>\n",
              "</div>\n",
              "\n",
              "    </div>\n",
              "  </div>\n"
            ],
            "application/vnd.google.colaboratory.intrinsic+json": {
              "type": "dataframe",
              "summary": "{\n  \"name\": \"df_loreal[[\\\"description\\\", \\\"tokens\\\", \\\"encoded_tokens\\\"]]\",\n  \"rows\": 5,\n  \"fields\": [\n    {\n      \"column\": \"description\",\n      \"properties\": {\n        \"dtype\": \"string\",\n        \"num_unique_values\": 5,\n        \"samples\": [\n          \"La Roche-Posay Pure Vitamin C Anti-Aging Face Serum 1.0 FL.OZ La Roche-Posay Vitamin C Serum is Pure Vitamin C 10% anti-aging face and neck serum that leaves skin more radiant, softer, and hydrated. As a result, wrinkles look visibly reduced and skin texture and tone are more even and refined. This serum combines concentrated 10% pure Vitamin C, salicylic acid and neurosensine for optimal effectiveness while also being suitable for sensitive skin.  Rich Vitamin C serum texture hydrates skin and visibly boosts radiance and leaves skin feeling softer and more hydrated  Use alone or as an added boost to your favorite moisturizer. Formula with fragrance  Suitable for sensitive skin and free of oil and paraben. Dermatologist-tested\",\n          \"[By Wishtrend] Pro-Biome Balance Cream 1.69 Fl oz, 50ml, 10% Propolis, Face cream for oily skin, Improves the skin barrier, Rich in antioxidant, Light texture ideal for sensitive, troubled skin, Probiotics Moisturizer (Pro-Biome Balance Cream) 70% Lactobacillus Ferment Lysate : Helps with preventing breakout and skin moisturization 10% Propolis Extract : An agent to protect the skin against breakout and soothes the problematic skin Pro-Biome Complex (Saccharomyces/Honey Ferment Filtrate, Bifida Ferment Lysate, Lactococcus Ferment Lysate) : Helps to moisturize skin and strengthen skin barrier for healthy skin\",\n          \"Pure Nutrition Aloe Vera Moisturizing Day & Night Cream Deeply Nourishes & Polishes Skin - 60gm Pure Nutrition ALOVERA Cream is enriched with standardized aloe vera juice, which has excellent hydration properties and works on fine lines. The aloe vera cream is rich in antioxidants such as beta carotene, vitamin C, and vitamin E that help in improving the skin\\u2019s natural firmness, thereby improving skin elasticity. Its anti-acne properties prevent the appearance of acne and blemishes. Pure Nutrition aloe vera cream for skin helps relieve inflammation and irritation caused by environmental pollutants and harmful sun rays. It contains mandarin clear and acne-buster. It also improves skin brightness and forms an even and firm stratum corneum layer. Additionally, this aloe vera cream for women and men is made from natural ingredients, making it safe and effective.\"\n        ],\n        \"semantic_type\": \"\",\n        \"description\": \"\"\n      }\n    },\n    {\n      \"column\": \"tokens\",\n      \"properties\": {\n        \"dtype\": \"object\",\n        \"semantic_type\": \"\",\n        \"description\": \"\"\n      }\n    },\n    {\n      \"column\": \"encoded_tokens\",\n      \"properties\": {\n        \"dtype\": \"object\",\n        \"semantic_type\": \"\",\n        \"description\": \"\"\n      }\n    }\n  ]\n}"
            }
          },
          "metadata": {},
          "execution_count": 7
        }
      ],
      "source": [
        "# Set vocabulary size (excluding special tokens)\n",
        "vocab_size = 24064  # Adjust as needed\n",
        "\n",
        "# Keep only the most common words (excluding special tokens)\n",
        "common_tokens = token_counts.most_common(vocab_size - 2)  # Reserve space for <PAD> and <UNK>\n",
        "\n",
        "# Create token-to-index mappings\n",
        "token_to_idx = {token: idx + 2 for idx, (token, _) in enumerate(common_tokens)}\n",
        "\n",
        "# Special tokens\n",
        "token_to_idx[\"<PAD>\"] = 0  # Padding token\n",
        "token_to_idx[\"<UNK>\"] = 1  # Unknown token\n",
        "\n",
        "# Create index-to-token mapping (for decoding)\n",
        "idx_to_token = {idx: token for token, idx in token_to_idx.items()}\n",
        "\n",
        "# Define a function to encode tokens into integer sequences\n",
        "def encode_tokens(tokens):\n",
        "    return [token_to_idx.get(token, token_to_idx[\"<UNK>\"]) for token in tokens]\n",
        "\n",
        "# Apply encoding to the dataset\n",
        "df_loreal[\"encoded_tokens\"] = df_loreal[\"tokens\"].apply(encode_tokens)\n",
        "\n",
        "# Display first few rows with encoded tokens\n",
        "df_loreal[[\"description\", \"tokens\", \"encoded_tokens\"]].head()"
      ]
    },
    {
      "cell_type": "code",
      "execution_count": 40,
      "metadata": {
        "id": "1Cl7H8Ru_vjw"
      },
      "outputs": [],
      "source": [
        "# Define a custom Dataset class\n",
        "class LOREALMultiLabelDataset(Dataset):\n",
        "    def __init__(self, encoded_tokens_list, labels):\n",
        "        self.encoded_tokens_list = encoded_tokens_list\n",
        "        self.labels = labels\n",
        "\n",
        "    def __len__(self):\n",
        "        return len(self.encoded_tokens_list)\n",
        "\n",
        "    def __getitem__(self, idx):\n",
        "        X = self.encoded_tokens_list[idx]\n",
        "        y = self.labels[idx]\n",
        "\n",
        "        # Convert to PyTorch tensors\n",
        "        X = torch.tensor(X, dtype=torch.long)\n",
        "        y = torch.tensor(y, dtype=torch.float)  # Multi-label classification requires float\n",
        "\n",
        "        return X, y\n",
        "\n",
        "# Define a collate function to handle variable sequence lengths\n",
        "def collate_batch(batch):\n",
        "    batch_X, batch_y, batch_length = [], [], []\n",
        "\n",
        "    for (X, y) in batch:\n",
        "        batch_X.append(X)\n",
        "        batch_y.append(y)\n",
        "        batch_length.append(len(X))\n",
        "\n",
        "    # Convert batch_length to tensor\n",
        "    batch_length = torch.tensor(batch_length, dtype=torch.int64)\n",
        "    batch_y = torch.stack(batch_y)  # Stack labels into a tensor\n",
        "\n",
        "    # Pad sequences to equal length\n",
        "    batch_X = pad_sequence(batch_X, batch_first=True)\n",
        "\n",
        "    return batch_X, batch_y, batch_length"
      ]
    },
    {
      "cell_type": "code",
      "execution_count": 68,
      "metadata": {
        "id": "x_Tejhsl_vjw"
      },
      "outputs": [],
      "source": [
        "\n",
        "# Create a single dataset instance from your encoded tokens and multi-label targets\n",
        "ds = LOREALMultiLabelDataset(\n",
        "    df_loreal[\"encoded_tokens\"].tolist(),\n",
        "    df_loreal.iloc[:, 1:34].values  # columns 2 to 33 for labels\n",
        ")\n",
        "train_val_ds, test_ds = random_split(ds, [0.8, 0.2])\n",
        "train_ds, val_ds = random_split(train_val_ds, [0.8, 0.2])"
      ]
    },
    {
      "cell_type": "code",
      "execution_count": 69,
      "metadata": {
        "colab": {
          "base_uri": "https://localhost:8080/"
        },
        "id": "3d0OCHTL_vjw",
        "outputId": "8584c5c8-2d5b-410c-d154-34be21150776"
      },
      "outputs": [
        {
          "output_type": "stream",
          "name": "stdout",
          "text": [
            "Train dataset size: 3994\n",
            "Validation dataset size: 998\n",
            "Test dataset size: 1248\n"
          ]
        }
      ],
      "source": [
        "# Define batch size\n",
        "batch_size = 32\n",
        "\n",
        "# Create DataLoader instances\n",
        "train_dl = DataLoader(train_ds, batch_size=batch_size, shuffle=True, collate_fn=collate_batch)\n",
        "val_dl = DataLoader(val_ds, batch_size=batch_size, shuffle=False, collate_fn=collate_batch)\n",
        "test_dl = DataLoader(test_ds, batch_size=batch_size, shuffle=False, collate_fn=collate_batch)\n",
        "\n",
        "# Display dataset statistics\n",
        "print(f\"Train dataset size: {len(train_ds)}\")\n",
        "print(f\"Validation dataset size: {len(val_ds)}\")\n",
        "print(f\"Test dataset size: {len(test_ds)}\")"
      ]
    },
    {
      "cell_type": "code",
      "execution_count": 70,
      "metadata": {
        "id": "HEZHkTuf_vjw"
      },
      "outputs": [],
      "source": [
        "import torch.nn as nn\n",
        "\n",
        "import torch\n",
        "import torch.nn as nn\n",
        "from torch.nn.utils.rnn import pack_padded_sequence, pad_packed_sequence\n",
        "\n",
        "class MultiLabelBiLSTM(nn.Module):\n",
        "    def __init__(self, vocab_size, embed_size, hidden_size, num_classes, num_layers=1, dropout=0.3):\n",
        "        super(MultiLabelBiLSTM, self).__init__()\n",
        "\n",
        "        # Embedding layer\n",
        "        self.embedding = nn.Embedding(vocab_size, embed_size)\n",
        "        self.dropout = nn.Dropout(dropout)\n",
        "\n",
        "        # Bidirectional LSTM layer\n",
        "        # When using bidirectional=True, the hidden state size is doubled.\n",
        "        self.lstm = nn.LSTM(\n",
        "            embed_size,\n",
        "            hidden_size,\n",
        "            num_layers=num_layers,\n",
        "            batch_first=True,\n",
        "            bidirectional=True,\n",
        "            dropout=dropout if num_layers > 1 else 0\n",
        "        )\n",
        "\n",
        "        # Fully connected layer: input size is hidden_size*2 due to bidirectionality\n",
        "        self.fc = nn.Linear(hidden_size * 2, num_classes)\n",
        "\n",
        "    def forward(self, x, lengths):\n",
        "        # x: [batch_size, seq_len]\n",
        "        # Convert token IDs to embeddings and apply dropout\n",
        "        x = self.dropout(self.embedding(x))\n",
        "\n",
        "        # Pack the padded sequence for efficient processing by the LSTM\n",
        "        packed_x = pack_padded_sequence(x, lengths.cpu(), batch_first=True, enforce_sorted=False)\n",
        "        packed_out, (h, c) = self.lstm(packed_x)\n",
        "\n",
        "        # Option 1: Use the concatenation of the last hidden states from both directions.\n",
        "        # h: [num_layers*2, batch_size, hidden_size]\n",
        "        # For a bidirectional LSTM, the last layer's forward hidden state is h[-2] and the backward is h[-1].\n",
        "        h_forward = h[-2, :, :]\n",
        "        h_backward = h[-1, :, :]\n",
        "        h_final = torch.cat((h_forward, h_backward), dim=1)\n",
        "\n",
        "        # Option 2: Alternatively, you can use max pooling over time.\n",
        "        # Uncomment the following lines if you want to try pooling instead:\n",
        "        # out, _ = pad_packed_sequence(packed_out, batch_first=True)\n",
        "        # h_final, _ = torch.max(out, dim=1)\n",
        "\n",
        "        # Fully connected layer; note that no sigmoid is applied here.\n",
        "        # Use BCEWithLogitsLoss during training.\n",
        "        logits = self.fc(h_final)\n",
        "        return logits\n",
        "\n"
      ]
    },
    {
      "cell_type": "code",
      "execution_count": 16,
      "metadata": {
        "colab": {
          "base_uri": "https://localhost:8080/"
        },
        "id": "tEdXukNe_vjw",
        "outputId": "9988b9bf-8979-4bd8-ae64-c61024d1f130"
      },
      "outputs": [
        {
          "output_type": "stream",
          "name": "stdout",
          "text": [
            "33\n"
          ]
        }
      ],
      "source": [
        "# Debug\n",
        "print(num_classes)"
      ]
    },
    {
      "cell_type": "code",
      "execution_count": 71,
      "metadata": {
        "colab": {
          "base_uri": "https://localhost:8080/"
        },
        "id": "1FbcbRLH_vjx",
        "outputId": "74522d04-c16f-43cc-848a-b13162376d02"
      },
      "outputs": [
        {
          "output_type": "stream",
          "name": "stdout",
          "text": [
            "MultiLabelBiLSTM(\n",
            "  (embedding): Embedding(24064, 200)\n",
            "  (dropout): Dropout(p=0.3, inplace=False)\n",
            "  (lstm): LSTM(200, 256, batch_first=True, bidirectional=True)\n",
            "  (fc): Linear(in_features=512, out_features=33, bias=True)\n",
            ")\n"
          ]
        }
      ],
      "source": [
        "# Define model parameters\n",
        "embed_size = 200\n",
        "hidden_size = 256\n",
        "num_layers = 1\n",
        "dropout = 0.3\n",
        "\n",
        "# Create the model instance\n",
        "model = MultiLabelBiLSTM(vocab_size, embed_size, hidden_size, num_classes, num_layers, dropout)\n",
        "\n",
        "# Move model to computation device (GPU if available)\n",
        "device = torch.device(\"cuda\" if torch.cuda.is_available() else \"cpu\")\n",
        "model = model.to(device)\n",
        "\n",
        "# Print model architecture\n",
        "print(model)"
      ]
    },
    {
      "cell_type": "code",
      "execution_count": 72,
      "metadata": {
        "id": "-sPEg7Tj_vjx"
      },
      "outputs": [],
      "source": [
        "# define the training function\n",
        "def train(\n",
        "    train_dl,\n",
        "    val_dl,\n",
        "    model,\n",
        "    loss_fn,\n",
        "    optimizer,\n",
        "    epochs,\n",
        "    early_stopping_patience,\n",
        "    lr_scheduler,\n",
        "    saved_path_prefix\n",
        "):\n",
        "    # initialization\n",
        "    min_val_loss = np.inf\n",
        "    patience_counter = 0\n",
        "    histories = {\n",
        "        'train_batch': [],\n",
        "        'train_epoch': [],\n",
        "        'val_batch': [],\n",
        "        'val_epoch': []\n",
        "    }\n",
        "    saved_path = ''\n",
        "    start_time = datetime.datetime.now()\n",
        "\n",
        "    # start training\n",
        "    for epoch in range(epochs):\n",
        "        # train set\n",
        "        train_epoch_loss = 0.0\n",
        "        model.train()\n",
        "        for X, y, lens in tqdm(train_dl, desc = f'Training batch\\t'): # tqdm progress bar\n",
        "            X, y, lens = X.to(device), y.to(device), lens.to(device)\n",
        "            logits = model(X, lens)\n",
        "            train_batch_loss = loss_fn(logits, y)\n",
        "            train_batch_loss.backward()\n",
        "            optimizer.step()\n",
        "            optimizer.zero_grad()\n",
        "            histories['train_batch'].append(train_batch_loss.item())\n",
        "            train_epoch_loss += train_batch_loss.item()\n",
        "        train_epoch_loss /= len(train_dl)\n",
        "        histories['train_epoch'].append(train_epoch_loss)\n",
        "\n",
        "        # validation set\n",
        "        val_epoch_loss = 0.0\n",
        "        model.eval()\n",
        "        with torch.no_grad():\n",
        "            for X, y, lens in tqdm(val_dl, desc = f'Validation batch'): # tqdm progress bar\n",
        "                X, y, lens = X.to(device), y.to(device), lens.to(device)\n",
        "                logits = model(X, lens)\n",
        "                val_batch_loss = loss_fn(logits, y)\n",
        "                histories['val_batch'].append(val_batch_loss.item())\n",
        "                val_epoch_loss += val_batch_loss.item()\n",
        "            val_epoch_loss /= len(val_dl)\n",
        "            histories['val_epoch'].append(val_epoch_loss)\n",
        "\n",
        "        # print log\n",
        "        end_time = datetime.datetime.now()\n",
        "        time_consumed = str(end_time - start_time).split('.')[0]\n",
        "        print(f\"Epoch {epoch + 1}: train loss = {train_epoch_loss:>5f}, val loss = {val_epoch_loss:>5f}, time consumed = {time_consumed}\")\n",
        "\n",
        "        # learning rate decay\n",
        "        current_lr = optimizer.param_groups[0]['lr']\n",
        "        lr_scheduler.step(val_epoch_loss)\n",
        "        new_lr = optimizer.param_groups[0]['lr']\n",
        "        if current_lr != new_lr:\n",
        "            print(f'Learning rate reduced after epoch {epoch+1}\\n')\n",
        "\n",
        "        # early stopping\n",
        "        if val_epoch_loss < min_val_loss:\n",
        "            if os.path.exists(saved_path):\n",
        "                os.remove(saved_path)\n",
        "            time_str = datetime.datetime.now().strftime(\"%Y-%m-%d_%H-%M-%S\")\n",
        "            saved_path = saved_path_prefix + f'_epoch_{epoch+1}_val_loss_{val_epoch_loss:>4f}_{time_str}.pth'\n",
        "            torch.save(model.state_dict(), saved_path)\n",
        "            print(f'Model saved after epoch {epoch+1}')\n",
        "            patience_counter += 1\n",
        "            if (val_epoch_loss + 0.00009) < min_val_loss:\n",
        "                patience_counter = 0\n",
        "                print('Reset patience counter\\n')\n",
        "            min_val_loss = val_epoch_loss\n",
        "        else:\n",
        "            patience_counter += 1\n",
        "        if patience_counter >= early_stopping_patience:\n",
        "            print('Early stopping!')\n",
        "            break\n",
        "    return histories, saved_path"
      ]
    },
    {
      "cell_type": "code",
      "execution_count": 73,
      "metadata": {
        "id": "yZaMqe0y_vjx"
      },
      "outputs": [],
      "source": [
        "# define the training hyper-parameters\n",
        "loss_fn = nn.BCEWithLogitsLoss()\n",
        "learning_rate = 1e-1\n",
        "weight_decay = 1e-6\n",
        "optimizer = torch.optim.SGD(\n",
        "    model.parameters(),\n",
        "    lr = learning_rate,\n",
        "    weight_decay = weight_decay\n",
        ")\n",
        "epochs = 500\n",
        "early_stopping_patience = 5\n",
        "lr_scheduler = torch.optim.lr_scheduler.ReduceLROnPlateau(\n",
        "    optimizer,\n",
        "    mode = 'min',\n",
        "    factor = 0.1,\n",
        "    patience = 2\n",
        ")\n",
        "saved_path_prefix = 'loreal_product_classifier'"
      ]
    },
    {
      "cell_type": "code",
      "execution_count": 74,
      "metadata": {
        "colab": {
          "base_uri": "https://localhost:8080/"
        },
        "id": "ykv_qNVU_vjx",
        "outputId": "a902a8dc-4e30-40d4-9d38-d24a7edc32f7"
      },
      "outputs": [
        {
          "output_type": "stream",
          "name": "stderr",
          "text": [
            "Training batch\t: 100%|██████████| 125/125 [00:03<00:00, 40.51it/s]\n",
            "Validation batch: 100%|██████████| 32/32 [00:00<00:00, 126.81it/s]\n"
          ]
        },
        {
          "output_type": "stream",
          "name": "stdout",
          "text": [
            "Epoch 1: train loss = 0.627145, val loss = 0.548066, time consumed = 0:00:03\n",
            "Model saved after epoch 1\n",
            "Reset patience counter\n",
            "\n"
          ]
        },
        {
          "output_type": "stream",
          "name": "stderr",
          "text": [
            "Training batch\t: 100%|██████████| 125/125 [00:03<00:00, 35.21it/s]\n",
            "Validation batch: 100%|██████████| 32/32 [00:00<00:00, 115.48it/s]\n"
          ]
        },
        {
          "output_type": "stream",
          "name": "stdout",
          "text": [
            "Epoch 2: train loss = 0.506746, val loss = 0.471404, time consumed = 0:00:07\n",
            "Model saved after epoch 2\n",
            "Reset patience counter\n",
            "\n"
          ]
        },
        {
          "output_type": "stream",
          "name": "stderr",
          "text": [
            "Training batch\t: 100%|██████████| 125/125 [00:02<00:00, 42.31it/s]\n",
            "Validation batch: 100%|██████████| 32/32 [00:00<00:00, 127.27it/s]\n"
          ]
        },
        {
          "output_type": "stream",
          "name": "stdout",
          "text": [
            "Epoch 3: train loss = 0.463143, val loss = 0.450063, time consumed = 0:00:10\n",
            "Model saved after epoch 3\n",
            "Reset patience counter\n",
            "\n"
          ]
        },
        {
          "output_type": "stream",
          "name": "stderr",
          "text": [
            "Training batch\t: 100%|██████████| 125/125 [00:02<00:00, 42.09it/s]\n",
            "Validation batch: 100%|██████████| 32/32 [00:00<00:00, 118.55it/s]\n"
          ]
        },
        {
          "output_type": "stream",
          "name": "stdout",
          "text": [
            "Epoch 4: train loss = 0.446822, val loss = 0.438350, time consumed = 0:00:13\n",
            "Model saved after epoch 4\n",
            "Reset patience counter\n",
            "\n"
          ]
        },
        {
          "output_type": "stream",
          "name": "stderr",
          "text": [
            "Training batch\t: 100%|██████████| 125/125 [00:02<00:00, 42.27it/s]\n",
            "Validation batch: 100%|██████████| 32/32 [00:00<00:00, 119.63it/s]\n"
          ]
        },
        {
          "output_type": "stream",
          "name": "stdout",
          "text": [
            "Epoch 5: train loss = 0.435735, val loss = 0.429545, time consumed = 0:00:17\n",
            "Model saved after epoch 5\n",
            "Reset patience counter\n",
            "\n"
          ]
        },
        {
          "output_type": "stream",
          "name": "stderr",
          "text": [
            "Training batch\t: 100%|██████████| 125/125 [00:03<00:00, 35.06it/s]\n",
            "Validation batch: 100%|██████████| 32/32 [00:00<00:00, 121.69it/s]\n"
          ]
        },
        {
          "output_type": "stream",
          "name": "stdout",
          "text": [
            "Epoch 6: train loss = 0.426721, val loss = 0.422625, time consumed = 0:00:20\n",
            "Model saved after epoch 6\n",
            "Reset patience counter\n",
            "\n"
          ]
        },
        {
          "output_type": "stream",
          "name": "stderr",
          "text": [
            "Training batch\t: 100%|██████████| 125/125 [00:02<00:00, 43.29it/s]\n",
            "Validation batch: 100%|██████████| 32/32 [00:00<00:00, 121.68it/s]\n"
          ]
        },
        {
          "output_type": "stream",
          "name": "stdout",
          "text": [
            "Epoch 7: train loss = 0.420036, val loss = 0.417251, time consumed = 0:00:24\n",
            "Model saved after epoch 7\n",
            "Reset patience counter\n",
            "\n"
          ]
        },
        {
          "output_type": "stream",
          "name": "stderr",
          "text": [
            "Training batch\t: 100%|██████████| 125/125 [00:02<00:00, 42.47it/s]\n",
            "Validation batch: 100%|██████████| 32/32 [00:00<00:00, 126.42it/s]\n"
          ]
        },
        {
          "output_type": "stream",
          "name": "stdout",
          "text": [
            "Epoch 8: train loss = 0.414176, val loss = 0.413331, time consumed = 0:00:27\n",
            "Model saved after epoch 8\n",
            "Reset patience counter\n",
            "\n"
          ]
        },
        {
          "output_type": "stream",
          "name": "stderr",
          "text": [
            "Training batch\t: 100%|██████████| 125/125 [00:03<00:00, 36.68it/s]\n",
            "Validation batch: 100%|██████████| 32/32 [00:00<00:00, 90.07it/s]\n"
          ]
        },
        {
          "output_type": "stream",
          "name": "stdout",
          "text": [
            "Epoch 9: train loss = 0.410046, val loss = 0.410562, time consumed = 0:00:31\n",
            "Model saved after epoch 9\n",
            "Reset patience counter\n",
            "\n"
          ]
        },
        {
          "output_type": "stream",
          "name": "stderr",
          "text": [
            "Training batch\t: 100%|██████████| 125/125 [00:02<00:00, 42.71it/s]\n",
            "Validation batch: 100%|██████████| 32/32 [00:00<00:00, 122.99it/s]\n"
          ]
        },
        {
          "output_type": "stream",
          "name": "stdout",
          "text": [
            "Epoch 10: train loss = 0.406742, val loss = 0.408742, time consumed = 0:00:34\n",
            "Model saved after epoch 10\n",
            "Reset patience counter\n",
            "\n"
          ]
        },
        {
          "output_type": "stream",
          "name": "stderr",
          "text": [
            "Training batch\t: 100%|██████████| 125/125 [00:02<00:00, 43.37it/s]\n",
            "Validation batch: 100%|██████████| 32/32 [00:00<00:00, 122.11it/s]\n"
          ]
        },
        {
          "output_type": "stream",
          "name": "stdout",
          "text": [
            "Epoch 11: train loss = 0.404657, val loss = 0.407418, time consumed = 0:00:37\n",
            "Model saved after epoch 11\n",
            "Reset patience counter\n",
            "\n"
          ]
        },
        {
          "output_type": "stream",
          "name": "stderr",
          "text": [
            "Training batch\t: 100%|██████████| 125/125 [00:02<00:00, 43.75it/s]\n",
            "Validation batch: 100%|██████████| 32/32 [00:00<00:00, 125.61it/s]\n"
          ]
        },
        {
          "output_type": "stream",
          "name": "stdout",
          "text": [
            "Epoch 12: train loss = 0.403075, val loss = 0.406664, time consumed = 0:00:40\n",
            "Model saved after epoch 12\n",
            "Reset patience counter\n",
            "\n"
          ]
        },
        {
          "output_type": "stream",
          "name": "stderr",
          "text": [
            "Training batch\t: 100%|██████████| 125/125 [00:03<00:00, 35.46it/s]\n",
            "Validation batch: 100%|██████████| 32/32 [00:00<00:00, 122.93it/s]\n"
          ]
        },
        {
          "output_type": "stream",
          "name": "stdout",
          "text": [
            "Epoch 13: train loss = 0.401939, val loss = 0.406127, time consumed = 0:00:44\n",
            "Model saved after epoch 13\n",
            "Reset patience counter\n",
            "\n"
          ]
        },
        {
          "output_type": "stream",
          "name": "stderr",
          "text": [
            "Training batch\t: 100%|██████████| 125/125 [00:02<00:00, 43.26it/s]\n",
            "Validation batch: 100%|██████████| 32/32 [00:00<00:00, 114.76it/s]\n"
          ]
        },
        {
          "output_type": "stream",
          "name": "stdout",
          "text": [
            "Epoch 14: train loss = 0.400696, val loss = 0.405664, time consumed = 0:00:47\n",
            "Model saved after epoch 14\n",
            "Reset patience counter\n",
            "\n"
          ]
        },
        {
          "output_type": "stream",
          "name": "stderr",
          "text": [
            "Training batch\t: 100%|██████████| 125/125 [00:02<00:00, 43.16it/s]\n",
            "Validation batch: 100%|██████████| 32/32 [00:00<00:00, 126.62it/s]\n"
          ]
        },
        {
          "output_type": "stream",
          "name": "stdout",
          "text": [
            "Epoch 15: train loss = 0.400076, val loss = 0.405208, time consumed = 0:00:50\n",
            "Model saved after epoch 15\n",
            "Reset patience counter\n",
            "\n"
          ]
        },
        {
          "output_type": "stream",
          "name": "stderr",
          "text": [
            "Training batch\t: 100%|██████████| 125/125 [00:03<00:00, 38.72it/s]\n",
            "Validation batch: 100%|██████████| 32/32 [00:00<00:00, 90.14it/s]\n"
          ]
        },
        {
          "output_type": "stream",
          "name": "stdout",
          "text": [
            "Epoch 16: train loss = 0.399502, val loss = 0.404859, time consumed = 0:00:54\n",
            "Model saved after epoch 16\n",
            "Reset patience counter\n",
            "\n"
          ]
        },
        {
          "output_type": "stream",
          "name": "stderr",
          "text": [
            "Training batch\t: 100%|██████████| 125/125 [00:03<00:00, 40.59it/s]\n",
            "Validation batch: 100%|██████████| 32/32 [00:00<00:00, 121.25it/s]\n"
          ]
        },
        {
          "output_type": "stream",
          "name": "stdout",
          "text": [
            "Epoch 17: train loss = 0.398718, val loss = 0.404470, time consumed = 0:00:58\n",
            "Model saved after epoch 17\n",
            "Reset patience counter\n",
            "\n"
          ]
        },
        {
          "output_type": "stream",
          "name": "stderr",
          "text": [
            "Training batch\t: 100%|██████████| 125/125 [00:02<00:00, 43.38it/s]\n",
            "Validation batch: 100%|██████████| 32/32 [00:00<00:00, 120.46it/s]\n"
          ]
        },
        {
          "output_type": "stream",
          "name": "stdout",
          "text": [
            "Epoch 18: train loss = 0.398163, val loss = 0.404109, time consumed = 0:01:01\n",
            "Model saved after epoch 18\n",
            "Reset patience counter\n",
            "\n"
          ]
        },
        {
          "output_type": "stream",
          "name": "stderr",
          "text": [
            "Training batch\t: 100%|██████████| 125/125 [00:02<00:00, 43.24it/s]\n",
            "Validation batch: 100%|██████████| 32/32 [00:00<00:00, 125.81it/s]\n"
          ]
        },
        {
          "output_type": "stream",
          "name": "stdout",
          "text": [
            "Epoch 19: train loss = 0.397823, val loss = 0.403738, time consumed = 0:01:04\n",
            "Model saved after epoch 19\n",
            "Reset patience counter\n",
            "\n"
          ]
        },
        {
          "output_type": "stream",
          "name": "stderr",
          "text": [
            "Training batch\t: 100%|██████████| 125/125 [00:03<00:00, 36.15it/s]\n",
            "Validation batch: 100%|██████████| 32/32 [00:00<00:00, 125.45it/s]\n"
          ]
        },
        {
          "output_type": "stream",
          "name": "stdout",
          "text": [
            "Epoch 20: train loss = 0.397146, val loss = 0.403251, time consumed = 0:01:08\n",
            "Model saved after epoch 20\n",
            "Reset patience counter\n",
            "\n"
          ]
        },
        {
          "output_type": "stream",
          "name": "stderr",
          "text": [
            "Training batch\t: 100%|██████████| 125/125 [00:02<00:00, 43.49it/s]\n",
            "Validation batch: 100%|██████████| 32/32 [00:00<00:00, 119.20it/s]\n"
          ]
        },
        {
          "output_type": "stream",
          "name": "stdout",
          "text": [
            "Epoch 21: train loss = 0.396615, val loss = 0.402789, time consumed = 0:01:11\n",
            "Model saved after epoch 21\n",
            "Reset patience counter\n",
            "\n"
          ]
        },
        {
          "output_type": "stream",
          "name": "stderr",
          "text": [
            "Training batch\t: 100%|██████████| 125/125 [00:02<00:00, 43.21it/s]\n",
            "Validation batch: 100%|██████████| 32/32 [00:00<00:00, 122.06it/s]\n"
          ]
        },
        {
          "output_type": "stream",
          "name": "stdout",
          "text": [
            "Epoch 22: train loss = 0.395715, val loss = 0.402320, time consumed = 0:01:14\n",
            "Model saved after epoch 22\n",
            "Reset patience counter\n",
            "\n"
          ]
        },
        {
          "output_type": "stream",
          "name": "stderr",
          "text": [
            "Training batch\t: 100%|██████████| 125/125 [00:02<00:00, 41.81it/s]\n",
            "Validation batch: 100%|██████████| 32/32 [00:00<00:00, 93.94it/s]\n"
          ]
        },
        {
          "output_type": "stream",
          "name": "stdout",
          "text": [
            "Epoch 23: train loss = 0.395301, val loss = 0.401785, time consumed = 0:01:17\n",
            "Model saved after epoch 23\n",
            "Reset patience counter\n",
            "\n"
          ]
        },
        {
          "output_type": "stream",
          "name": "stderr",
          "text": [
            "Training batch\t: 100%|██████████| 125/125 [00:03<00:00, 38.02it/s]\n",
            "Validation batch: 100%|██████████| 32/32 [00:00<00:00, 124.33it/s]\n"
          ]
        },
        {
          "output_type": "stream",
          "name": "stdout",
          "text": [
            "Epoch 24: train loss = 0.394485, val loss = 0.401314, time consumed = 0:01:21\n",
            "Model saved after epoch 24\n",
            "Reset patience counter\n",
            "\n"
          ]
        },
        {
          "output_type": "stream",
          "name": "stderr",
          "text": [
            "Training batch\t: 100%|██████████| 125/125 [00:02<00:00, 42.70it/s]\n",
            "Validation batch: 100%|██████████| 32/32 [00:00<00:00, 121.00it/s]\n"
          ]
        },
        {
          "output_type": "stream",
          "name": "stdout",
          "text": [
            "Epoch 25: train loss = 0.394042, val loss = 0.400723, time consumed = 0:01:24\n",
            "Model saved after epoch 25\n",
            "Reset patience counter\n",
            "\n"
          ]
        },
        {
          "output_type": "stream",
          "name": "stderr",
          "text": [
            "Training batch\t: 100%|██████████| 125/125 [00:02<00:00, 43.78it/s]\n",
            "Validation batch: 100%|██████████| 32/32 [00:00<00:00, 122.56it/s]\n"
          ]
        },
        {
          "output_type": "stream",
          "name": "stdout",
          "text": [
            "Epoch 26: train loss = 0.393015, val loss = 0.400143, time consumed = 0:01:27\n",
            "Model saved after epoch 26\n",
            "Reset patience counter\n",
            "\n"
          ]
        },
        {
          "output_type": "stream",
          "name": "stderr",
          "text": [
            "Training batch\t: 100%|██████████| 125/125 [00:03<00:00, 36.27it/s]\n",
            "Validation batch: 100%|██████████| 32/32 [00:00<00:00, 122.53it/s]\n"
          ]
        },
        {
          "output_type": "stream",
          "name": "stdout",
          "text": [
            "Epoch 27: train loss = 0.392621, val loss = 0.399639, time consumed = 0:01:31\n",
            "Model saved after epoch 27\n",
            "Reset patience counter\n",
            "\n"
          ]
        },
        {
          "output_type": "stream",
          "name": "stderr",
          "text": [
            "Training batch\t: 100%|██████████| 125/125 [00:02<00:00, 42.97it/s]\n",
            "Validation batch: 100%|██████████| 32/32 [00:00<00:00, 127.85it/s]\n"
          ]
        },
        {
          "output_type": "stream",
          "name": "stdout",
          "text": [
            "Epoch 28: train loss = 0.391896, val loss = 0.399057, time consumed = 0:01:34\n",
            "Model saved after epoch 28\n",
            "Reset patience counter\n",
            "\n"
          ]
        },
        {
          "output_type": "stream",
          "name": "stderr",
          "text": [
            "Training batch\t: 100%|██████████| 125/125 [00:02<00:00, 43.25it/s]\n",
            "Validation batch: 100%|██████████| 32/32 [00:00<00:00, 122.46it/s]\n"
          ]
        },
        {
          "output_type": "stream",
          "name": "stdout",
          "text": [
            "Epoch 29: train loss = 0.391099, val loss = 0.398333, time consumed = 0:01:38\n",
            "Model saved after epoch 29\n",
            "Reset patience counter\n",
            "\n"
          ]
        },
        {
          "output_type": "stream",
          "name": "stderr",
          "text": [
            "Training batch\t: 100%|██████████| 125/125 [00:02<00:00, 43.83it/s]\n",
            "Validation batch: 100%|██████████| 32/32 [00:00<00:00, 121.64it/s]\n"
          ]
        },
        {
          "output_type": "stream",
          "name": "stdout",
          "text": [
            "Epoch 30: train loss = 0.390295, val loss = 0.397751, time consumed = 0:01:41\n",
            "Model saved after epoch 30\n",
            "Reset patience counter\n",
            "\n"
          ]
        },
        {
          "output_type": "stream",
          "name": "stderr",
          "text": [
            "Training batch\t: 100%|██████████| 125/125 [00:03<00:00, 35.68it/s]\n",
            "Validation batch: 100%|██████████| 32/32 [00:00<00:00, 123.67it/s]\n"
          ]
        },
        {
          "output_type": "stream",
          "name": "stdout",
          "text": [
            "Epoch 31: train loss = 0.389475, val loss = 0.397099, time consumed = 0:01:45\n",
            "Model saved after epoch 31\n",
            "Reset patience counter\n",
            "\n"
          ]
        },
        {
          "output_type": "stream",
          "name": "stderr",
          "text": [
            "Training batch\t: 100%|██████████| 125/125 [00:02<00:00, 42.84it/s]\n",
            "Validation batch: 100%|██████████| 32/32 [00:00<00:00, 126.89it/s]\n"
          ]
        },
        {
          "output_type": "stream",
          "name": "stdout",
          "text": [
            "Epoch 32: train loss = 0.388344, val loss = 0.396278, time consumed = 0:01:48\n",
            "Model saved after epoch 32\n",
            "Reset patience counter\n",
            "\n"
          ]
        },
        {
          "output_type": "stream",
          "name": "stderr",
          "text": [
            "Training batch\t: 100%|██████████| 125/125 [00:02<00:00, 43.68it/s]\n",
            "Validation batch: 100%|██████████| 32/32 [00:00<00:00, 118.79it/s]\n"
          ]
        },
        {
          "output_type": "stream",
          "name": "stdout",
          "text": [
            "Epoch 33: train loss = 0.387776, val loss = 0.395518, time consumed = 0:01:51\n",
            "Model saved after epoch 33\n",
            "Reset patience counter\n",
            "\n"
          ]
        },
        {
          "output_type": "stream",
          "name": "stderr",
          "text": [
            "Training batch\t: 100%|██████████| 125/125 [00:03<00:00, 38.66it/s]\n",
            "Validation batch: 100%|██████████| 32/32 [00:00<00:00, 89.04it/s]\n"
          ]
        },
        {
          "output_type": "stream",
          "name": "stdout",
          "text": [
            "Epoch 34: train loss = 0.386722, val loss = 0.394763, time consumed = 0:01:55\n",
            "Model saved after epoch 34\n",
            "Reset patience counter\n",
            "\n"
          ]
        },
        {
          "output_type": "stream",
          "name": "stderr",
          "text": [
            "Training batch\t: 100%|██████████| 125/125 [00:03<00:00, 41.60it/s]\n",
            "Validation batch: 100%|██████████| 32/32 [00:00<00:00, 124.33it/s]\n"
          ]
        },
        {
          "output_type": "stream",
          "name": "stdout",
          "text": [
            "Epoch 35: train loss = 0.385649, val loss = 0.393828, time consumed = 0:01:58\n",
            "Model saved after epoch 35\n",
            "Reset patience counter\n",
            "\n"
          ]
        },
        {
          "output_type": "stream",
          "name": "stderr",
          "text": [
            "Training batch\t: 100%|██████████| 125/125 [00:02<00:00, 43.63it/s]\n",
            "Validation batch: 100%|██████████| 32/32 [00:00<00:00, 122.32it/s]\n"
          ]
        },
        {
          "output_type": "stream",
          "name": "stdout",
          "text": [
            "Epoch 36: train loss = 0.385086, val loss = 0.392919, time consumed = 0:02:01\n",
            "Model saved after epoch 36\n",
            "Reset patience counter\n",
            "\n"
          ]
        },
        {
          "output_type": "stream",
          "name": "stderr",
          "text": [
            "Training batch\t: 100%|██████████| 125/125 [00:02<00:00, 42.70it/s]\n",
            "Validation batch: 100%|██████████| 32/32 [00:00<00:00, 120.96it/s]\n"
          ]
        },
        {
          "output_type": "stream",
          "name": "stdout",
          "text": [
            "Epoch 37: train loss = 0.383888, val loss = 0.392098, time consumed = 0:02:04\n",
            "Model saved after epoch 37\n",
            "Reset patience counter\n",
            "\n"
          ]
        },
        {
          "output_type": "stream",
          "name": "stderr",
          "text": [
            "Training batch\t: 100%|██████████| 125/125 [00:03<00:00, 36.46it/s]\n",
            "Validation batch: 100%|██████████| 32/32 [00:00<00:00, 126.59it/s]\n"
          ]
        },
        {
          "output_type": "stream",
          "name": "stdout",
          "text": [
            "Epoch 38: train loss = 0.382814, val loss = 0.390979, time consumed = 0:02:08\n",
            "Model saved after epoch 38\n",
            "Reset patience counter\n",
            "\n"
          ]
        },
        {
          "output_type": "stream",
          "name": "stderr",
          "text": [
            "Training batch\t: 100%|██████████| 125/125 [00:02<00:00, 43.63it/s]\n",
            "Validation batch: 100%|██████████| 32/32 [00:00<00:00, 123.43it/s]\n"
          ]
        },
        {
          "output_type": "stream",
          "name": "stdout",
          "text": [
            "Epoch 39: train loss = 0.381878, val loss = 0.389859, time consumed = 0:02:11\n",
            "Model saved after epoch 39\n",
            "Reset patience counter\n",
            "\n"
          ]
        },
        {
          "output_type": "stream",
          "name": "stderr",
          "text": [
            "Training batch\t: 100%|██████████| 125/125 [00:02<00:00, 42.57it/s]\n",
            "Validation batch: 100%|██████████| 32/32 [00:00<00:00, 128.74it/s]\n"
          ]
        },
        {
          "output_type": "stream",
          "name": "stdout",
          "text": [
            "Epoch 40: train loss = 0.380259, val loss = 0.388746, time consumed = 0:02:14\n",
            "Model saved after epoch 40\n",
            "Reset patience counter\n",
            "\n"
          ]
        },
        {
          "output_type": "stream",
          "name": "stderr",
          "text": [
            "Training batch\t: 100%|██████████| 125/125 [00:03<00:00, 40.86it/s]\n",
            "Validation batch: 100%|██████████| 32/32 [00:00<00:00, 90.29it/s]\n"
          ]
        },
        {
          "output_type": "stream",
          "name": "stdout",
          "text": [
            "Epoch 41: train loss = 0.379038, val loss = 0.387625, time consumed = 0:02:18\n",
            "Model saved after epoch 41\n",
            "Reset patience counter\n",
            "\n"
          ]
        },
        {
          "output_type": "stream",
          "name": "stderr",
          "text": [
            "Training batch\t: 100%|██████████| 125/125 [00:03<00:00, 38.51it/s]\n",
            "Validation batch: 100%|██████████| 32/32 [00:00<00:00, 127.60it/s]\n"
          ]
        },
        {
          "output_type": "stream",
          "name": "stdout",
          "text": [
            "Epoch 42: train loss = 0.378157, val loss = 0.386229, time consumed = 0:02:21\n",
            "Model saved after epoch 42\n",
            "Reset patience counter\n",
            "\n"
          ]
        },
        {
          "output_type": "stream",
          "name": "stderr",
          "text": [
            "Training batch\t: 100%|██████████| 125/125 [00:02<00:00, 43.06it/s]\n",
            "Validation batch: 100%|██████████| 32/32 [00:00<00:00, 125.06it/s]\n"
          ]
        },
        {
          "output_type": "stream",
          "name": "stdout",
          "text": [
            "Epoch 43: train loss = 0.376523, val loss = 0.384779, time consumed = 0:02:25\n",
            "Model saved after epoch 43\n",
            "Reset patience counter\n",
            "\n"
          ]
        },
        {
          "output_type": "stream",
          "name": "stderr",
          "text": [
            "Training batch\t: 100%|██████████| 125/125 [00:02<00:00, 43.38it/s]\n",
            "Validation batch: 100%|██████████| 32/32 [00:00<00:00, 124.74it/s]\n"
          ]
        },
        {
          "output_type": "stream",
          "name": "stdout",
          "text": [
            "Epoch 44: train loss = 0.375042, val loss = 0.383271, time consumed = 0:02:28\n",
            "Model saved after epoch 44\n",
            "Reset patience counter\n",
            "\n"
          ]
        },
        {
          "output_type": "stream",
          "name": "stderr",
          "text": [
            "Training batch\t: 100%|██████████| 125/125 [00:03<00:00, 35.03it/s]\n",
            "Validation batch: 100%|██████████| 32/32 [00:00<00:00, 120.23it/s]\n"
          ]
        },
        {
          "output_type": "stream",
          "name": "stdout",
          "text": [
            "Epoch 45: train loss = 0.373160, val loss = 0.381653, time consumed = 0:02:32\n",
            "Model saved after epoch 45\n",
            "Reset patience counter\n",
            "\n"
          ]
        },
        {
          "output_type": "stream",
          "name": "stderr",
          "text": [
            "Training batch\t: 100%|██████████| 125/125 [00:02<00:00, 42.12it/s]\n",
            "Validation batch: 100%|██████████| 32/32 [00:00<00:00, 121.56it/s]\n"
          ]
        },
        {
          "output_type": "stream",
          "name": "stdout",
          "text": [
            "Epoch 46: train loss = 0.371684, val loss = 0.379895, time consumed = 0:02:35\n",
            "Model saved after epoch 46\n",
            "Reset patience counter\n",
            "\n"
          ]
        },
        {
          "output_type": "stream",
          "name": "stderr",
          "text": [
            "Training batch\t: 100%|██████████| 125/125 [00:02<00:00, 42.63it/s]\n",
            "Validation batch: 100%|██████████| 32/32 [00:00<00:00, 122.81it/s]\n"
          ]
        },
        {
          "output_type": "stream",
          "name": "stdout",
          "text": [
            "Epoch 47: train loss = 0.369995, val loss = 0.377922, time consumed = 0:02:38\n",
            "Model saved after epoch 47\n",
            "Reset patience counter\n",
            "\n"
          ]
        },
        {
          "output_type": "stream",
          "name": "stderr",
          "text": [
            "Training batch\t: 100%|██████████| 125/125 [00:02<00:00, 43.23it/s]\n",
            "Validation batch: 100%|██████████| 32/32 [00:00<00:00, 83.06it/s]\n"
          ]
        },
        {
          "output_type": "stream",
          "name": "stdout",
          "text": [
            "Epoch 48: train loss = 0.367879, val loss = 0.375947, time consumed = 0:02:41\n",
            "Model saved after epoch 48\n",
            "Reset patience counter\n",
            "\n"
          ]
        },
        {
          "output_type": "stream",
          "name": "stderr",
          "text": [
            "Training batch\t: 100%|██████████| 125/125 [00:03<00:00, 37.10it/s]\n",
            "Validation batch: 100%|██████████| 32/32 [00:00<00:00, 122.46it/s]\n"
          ]
        },
        {
          "output_type": "stream",
          "name": "stdout",
          "text": [
            "Epoch 49: train loss = 0.365679, val loss = 0.373852, time consumed = 0:02:45\n",
            "Model saved after epoch 49\n",
            "Reset patience counter\n",
            "\n"
          ]
        },
        {
          "output_type": "stream",
          "name": "stderr",
          "text": [
            "Training batch\t: 100%|██████████| 125/125 [00:02<00:00, 42.85it/s]\n",
            "Validation batch: 100%|██████████| 32/32 [00:00<00:00, 124.57it/s]\n"
          ]
        },
        {
          "output_type": "stream",
          "name": "stdout",
          "text": [
            "Epoch 50: train loss = 0.364016, val loss = 0.371707, time consumed = 0:02:48\n",
            "Model saved after epoch 50\n",
            "Reset patience counter\n",
            "\n"
          ]
        },
        {
          "output_type": "stream",
          "name": "stderr",
          "text": [
            "Training batch\t: 100%|██████████| 125/125 [00:02<00:00, 41.94it/s]\n",
            "Validation batch: 100%|██████████| 32/32 [00:00<00:00, 121.04it/s]\n"
          ]
        },
        {
          "output_type": "stream",
          "name": "stdout",
          "text": [
            "Epoch 51: train loss = 0.361774, val loss = 0.369169, time consumed = 0:02:52\n",
            "Model saved after epoch 51\n",
            "Reset patience counter\n",
            "\n"
          ]
        },
        {
          "output_type": "stream",
          "name": "stderr",
          "text": [
            "Training batch\t: 100%|██████████| 125/125 [00:03<00:00, 34.98it/s]\n",
            "Validation batch: 100%|██████████| 32/32 [00:00<00:00, 123.52it/s]\n"
          ]
        },
        {
          "output_type": "stream",
          "name": "stdout",
          "text": [
            "Epoch 52: train loss = 0.359785, val loss = 0.366826, time consumed = 0:02:56\n",
            "Model saved after epoch 52\n",
            "Reset patience counter\n",
            "\n"
          ]
        },
        {
          "output_type": "stream",
          "name": "stderr",
          "text": [
            "Training batch\t: 100%|██████████| 125/125 [00:02<00:00, 42.21it/s]\n",
            "Validation batch: 100%|██████████| 32/32 [00:00<00:00, 119.95it/s]\n"
          ]
        },
        {
          "output_type": "stream",
          "name": "stdout",
          "text": [
            "Epoch 53: train loss = 0.357291, val loss = 0.364367, time consumed = 0:02:59\n",
            "Model saved after epoch 53\n",
            "Reset patience counter\n",
            "\n"
          ]
        },
        {
          "output_type": "stream",
          "name": "stderr",
          "text": [
            "Training batch\t: 100%|██████████| 125/125 [00:02<00:00, 42.58it/s]\n",
            "Validation batch: 100%|██████████| 32/32 [00:00<00:00, 117.97it/s]\n"
          ]
        },
        {
          "output_type": "stream",
          "name": "stdout",
          "text": [
            "Epoch 54: train loss = 0.355305, val loss = 0.362224, time consumed = 0:03:02\n",
            "Model saved after epoch 54\n",
            "Reset patience counter\n",
            "\n"
          ]
        },
        {
          "output_type": "stream",
          "name": "stderr",
          "text": [
            "Training batch\t: 100%|██████████| 125/125 [00:02<00:00, 42.13it/s]\n",
            "Validation batch: 100%|██████████| 32/32 [00:00<00:00, 97.08it/s]\n"
          ]
        },
        {
          "output_type": "stream",
          "name": "stdout",
          "text": [
            "Epoch 55: train loss = 0.353292, val loss = 0.360139, time consumed = 0:03:05\n",
            "Model saved after epoch 55\n",
            "Reset patience counter\n",
            "\n"
          ]
        },
        {
          "output_type": "stream",
          "name": "stderr",
          "text": [
            "Training batch\t: 100%|██████████| 125/125 [00:03<00:00, 35.30it/s]\n",
            "Validation batch: 100%|██████████| 32/32 [00:00<00:00, 116.75it/s]\n"
          ]
        },
        {
          "output_type": "stream",
          "name": "stdout",
          "text": [
            "Epoch 56: train loss = 0.351340, val loss = 0.358242, time consumed = 0:03:09\n",
            "Model saved after epoch 56\n",
            "Reset patience counter\n",
            "\n"
          ]
        },
        {
          "output_type": "stream",
          "name": "stderr",
          "text": [
            "Training batch\t: 100%|██████████| 125/125 [00:02<00:00, 41.67it/s]\n",
            "Validation batch: 100%|██████████| 32/32 [00:00<00:00, 121.99it/s]\n"
          ]
        },
        {
          "output_type": "stream",
          "name": "stdout",
          "text": [
            "Epoch 57: train loss = 0.349227, val loss = 0.356295, time consumed = 0:03:13\n",
            "Model saved after epoch 57\n",
            "Reset patience counter\n",
            "\n"
          ]
        },
        {
          "output_type": "stream",
          "name": "stderr",
          "text": [
            "Training batch\t: 100%|██████████| 125/125 [00:03<00:00, 41.38it/s]\n",
            "Validation batch: 100%|██████████| 32/32 [00:00<00:00, 123.17it/s]\n"
          ]
        },
        {
          "output_type": "stream",
          "name": "stdout",
          "text": [
            "Epoch 58: train loss = 0.347165, val loss = 0.354545, time consumed = 0:03:16\n",
            "Model saved after epoch 58\n",
            "Reset patience counter\n",
            "\n"
          ]
        },
        {
          "output_type": "stream",
          "name": "stderr",
          "text": [
            "Training batch\t: 100%|██████████| 125/125 [00:03<00:00, 34.73it/s]\n",
            "Validation batch: 100%|██████████| 32/32 [00:00<00:00, 118.27it/s]\n"
          ]
        },
        {
          "output_type": "stream",
          "name": "stdout",
          "text": [
            "Epoch 59: train loss = 0.344974, val loss = 0.352695, time consumed = 0:03:20\n",
            "Model saved after epoch 59\n",
            "Reset patience counter\n",
            "\n"
          ]
        },
        {
          "output_type": "stream",
          "name": "stderr",
          "text": [
            "Training batch\t: 100%|██████████| 125/125 [00:03<00:00, 41.47it/s]\n",
            "Validation batch: 100%|██████████| 32/32 [00:00<00:00, 121.00it/s]\n"
          ]
        },
        {
          "output_type": "stream",
          "name": "stdout",
          "text": [
            "Epoch 60: train loss = 0.343282, val loss = 0.350858, time consumed = 0:03:23\n",
            "Model saved after epoch 60\n",
            "Reset patience counter\n",
            "\n"
          ]
        },
        {
          "output_type": "stream",
          "name": "stderr",
          "text": [
            "Training batch\t: 100%|██████████| 125/125 [00:03<00:00, 41.24it/s]\n",
            "Validation batch: 100%|██████████| 32/32 [00:00<00:00, 118.01it/s]\n"
          ]
        },
        {
          "output_type": "stream",
          "name": "stdout",
          "text": [
            "Epoch 61: train loss = 0.341070, val loss = 0.349366, time consumed = 0:03:27\n",
            "Model saved after epoch 61\n",
            "Reset patience counter\n",
            "\n"
          ]
        },
        {
          "output_type": "stream",
          "name": "stderr",
          "text": [
            "Training batch\t: 100%|██████████| 125/125 [00:03<00:00, 39.83it/s]\n",
            "Validation batch: 100%|██████████| 32/32 [00:00<00:00, 90.80it/s]\n"
          ]
        },
        {
          "output_type": "stream",
          "name": "stdout",
          "text": [
            "Epoch 62: train loss = 0.339231, val loss = 0.347315, time consumed = 0:03:30\n",
            "Model saved after epoch 62\n",
            "Reset patience counter\n",
            "\n"
          ]
        },
        {
          "output_type": "stream",
          "name": "stderr",
          "text": [
            "Training batch\t: 100%|██████████| 125/125 [00:03<00:00, 37.06it/s]\n",
            "Validation batch: 100%|██████████| 32/32 [00:00<00:00, 116.04it/s]\n"
          ]
        },
        {
          "output_type": "stream",
          "name": "stdout",
          "text": [
            "Epoch 63: train loss = 0.337480, val loss = 0.345461, time consumed = 0:03:34\n",
            "Model saved after epoch 63\n",
            "Reset patience counter\n",
            "\n"
          ]
        },
        {
          "output_type": "stream",
          "name": "stderr",
          "text": [
            "Training batch\t: 100%|██████████| 125/125 [00:03<00:00, 41.53it/s]\n",
            "Validation batch: 100%|██████████| 32/32 [00:00<00:00, 122.27it/s]\n"
          ]
        },
        {
          "output_type": "stream",
          "name": "stdout",
          "text": [
            "Epoch 64: train loss = 0.335005, val loss = 0.343772, time consumed = 0:03:37\n",
            "Model saved after epoch 64\n",
            "Reset patience counter\n",
            "\n"
          ]
        },
        {
          "output_type": "stream",
          "name": "stderr",
          "text": [
            "Training batch\t: 100%|██████████| 125/125 [00:03<00:00, 41.53it/s]\n",
            "Validation batch: 100%|██████████| 32/32 [00:00<00:00, 125.36it/s]\n"
          ]
        },
        {
          "output_type": "stream",
          "name": "stdout",
          "text": [
            "Epoch 65: train loss = 0.333545, val loss = 0.341971, time consumed = 0:03:40\n",
            "Model saved after epoch 65\n",
            "Reset patience counter\n",
            "\n"
          ]
        },
        {
          "output_type": "stream",
          "name": "stderr",
          "text": [
            "Training batch\t: 100%|██████████| 125/125 [00:03<00:00, 34.81it/s]\n",
            "Validation batch: 100%|██████████| 32/32 [00:00<00:00, 122.91it/s]\n"
          ]
        },
        {
          "output_type": "stream",
          "name": "stdout",
          "text": [
            "Epoch 66: train loss = 0.331097, val loss = 0.340415, time consumed = 0:03:44\n",
            "Model saved after epoch 66\n",
            "Reset patience counter\n",
            "\n"
          ]
        },
        {
          "output_type": "stream",
          "name": "stderr",
          "text": [
            "Training batch\t: 100%|██████████| 125/125 [00:03<00:00, 41.35it/s]\n",
            "Validation batch: 100%|██████████| 32/32 [00:00<00:00, 119.69it/s]\n"
          ]
        },
        {
          "output_type": "stream",
          "name": "stdout",
          "text": [
            "Epoch 67: train loss = 0.329028, val loss = 0.339088, time consumed = 0:03:48\n",
            "Model saved after epoch 67\n",
            "Reset patience counter\n",
            "\n"
          ]
        },
        {
          "output_type": "stream",
          "name": "stderr",
          "text": [
            "Training batch\t: 100%|██████████| 125/125 [00:03<00:00, 40.98it/s]\n",
            "Validation batch: 100%|██████████| 32/32 [00:00<00:00, 123.89it/s]\n"
          ]
        },
        {
          "output_type": "stream",
          "name": "stdout",
          "text": [
            "Epoch 68: train loss = 0.326480, val loss = 0.336645, time consumed = 0:03:51\n",
            "Model saved after epoch 68\n",
            "Reset patience counter\n",
            "\n"
          ]
        },
        {
          "output_type": "stream",
          "name": "stderr",
          "text": [
            "Training batch\t: 100%|██████████| 125/125 [00:03<00:00, 39.60it/s]\n",
            "Validation batch: 100%|██████████| 32/32 [00:00<00:00, 85.40it/s]\n"
          ]
        },
        {
          "output_type": "stream",
          "name": "stdout",
          "text": [
            "Epoch 69: train loss = 0.325103, val loss = 0.334376, time consumed = 0:03:55\n",
            "Model saved after epoch 69\n",
            "Reset patience counter\n",
            "\n"
          ]
        },
        {
          "output_type": "stream",
          "name": "stderr",
          "text": [
            "Training batch\t: 100%|██████████| 125/125 [00:03<00:00, 38.91it/s]\n",
            "Validation batch: 100%|██████████| 32/32 [00:00<00:00, 117.41it/s]\n"
          ]
        },
        {
          "output_type": "stream",
          "name": "stdout",
          "text": [
            "Epoch 70: train loss = 0.322890, val loss = 0.333044, time consumed = 0:03:58\n",
            "Model saved after epoch 70\n",
            "Reset patience counter\n",
            "\n"
          ]
        },
        {
          "output_type": "stream",
          "name": "stderr",
          "text": [
            "Training batch\t: 100%|██████████| 125/125 [00:02<00:00, 42.16it/s]\n",
            "Validation batch: 100%|██████████| 32/32 [00:00<00:00, 123.89it/s]\n"
          ]
        },
        {
          "output_type": "stream",
          "name": "stdout",
          "text": [
            "Epoch 71: train loss = 0.319686, val loss = 0.333440, time consumed = 0:04:01\n"
          ]
        },
        {
          "output_type": "stream",
          "name": "stderr",
          "text": [
            "Training batch\t: 100%|██████████| 125/125 [00:02<00:00, 42.01it/s]\n",
            "Validation batch: 100%|██████████| 32/32 [00:00<00:00, 117.57it/s]\n"
          ]
        },
        {
          "output_type": "stream",
          "name": "stdout",
          "text": [
            "Epoch 72: train loss = 0.318682, val loss = 0.329719, time consumed = 0:04:05\n",
            "Model saved after epoch 72\n",
            "Reset patience counter\n",
            "\n"
          ]
        },
        {
          "output_type": "stream",
          "name": "stderr",
          "text": [
            "Training batch\t: 100%|██████████| 125/125 [00:03<00:00, 35.27it/s]\n",
            "Validation batch: 100%|██████████| 32/32 [00:00<00:00, 126.29it/s]\n"
          ]
        },
        {
          "output_type": "stream",
          "name": "stdout",
          "text": [
            "Epoch 73: train loss = 0.317097, val loss = 0.328271, time consumed = 0:04:08\n",
            "Model saved after epoch 73\n",
            "Reset patience counter\n",
            "\n"
          ]
        },
        {
          "output_type": "stream",
          "name": "stderr",
          "text": [
            "Training batch\t: 100%|██████████| 125/125 [00:02<00:00, 41.80it/s]\n",
            "Validation batch: 100%|██████████| 32/32 [00:00<00:00, 119.43it/s]\n"
          ]
        },
        {
          "output_type": "stream",
          "name": "stdout",
          "text": [
            "Epoch 74: train loss = 0.314848, val loss = 0.334741, time consumed = 0:04:12\n"
          ]
        },
        {
          "output_type": "stream",
          "name": "stderr",
          "text": [
            "Training batch\t: 100%|██████████| 125/125 [00:03<00:00, 41.35it/s]\n",
            "Validation batch: 100%|██████████| 32/32 [00:00<00:00, 119.22it/s]\n"
          ]
        },
        {
          "output_type": "stream",
          "name": "stdout",
          "text": [
            "Epoch 75: train loss = 0.312711, val loss = 0.325659, time consumed = 0:04:15\n",
            "Model saved after epoch 75\n",
            "Reset patience counter\n",
            "\n"
          ]
        },
        {
          "output_type": "stream",
          "name": "stderr",
          "text": [
            "Training batch\t: 100%|██████████| 125/125 [00:03<00:00, 39.90it/s]\n",
            "Validation batch: 100%|██████████| 32/32 [00:00<00:00, 94.31it/s]\n"
          ]
        },
        {
          "output_type": "stream",
          "name": "stdout",
          "text": [
            "Epoch 76: train loss = 0.311618, val loss = 0.324007, time consumed = 0:04:19\n",
            "Model saved after epoch 76\n",
            "Reset patience counter\n",
            "\n"
          ]
        },
        {
          "output_type": "stream",
          "name": "stderr",
          "text": [
            "Training batch\t: 100%|██████████| 125/125 [00:03<00:00, 39.07it/s]\n",
            "Validation batch: 100%|██████████| 32/32 [00:00<00:00, 116.47it/s]\n"
          ]
        },
        {
          "output_type": "stream",
          "name": "stdout",
          "text": [
            "Epoch 77: train loss = 0.310336, val loss = 0.324557, time consumed = 0:04:22\n"
          ]
        },
        {
          "output_type": "stream",
          "name": "stderr",
          "text": [
            "Training batch\t: 100%|██████████| 125/125 [00:02<00:00, 42.50it/s]\n",
            "Validation batch: 100%|██████████| 32/32 [00:00<00:00, 117.28it/s]\n"
          ]
        },
        {
          "output_type": "stream",
          "name": "stdout",
          "text": [
            "Epoch 78: train loss = 0.307313, val loss = 0.325917, time consumed = 0:04:25\n"
          ]
        },
        {
          "output_type": "stream",
          "name": "stderr",
          "text": [
            "Training batch\t: 100%|██████████| 125/125 [00:02<00:00, 41.88it/s]\n",
            "Validation batch: 100%|██████████| 32/32 [00:00<00:00, 123.00it/s]\n"
          ]
        },
        {
          "output_type": "stream",
          "name": "stdout",
          "text": [
            "Epoch 79: train loss = 0.306165, val loss = 0.322268, time consumed = 0:04:29\n",
            "Model saved after epoch 79\n",
            "Reset patience counter\n",
            "\n"
          ]
        },
        {
          "output_type": "stream",
          "name": "stderr",
          "text": [
            "Training batch\t: 100%|██████████| 125/125 [00:03<00:00, 34.97it/s]\n",
            "Validation batch: 100%|██████████| 32/32 [00:00<00:00, 120.70it/s]\n"
          ]
        },
        {
          "output_type": "stream",
          "name": "stdout",
          "text": [
            "Epoch 80: train loss = 0.304807, val loss = 0.326713, time consumed = 0:04:32\n"
          ]
        },
        {
          "output_type": "stream",
          "name": "stderr",
          "text": [
            "Training batch\t: 100%|██████████| 125/125 [00:02<00:00, 42.25it/s]\n",
            "Validation batch: 100%|██████████| 32/32 [00:00<00:00, 117.29it/s]\n"
          ]
        },
        {
          "output_type": "stream",
          "name": "stdout",
          "text": [
            "Epoch 81: train loss = 0.303476, val loss = 0.320036, time consumed = 0:04:36\n",
            "Model saved after epoch 81\n",
            "Reset patience counter\n",
            "\n"
          ]
        },
        {
          "output_type": "stream",
          "name": "stderr",
          "text": [
            "Training batch\t: 100%|██████████| 125/125 [00:02<00:00, 41.76it/s]\n",
            "Validation batch: 100%|██████████| 32/32 [00:00<00:00, 122.82it/s]\n"
          ]
        },
        {
          "output_type": "stream",
          "name": "stdout",
          "text": [
            "Epoch 82: train loss = 0.302425, val loss = 0.318233, time consumed = 0:04:39\n",
            "Model saved after epoch 82\n",
            "Reset patience counter\n",
            "\n"
          ]
        },
        {
          "output_type": "stream",
          "name": "stderr",
          "text": [
            "Training batch\t: 100%|██████████| 125/125 [00:03<00:00, 39.82it/s]\n",
            "Validation batch: 100%|██████████| 32/32 [00:00<00:00, 91.61it/s]\n"
          ]
        },
        {
          "output_type": "stream",
          "name": "stdout",
          "text": [
            "Epoch 83: train loss = 0.300812, val loss = 0.318101, time consumed = 0:04:43\n",
            "Model saved after epoch 83\n",
            "Reset patience counter\n",
            "\n"
          ]
        },
        {
          "output_type": "stream",
          "name": "stderr",
          "text": [
            "Training batch\t: 100%|██████████| 125/125 [00:03<00:00, 37.07it/s]\n",
            "Validation batch: 100%|██████████| 32/32 [00:00<00:00, 122.31it/s]\n"
          ]
        },
        {
          "output_type": "stream",
          "name": "stdout",
          "text": [
            "Epoch 84: train loss = 0.299697, val loss = 0.318670, time consumed = 0:04:46\n"
          ]
        },
        {
          "output_type": "stream",
          "name": "stderr",
          "text": [
            "Training batch\t: 100%|██████████| 125/125 [00:02<00:00, 42.39it/s]\n",
            "Validation batch: 100%|██████████| 32/32 [00:00<00:00, 124.30it/s]\n"
          ]
        },
        {
          "output_type": "stream",
          "name": "stdout",
          "text": [
            "Epoch 85: train loss = 0.298427, val loss = 0.317568, time consumed = 0:04:49\n",
            "Model saved after epoch 85\n",
            "Reset patience counter\n",
            "\n"
          ]
        },
        {
          "output_type": "stream",
          "name": "stderr",
          "text": [
            "Training batch\t: 100%|██████████| 125/125 [00:02<00:00, 42.27it/s]\n",
            "Validation batch: 100%|██████████| 32/32 [00:00<00:00, 123.64it/s]\n"
          ]
        },
        {
          "output_type": "stream",
          "name": "stdout",
          "text": [
            "Epoch 86: train loss = 0.296189, val loss = 0.324264, time consumed = 0:04:53\n"
          ]
        },
        {
          "output_type": "stream",
          "name": "stderr",
          "text": [
            "Training batch\t: 100%|██████████| 125/125 [00:03<00:00, 35.03it/s]\n",
            "Validation batch: 100%|██████████| 32/32 [00:00<00:00, 124.38it/s]\n"
          ]
        },
        {
          "output_type": "stream",
          "name": "stdout",
          "text": [
            "Epoch 87: train loss = 0.295917, val loss = 0.319457, time consumed = 0:04:57\n"
          ]
        },
        {
          "output_type": "stream",
          "name": "stderr",
          "text": [
            "Training batch\t: 100%|██████████| 125/125 [00:02<00:00, 42.65it/s]\n",
            "Validation batch: 100%|██████████| 32/32 [00:00<00:00, 123.21it/s]\n"
          ]
        },
        {
          "output_type": "stream",
          "name": "stdout",
          "text": [
            "Epoch 88: train loss = 0.294660, val loss = 0.316475, time consumed = 0:05:00\n",
            "Model saved after epoch 88\n",
            "Reset patience counter\n",
            "\n"
          ]
        },
        {
          "output_type": "stream",
          "name": "stderr",
          "text": [
            "Training batch\t: 100%|██████████| 125/125 [00:02<00:00, 42.19it/s]\n",
            "Validation batch: 100%|██████████| 32/32 [00:00<00:00, 124.41it/s]\n"
          ]
        },
        {
          "output_type": "stream",
          "name": "stdout",
          "text": [
            "Epoch 89: train loss = 0.292800, val loss = 0.317975, time consumed = 0:05:03\n"
          ]
        },
        {
          "output_type": "stream",
          "name": "stderr",
          "text": [
            "Training batch\t: 100%|██████████| 125/125 [00:02<00:00, 41.84it/s]\n",
            "Validation batch: 100%|██████████| 32/32 [00:00<00:00, 81.67it/s]\n"
          ]
        },
        {
          "output_type": "stream",
          "name": "stdout",
          "text": [
            "Epoch 90: train loss = 0.291620, val loss = 0.314023, time consumed = 0:05:06\n",
            "Model saved after epoch 90\n",
            "Reset patience counter\n",
            "\n"
          ]
        },
        {
          "output_type": "stream",
          "name": "stderr",
          "text": [
            "Training batch\t: 100%|██████████| 125/125 [00:03<00:00, 37.03it/s]\n",
            "Validation batch: 100%|██████████| 32/32 [00:00<00:00, 112.31it/s]\n"
          ]
        },
        {
          "output_type": "stream",
          "name": "stdout",
          "text": [
            "Epoch 91: train loss = 0.290569, val loss = 0.322403, time consumed = 0:05:10\n"
          ]
        },
        {
          "output_type": "stream",
          "name": "stderr",
          "text": [
            "Training batch\t: 100%|██████████| 125/125 [00:02<00:00, 41.75it/s]\n",
            "Validation batch: 100%|██████████| 32/32 [00:00<00:00, 124.68it/s]\n"
          ]
        },
        {
          "output_type": "stream",
          "name": "stdout",
          "text": [
            "Epoch 92: train loss = 0.288874, val loss = 0.312170, time consumed = 0:05:13\n",
            "Model saved after epoch 92\n",
            "Reset patience counter\n",
            "\n"
          ]
        },
        {
          "output_type": "stream",
          "name": "stderr",
          "text": [
            "Training batch\t: 100%|██████████| 125/125 [00:02<00:00, 42.48it/s]\n",
            "Validation batch: 100%|██████████| 32/32 [00:00<00:00, 120.52it/s]\n"
          ]
        },
        {
          "output_type": "stream",
          "name": "stdout",
          "text": [
            "Epoch 93: train loss = 0.288346, val loss = 0.316804, time consumed = 0:05:17\n"
          ]
        },
        {
          "output_type": "stream",
          "name": "stderr",
          "text": [
            "Training batch\t: 100%|██████████| 125/125 [00:03<00:00, 34.88it/s]\n",
            "Validation batch: 100%|██████████| 32/32 [00:00<00:00, 125.10it/s]\n"
          ]
        },
        {
          "output_type": "stream",
          "name": "stdout",
          "text": [
            "Epoch 94: train loss = 0.286675, val loss = 0.316439, time consumed = 0:05:20\n"
          ]
        },
        {
          "output_type": "stream",
          "name": "stderr",
          "text": [
            "Training batch\t: 100%|██████████| 125/125 [00:02<00:00, 42.06it/s]\n",
            "Validation batch: 100%|██████████| 32/32 [00:00<00:00, 123.59it/s]\n"
          ]
        },
        {
          "output_type": "stream",
          "name": "stdout",
          "text": [
            "Epoch 95: train loss = 0.285205, val loss = 0.312959, time consumed = 0:05:24\n",
            "Learning rate reduced after epoch 95\n",
            "\n"
          ]
        },
        {
          "output_type": "stream",
          "name": "stderr",
          "text": [
            "Training batch\t: 100%|██████████| 125/125 [00:02<00:00, 42.13it/s]\n",
            "Validation batch: 100%|██████████| 32/32 [00:00<00:00, 116.75it/s]\n"
          ]
        },
        {
          "output_type": "stream",
          "name": "stdout",
          "text": [
            "Epoch 96: train loss = 0.283344, val loss = 0.314559, time consumed = 0:05:27\n"
          ]
        },
        {
          "output_type": "stream",
          "name": "stderr",
          "text": [
            "Training batch\t: 100%|██████████| 125/125 [00:03<00:00, 41.60it/s]\n",
            "Validation batch: 100%|██████████| 32/32 [00:00<00:00, 83.14it/s]"
          ]
        },
        {
          "output_type": "stream",
          "name": "stdout",
          "text": [
            "Epoch 97: train loss = 0.282826, val loss = 0.315180, time consumed = 0:05:30\n",
            "Early stopping!\n"
          ]
        },
        {
          "output_type": "stream",
          "name": "stderr",
          "text": [
            "\n"
          ]
        }
      ],
      "source": [
        "# train the neural network\n",
        "histories, saved_path = train(\n",
        "    train_dl,\n",
        "    val_dl,\n",
        "    model,\n",
        "    loss_fn,\n",
        "    optimizer,\n",
        "    epochs,\n",
        "    early_stopping_patience,\n",
        "    lr_scheduler,\n",
        "    saved_path_prefix\n",
        ")"
      ]
    },
    {
      "cell_type": "code",
      "execution_count": 75,
      "metadata": {
        "colab": {
          "base_uri": "https://localhost:8080/",
          "height": 472
        },
        "id": "lXXWBK_V_vjx",
        "outputId": "7ec82741-358e-4af5-b488-c43c7f5c8396"
      },
      "outputs": [
        {
          "output_type": "display_data",
          "data": {
            "text/plain": [
              "<Figure size 640x480 with 1 Axes>"
            ],
            "image/png": "[encoded data removed]"
          },
          "metadata": {}
        }
      ],
      "source": [
        "# plot the train vs. val loss history\n",
        "plt.figure()\n",
        "plt.plot(np.arange(len(histories['train_epoch'])), histories['train_epoch'], '-', label = 'train loss')\n",
        "plt.plot(np.arange(len(histories['val_epoch'])), histories['val_epoch'], '-', label = 'val loss')\n",
        "plt.title('train vs. validation loss history')\n",
        "plt.xlabel('epoch')\n",
        "plt.ylabel('loss')\n",
        "plt.legend()\n",
        "plt.show()"
      ]
    },
    {
      "cell_type": "code",
      "execution_count": 76,
      "metadata": {
        "colab": {
          "base_uri": "https://localhost:8080/"
        },
        "id": "1humOzwn_vjx",
        "outputId": "1026e858-e6fb-4fee-e880-d53c96f2a4be"
      },
      "outputs": [
        {
          "output_type": "execute_result",
          "data": {
            "text/plain": [
              "MultiLabelBiLSTM(\n",
              "  (embedding): Embedding(24064, 200)\n",
              "  (dropout): Dropout(p=0.3, inplace=False)\n",
              "  (lstm): LSTM(200, 256, batch_first=True, bidirectional=True)\n",
              "  (fc): Linear(in_features=512, out_features=33, bias=True)\n",
              ")"
            ]
          },
          "metadata": {},
          "execution_count": 76
        }
      ],
      "source": [
        "# reload the best model\n",
        "model.load_state_dict(torch.load(saved_path))\n",
        "model.to(device)"
      ]
    },
    {
      "cell_type": "code",
      "execution_count": 77,
      "metadata": {
        "id": "CgGShrp0_vjx"
      },
      "outputs": [],
      "source": [
        "def test_model(test_dl, model, loss_fn, threshold=0.5):\n",
        "    test_loss = 0.0\n",
        "    all_logits = []\n",
        "    all_probs = []\n",
        "    all_preds = []\n",
        "    all_true = []\n",
        "\n",
        "    with torch.no_grad():\n",
        "        for X_batch, y_batch, lengths in test_dl:\n",
        "            X_batch, y_batch, lengths = X_batch.to(device), y_batch.to(device), lengths.to(device)\n",
        "\n",
        "            # Forward pass: get predicted probabilities\n",
        "            logits = model(X_batch, lengths)  # Shape: (batch_size, num_classes)\n",
        "\n",
        "            # Calculate loss for this batch\n",
        "            loss = loss_fn(logits, y_batch)\n",
        "            test_loss += loss.item()\n",
        "\n",
        "            # Get predicted probabilities (our model already applies sigmoid)\n",
        "            probs = logits\n",
        "\n",
        "            # Convert probabilities to binary predictions using threshold\n",
        "            preds = (probs >= threshold).float()\n",
        "\n",
        "            # Collect outputs and ground truth for evaluation\n",
        "            all_logits.append(logits.cpu().numpy())\n",
        "            all_probs.append(probs.cpu().numpy())\n",
        "            all_preds.append(preds.cpu().numpy())\n",
        "            all_true.append(y_batch.cpu().numpy())\n",
        "\n",
        "    # Average test loss over batches\n",
        "    test_loss /= len(test_dl)\n",
        "\n",
        "    # Concatenate outputs from all batches\n",
        "    all_true = np.concatenate(all_true, axis=0)\n",
        "    all_preds = np.concatenate(all_preds, axis=0)\n",
        "    all_probs = np.concatenate(all_probs, axis=0)\n",
        "\n",
        "    print(f\"Test Loss: {test_loss:.4f}\")\n",
        "    return all_logits, all_probs, all_preds, all_true"
      ]
    },
    {
      "cell_type": "code",
      "execution_count": 78,
      "metadata": {
        "colab": {
          "base_uri": "https://localhost:8080/"
        },
        "id": "cMcDf_hM_vjx",
        "outputId": "3a7cc22e-1766-428b-d3b4-be5f3235cb1c"
      },
      "outputs": [
        {
          "output_type": "stream",
          "name": "stdout",
          "text": [
            "Test Loss: 0.3115\n",
            "Classification Report:\n",
            "                     precision    recall  f1-score   support\n",
            "\n",
            "  dark_pigmentation       0.00      0.00      0.00       193\n",
            "               acne       0.00      0.00      0.00       161\n",
            "        eye_contour       0.81      0.78      0.79        91\n",
            "        homogeneity       0.78      0.75      0.76       739\n",
            "      lack_firmness       0.70      0.19      0.29       189\n",
            "      lack_radiance       0.78      0.81      0.80       781\n",
            "              pores       1.00      0.03      0.05       189\n",
            "         fine_lines       0.00      0.00      0.00         3\n",
            "wrinkles_fine-lines       0.73      0.74      0.74       428\n",
            "       eye-wrinkles       0.75      0.73      0.74        74\n",
            "      undereye-bags       0.83      0.64      0.73        76\n",
            "            generic       0.00      0.00      0.00        10\n",
            "              18-34       0.91      1.00      0.95      1134\n",
            "              35-54       0.93      1.00      0.96      1163\n",
            "              55-99       0.94      1.00      0.97      1169\n",
            "                dry       0.83      0.96      0.89      1003\n",
            "             normal       0.85      0.98      0.91      1052\n",
            "               oily       0.83      0.97      0.89      1007\n",
            "        combination       0.84      0.99      0.91      1021\n",
            "   sensitivity-high       0.00      0.00      0.00       109\n",
            "    sensitivity-low       1.00      0.01      0.01       179\n",
            "     no_sensitivity       0.83      0.99      0.90      1014\n",
            "               male       0.76      0.35      0.48       458\n",
            "             female       0.94      1.00      0.97      1122\n",
            "            cleanse       0.83      0.65      0.73       226\n",
            "            prepare       0.00      0.00      0.00        90\n",
            "              treat       0.82      0.81      0.82       636\n",
            "           targeted       0.75      0.54      0.63        85\n",
            "               care       0.00      0.00      0.00       195\n",
            "         moisturize       0.79      0.61      0.69       586\n",
            "            protect       0.90      0.52      0.66       247\n",
            "                day       0.90      1.00      0.95      1123\n",
            "              night       0.92      0.96      0.94      1020\n",
            "\n",
            "          micro avg       0.86      0.84      0.85     17573\n",
            "          macro avg       0.67      0.58      0.58     17573\n",
            "       weighted avg       0.82      0.84      0.81     17573\n",
            "        samples avg       0.86      0.84      0.84     17573\n",
            "\n"
          ]
        }
      ],
      "source": [
        "# Evaluate the model on the test set using the test_model function\n",
        "all_logits, all_probs, all_preds, all_true = test_model(test_dl, model, loss_fn, threshold=0.5)\n",
        "\n",
        "# Create a list of output class names from the dataframe (excluding 'text_raw')\n",
        "output_classes = list(df_loreal.columns[1:34])  # Adjust if needed\n",
        "\n",
        "# Print classification metrics for each label\n",
        "print(\"Classification Report:\")\n",
        "print(classification_report(all_true, all_preds, target_names=output_classes))"
      ]
    },
    {
      "cell_type": "code",
      "execution_count": null,
      "metadata": {
        "id": "-QcxOlxm_vjx"
      },
      "outputs": [],
      "source": []
    }
  ],
  "metadata": {
    "kernelspec": {
      "display_name": "Python 3",
      "name": "python3"
    },
    "language_info": {
      "codemirror_mode": {
        "name": "ipython",
        "version": 3
      },
      "file_extension": ".py",
      "mimetype": "text/x-python",
      "name": "python",
      "nbconvert_exporter": "python",
      "pygments_lexer": "ipython3",
      "version": "3.12.5"
    },
    "colab": {
      "provenance": [],
      "gpuType": "T4"
    },
    "accelerator": "GPU"
  },
  "nbformat": 4,
  "nbformat_minor": 0
}
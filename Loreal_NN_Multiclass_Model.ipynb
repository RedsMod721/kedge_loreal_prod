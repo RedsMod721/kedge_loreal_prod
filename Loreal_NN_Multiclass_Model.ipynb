{
 "cells": [
  {
   "cell_type": "code",
   "execution_count": 46,
   "metadata": {},
   "outputs": [],
   "source": [
    "import os\n",
    "import warnings\n",
    "import datetime\n",
    "\n",
    "\n",
    "import numpy as np\n",
    "import pandas as pd\n",
    "import matplotlib.pyplot as plt\n",
    "\n",
    "from tqdm import tqdm\n",
    "from sklearn.metrics import classification_report\n",
    "\n",
    "import torch\n",
    "from torch import nn\n",
    "from torch.utils.data import Dataset, DataLoader\n",
    "from torch.utils.data.dataset import random_split\n",
    "\n",
    "# for padding a list of variable length tensors to equal length\n",
    "from torch.nn.utils.rnn import pad_sequence\n",
    "# for packing a tensor containing padded sequences of variable length\n",
    "from torch.nn.utils.rnn import pack_padded_sequence\n",
    "\n",
    "import nltk\n",
    "# for removing stop words like 'the', 'and', etc\n",
    "# stop words don't provide useful information\n",
    "from nltk.corpus import stopwords\n",
    "# for tokenization\n",
    "from nltk.tokenize import word_tokenize\n",
    "\n",
    "# for counting the number of unique tokens\n",
    "from collections import Counter\n"
   ]
  },
  {
   "cell_type": "code",
   "execution_count": 48,
   "metadata": {},
   "outputs": [
    {
     "name": "stdout",
     "output_type": "stream",
     "text": [
      "Using cpu device\n"
     ]
    }
   ],
   "source": [
    "# suppress all warnings\n",
    "warnings.filterwarnings(\"ignore\")\n",
    "\n",
    "# get cpu, gpu or mps device for computation\n",
    "device = (\n",
    "    \"cuda\"\n",
    "    if torch.cuda.is_available()\n",
    "    else \"mps\"\n",
    "    if torch.backends.mps.is_available()\n",
    "    else \"cpu\"\n",
    ")\n",
    "print(f\"Using {device} device\")"
   ]
  },
  {
   "cell_type": "code",
   "execution_count": 50,
   "metadata": {},
   "outputs": [
    {
     "name": "stdout",
     "output_type": "stream",
     "text": [
      "                                         description  dark_pigmentation  acne  \\\n",
      "0  Australian Gold Deviously Black 45X Dark Bronz...                  0     0   \n",
      "1  Australian Gold Sunscreen  Spray Gel with Inst...                  0     0   \n",
      "2  Australian Gold Sunscreen Spray Gel - SPF 15 -...                  0     0   \n",
      "3  Avalon Organics Intense Defense Oil-Free Moist...                  0     0   \n",
      "4  Avalon Organics Vitamin C Renewal Facial Cream...                  0     0   \n",
      "\n",
      "   eye_contour  homogeneity  lack_firmness  lack_radiance  pores  fine_lines  \\\n",
      "0            0            0              0              0      0           0   \n",
      "1            0            0              0              1      0           0   \n",
      "2            0            0              0              0      0           0   \n",
      "3            0            0              0              0      0           0   \n",
      "4            0            1              0              1      0           0   \n",
      "\n",
      "   wrinkles_fine-lines  ...  female  cleanse  prepare  treat  targeted  care  \\\n",
      "0                    0  ...       1        0        0      0         0     0   \n",
      "1                    0  ...       1        0        0      0         0     0   \n",
      "2                    0  ...       1        0        0      0         0     0   \n",
      "3                    0  ...       1        0        0      0         0     0   \n",
      "4                    1  ...       1        0        0      1         0     0   \n",
      "\n",
      "   moisturize  protect  day  night  \n",
      "0           0        0    1      1  \n",
      "1           0        1    1      0  \n",
      "2           1        1    1      0  \n",
      "3           1        1    1      1  \n",
      "4           1        0    1      1  \n",
      "\n",
      "[5 rows x 34 columns]\n"
     ]
    }
   ],
   "source": [
    "# Load the concatenated_MV file as a pandas DataFrame\n",
    "file_path = 'concatenated_MV.xlsx'  # Update this path to the actual file location\n",
    "df_loreal = pd.read_excel(file_path)\n",
    "\n",
    "\n",
    "# Display the first few rows of the DataFrame\n",
    "print(df_loreal.head())"
   ]
  },
  {
   "cell_type": "code",
   "execution_count": 51,
   "metadata": {},
   "outputs": [
    {
     "name": "stdout",
     "output_type": "stream",
     "text": [
      "Number of output classes: 33\n",
      "List of output classes:\n",
      "['dark_pigmentation', 'acne', 'eye_contour', 'homogeneity', 'lack_firmness', 'lack_radiance', 'pores', 'fine_lines', 'wrinkles_fine-lines', 'eye-wrinkles', 'undereye-bags', 'generic', '18-34', '35-54', '55-99', 'dry', 'normal', 'oily', 'combination', 'sensitivity-high', 'sensitivity-low', 'no_sensitivity', 'male', 'female', 'cleanse', 'prepare', 'treat', 'targeted', 'care', 'moisturize', 'protect', 'day', 'night']\n"
     ]
    }
   ],
   "source": [
    "# Extract the output class names (column names excluding the text column)\n",
    "output_classes = list(df_loreal.columns[1:34])  # Exclude the 'text_raw' column\n",
    "\n",
    "num_classes = len(output_classes)\n",
    "\n",
    "# Display the output\n",
    "print(f\"Number of output classes: {num_classes}\")\n",
    "print(\"List of output classes:\")\n",
    "print(output_classes)"
   ]
  },
  {
   "cell_type": "code",
   "execution_count": 52,
   "metadata": {},
   "outputs": [
    {
     "name": "stderr",
     "output_type": "stream",
     "text": [
      "[nltk_data] Downloading package punkt to\n",
      "[nltk_data]     C:\\Users\\coope\\AppData\\Roaming\\nltk_data...\n",
      "[nltk_data]   Package punkt is already up-to-date!\n",
      "[nltk_data] Downloading package stopwords to\n",
      "[nltk_data]     C:\\Users\\coope\\AppData\\Roaming\\nltk_data...\n",
      "[nltk_data]   Package stopwords is already up-to-date!\n",
      "[nltk_data] Downloading package punkt_tab to\n",
      "[nltk_data]     C:\\Users\\coope\\AppData\\Roaming\\nltk_data...\n",
      "[nltk_data]   Package punkt_tab is already up-to-date!\n"
     ]
    },
    {
     "data": {
      "text/html": [
       "<div>\n",
       "<style scoped>\n",
       "    .dataframe tbody tr th:only-of-type {\n",
       "        vertical-align: middle;\n",
       "    }\n",
       "\n",
       "    .dataframe tbody tr th {\n",
       "        vertical-align: top;\n",
       "    }\n",
       "\n",
       "    .dataframe thead th {\n",
       "        text-align: right;\n",
       "    }\n",
       "</style>\n",
       "<table border=\"1\" class=\"dataframe\">\n",
       "  <thead>\n",
       "    <tr style=\"text-align: right;\">\n",
       "      <th></th>\n",
       "      <th>description</th>\n",
       "      <th>tokens</th>\n",
       "    </tr>\n",
       "  </thead>\n",
       "  <tbody>\n",
       "    <tr>\n",
       "      <th>0</th>\n",
       "      <td>Australian Gold Deviously Black 45X Dark Bronz...</td>\n",
       "      <td>[australian, gold, deviously, black, 45x, dark...</td>\n",
       "    </tr>\n",
       "    <tr>\n",
       "      <th>1</th>\n",
       "      <td>Australian Gold Sunscreen  Spray Gel with Inst...</td>\n",
       "      <td>[australian, gold, sunscreen, spray, gel, inst...</td>\n",
       "    </tr>\n",
       "    <tr>\n",
       "      <th>2</th>\n",
       "      <td>Australian Gold Sunscreen Spray Gel - SPF 15 -...</td>\n",
       "      <td>[australian, gold, sunscreen, spray, gel, -, s...</td>\n",
       "    </tr>\n",
       "    <tr>\n",
       "      <th>3</th>\n",
       "      <td>Avalon Organics Intense Defense Oil-Free Moist...</td>\n",
       "      <td>[avalon, organics, intense, defense, oil-free,...</td>\n",
       "    </tr>\n",
       "    <tr>\n",
       "      <th>4</th>\n",
       "      <td>Avalon Organics Vitamin C Renewal Facial Cream...</td>\n",
       "      <td>[avalon, organics, vitamin, c, renewal, facial...</td>\n",
       "    </tr>\n",
       "  </tbody>\n",
       "</table>\n",
       "</div>"
      ],
      "text/plain": [
       "                                         description  \\\n",
       "0  Australian Gold Deviously Black 45X Dark Bronz...   \n",
       "1  Australian Gold Sunscreen  Spray Gel with Inst...   \n",
       "2  Australian Gold Sunscreen Spray Gel - SPF 15 -...   \n",
       "3  Avalon Organics Intense Defense Oil-Free Moist...   \n",
       "4  Avalon Organics Vitamin C Renewal Facial Cream...   \n",
       "\n",
       "                                              tokens  \n",
       "0  [australian, gold, deviously, black, 45x, dark...  \n",
       "1  [australian, gold, sunscreen, spray, gel, inst...  \n",
       "2  [australian, gold, sunscreen, spray, gel, -, s...  \n",
       "3  [avalon, organics, intense, defense, oil-free,...  \n",
       "4  [avalon, organics, vitamin, c, renewal, facial...  "
      ]
     },
     "execution_count": 52,
     "metadata": {},
     "output_type": "execute_result"
    }
   ],
   "source": [
    "# ensure NLTK resources are downloaded\n",
    "nltk.download('punkt')\n",
    "nltk.download('stopwords')\n",
    "nltk.download('punkt_tab')\n",
    "\n",
    "# set the stop words to the English mode\n",
    "stop_words = set(stopwords.words('english'))\n",
    "\n",
    "# define a function for pre-processing\n",
    "def preprocess_text(text):\n",
    "    # Tokenize\n",
    "    tokens = word_tokenize(text.lower())\n",
    "    # Remove stopwords and non-alphabetic tokens\n",
    "    tokens = [word for word in tokens if word not in stop_words]  # remove stop words\n",
    "    return tokens\n",
    "\n",
    "# Apply preprocessing to the 'text_raw' column\n",
    "df_loreal[\"tokens\"] = df_loreal[\"description\"].apply(preprocess_text)\n",
    "\n",
    "# Display first few tokenized samples\n",
    "df_loreal[[\"description\", \"tokens\"]].head()"
   ]
  },
  {
   "cell_type": "code",
   "execution_count": 53,
   "metadata": {},
   "outputs": [
    {
     "name": "stdout",
     "output_type": "stream",
     "text": [
      "The number of unique tokens in the vocabulary: 24064\n"
     ]
    }
   ],
   "source": [
    "# build vocabulary\n",
    "all_tokens = [token for tokens in df_loreal['tokens'] for token in tokens]\n",
    "token_counts = Counter(all_tokens)\n",
    "print('The number of unique tokens in the vocabulary:', len(token_counts))"
   ]
  },
  {
   "cell_type": "code",
   "execution_count": 54,
   "metadata": {},
   "outputs": [
    {
     "name": "stdout",
     "output_type": "stream",
     "text": [
      "Fitted Normal Distribution: mu = 25.94, sigma = 392.86\n"
     ]
    },
    {
     "data": {
      "image/png": "[encoded data removed]",
      "text/plain": [
       "<Figure size 1000x600 with 1 Axes>"
      ]
     },
     "metadata": {},
     "output_type": "display_data"
    }
   ],
   "source": [
    "import numpy as np\n",
    "import matplotlib.pyplot as plt\n",
    "from scipy.stats import norm\n",
    "\n",
    "# Assume token_counts is already defined from our vocabulary creation step:\n",
    "# token_counts = Counter(all_tokens)\n",
    "\n",
    "# Get an array of token frequencies\n",
    "frequencies = np.array(list(token_counts.values()))\n",
    "\n",
    "# Plot the histogram of token frequencies\n",
    "plt.figure(figsize=(10, 6))\n",
    "n, bins, patches = plt.hist(frequencies, bins=50, density=True, alpha=0.6, color='skyblue', edgecolor='black', label='Token Frequency Histogram')\n",
    "\n",
    "# Fit a normal distribution to the frequency data\n",
    "mu, sigma = norm.fit(frequencies)\n",
    "print(f\"Fitted Normal Distribution: mu = {mu:.2f}, sigma = {sigma:.2f}\")\n",
    "\n",
    "# Set the x-axis maximum to 10,000\n",
    "xmin, _ = plt.xlim()\n",
    "xmax = 5000\n",
    "plt.xlim(xmin, xmax)\n",
    "\n",
    "# Create a range of values for plotting the PDF of the fitted normal distribution\n",
    "x = np.linspace(xmin, xmax, 100)\n",
    "p = norm.pdf(x, mu, sigma)\n",
    "\n",
    "# Plot the fitted normal distribution curve\n",
    "plt.plot(x, p, 'r', linewidth=2, label=f'Normal fit (mu={mu:.2f}, sigma={sigma:.2f})')\n",
    "plt.xlabel('Token Frequency')\n",
    "plt.ylabel('Density')\n",
    "plt.title('Token Frequency Distribution with Fitted Normal Curve')\n",
    "plt.legend()\n",
    "plt.show()\n",
    "\n"
   ]
  },
  {
   "cell_type": "code",
   "execution_count": 55,
   "metadata": {},
   "outputs": [
    {
     "data": {
      "text/html": [
       "<div>\n",
       "<style scoped>\n",
       "    .dataframe tbody tr th:only-of-type {\n",
       "        vertical-align: middle;\n",
       "    }\n",
       "\n",
       "    .dataframe tbody tr th {\n",
       "        vertical-align: top;\n",
       "    }\n",
       "\n",
       "    .dataframe thead th {\n",
       "        text-align: right;\n",
       "    }\n",
       "</style>\n",
       "<table border=\"1\" class=\"dataframe\">\n",
       "  <thead>\n",
       "    <tr style=\"text-align: right;\">\n",
       "      <th></th>\n",
       "      <th>description</th>\n",
       "      <th>tokens</th>\n",
       "      <th>encoded_tokens</th>\n",
       "    </tr>\n",
       "  </thead>\n",
       "  <tbody>\n",
       "    <tr>\n",
       "      <th>0</th>\n",
       "      <td>Australian Gold Deviously Black 45X Dark Bronz...</td>\n",
       "      <td>[australian, gold, deviously, black, 45x, dark...</td>\n",
       "      <td>[1002, 390, 9460, 384, 12863, 54, 1687, 4400, ...</td>\n",
       "    </tr>\n",
       "    <tr>\n",
       "      <th>1</th>\n",
       "      <td>Australian Gold Sunscreen  Spray Gel with Inst...</td>\n",
       "      <td>[australian, gold, sunscreen, spray, gel, inst...</td>\n",
       "      <td>[1002, 390, 29, 173, 61, 270, 1687, 9, 26, 213...</td>\n",
       "    </tr>\n",
       "    <tr>\n",
       "      <th>2</th>\n",
       "      <td>Australian Gold Sunscreen Spray Gel - SPF 15 -...</td>\n",
       "      <td>[australian, gold, sunscreen, spray, gel, -, s...</td>\n",
       "      <td>[1002, 390, 29, 173, 61, 9, 26, 126, 9, 392, 8...</td>\n",
       "    </tr>\n",
       "    <tr>\n",
       "      <th>3</th>\n",
       "      <td>Avalon Organics Intense Defense Oil-Free Moist...</td>\n",
       "      <td>[avalon, organics, intense, defense, oil-free,...</td>\n",
       "      <td>[3066, 1539, 397, 541, 156, 20, 2, 100, 17, 30...</td>\n",
       "    </tr>\n",
       "    <tr>\n",
       "      <th>4</th>\n",
       "      <td>Avalon Organics Vitamin C Renewal Facial Cream...</td>\n",
       "      <td>[avalon, organics, vitamin, c, renewal, facial...</td>\n",
       "      <td>[3066, 1539, 24, 53, 367, 31, 7, 2, 3432, 3066...</td>\n",
       "    </tr>\n",
       "  </tbody>\n",
       "</table>\n",
       "</div>"
      ],
      "text/plain": [
       "                                         description  \\\n",
       "0  Australian Gold Deviously Black 45X Dark Bronz...   \n",
       "1  Australian Gold Sunscreen  Spray Gel with Inst...   \n",
       "2  Australian Gold Sunscreen Spray Gel - SPF 15 -...   \n",
       "3  Avalon Organics Intense Defense Oil-Free Moist...   \n",
       "4  Avalon Organics Vitamin C Renewal Facial Cream...   \n",
       "\n",
       "                                              tokens  \\\n",
       "0  [australian, gold, deviously, black, 45x, dark...   \n",
       "1  [australian, gold, sunscreen, spray, gel, inst...   \n",
       "2  [australian, gold, sunscreen, spray, gel, -, s...   \n",
       "3  [avalon, organics, intense, defense, oil-free,...   \n",
       "4  [avalon, organics, vitamin, c, renewal, facial...   \n",
       "\n",
       "                                      encoded_tokens  \n",
       "0  [1002, 390, 9460, 384, 12863, 54, 1687, 4400, ...  \n",
       "1  [1002, 390, 29, 173, 61, 270, 1687, 9, 26, 213...  \n",
       "2  [1002, 390, 29, 173, 61, 9, 26, 126, 9, 392, 8...  \n",
       "3  [3066, 1539, 397, 541, 156, 20, 2, 100, 17, 30...  \n",
       "4  [3066, 1539, 24, 53, 367, 31, 7, 2, 3432, 3066...  "
      ]
     },
     "execution_count": 55,
     "metadata": {},
     "output_type": "execute_result"
    }
   ],
   "source": [
    "# Set vocabulary size (excluding special tokens)\n",
    "vocab_size = 24000  # Adjust as needed\n",
    "\n",
    "# Keep only the most common words (excluding special tokens)\n",
    "common_tokens = token_counts.most_common(vocab_size - 2)  # Reserve space for <PAD> and <UNK>\n",
    "\n",
    "# Create token-to-index mappings\n",
    "token_to_idx = {token: idx + 2 for idx, (token, _) in enumerate(common_tokens)}\n",
    "\n",
    "# Special tokens\n",
    "token_to_idx[\"<PAD>\"] = 0  # Padding token\n",
    "token_to_idx[\"<UNK>\"] = 1  # Unknown token\n",
    "\n",
    "# Create index-to-token mapping (for decoding)\n",
    "idx_to_token = {idx: token for token, idx in token_to_idx.items()}\n",
    "\n",
    "# Define a function to encode tokens into integer sequences\n",
    "def encode_tokens(tokens):\n",
    "    return [token_to_idx.get(token, token_to_idx[\"<UNK>\"]) for token in tokens]\n",
    "\n",
    "# Apply encoding to the dataset\n",
    "df_loreal[\"encoded_tokens\"] = df_loreal[\"tokens\"].apply(encode_tokens)\n",
    "\n",
    "# Display first few rows with encoded tokens\n",
    "df_loreal[[\"description\", \"tokens\", \"encoded_tokens\"]].head()"
   ]
  },
  {
   "cell_type": "code",
   "execution_count": 57,
   "metadata": {},
   "outputs": [],
   "source": [
    "# Define a custom Dataset class\n",
    "class LOREALMultiLabelDataset(Dataset):\n",
    "    def __init__(self, encoded_tokens_list, labels):\n",
    "        self.encoded_tokens_list = encoded_tokens_list\n",
    "        self.labels = labels\n",
    "\n",
    "    def __len__(self):\n",
    "        return len(self.encoded_tokens_list)\n",
    "\n",
    "    def __getitem__(self, idx):\n",
    "        X = self.encoded_tokens_list[idx]\n",
    "        y = self.labels[idx]\n",
    "        \n",
    "        # Convert to PyTorch tensors\n",
    "        X = torch.tensor(X, dtype=torch.long)\n",
    "        y = torch.tensor(y, dtype=torch.float)  # Multi-label classification requires float\n",
    "\n",
    "        return X, y\n",
    "\n",
    "# Define a collate function to handle variable sequence lengths\n",
    "def collate_batch(batch):\n",
    "    batch_X, batch_y, batch_length = [], [], []\n",
    "\n",
    "    for (X, y) in batch:\n",
    "        batch_X.append(X)\n",
    "        batch_y.append(y)\n",
    "        batch_length.append(len(X))\n",
    "\n",
    "    # Convert batch_length to tensor\n",
    "    batch_length = torch.tensor(batch_length, dtype=torch.int64)\n",
    "    batch_y = torch.stack(batch_y)  # Stack labels into a tensor\n",
    "\n",
    "    # Pad sequences to equal length\n",
    "    batch_X = pad_sequence(batch_X, batch_first=True)\n",
    "\n",
    "    return batch_X, batch_y, batch_length"
   ]
  },
  {
   "cell_type": "code",
   "execution_count": null,
   "metadata": {},
   "outputs": [],
   "source": [
    "\n",
    "# Create a single dataset instance from your encoded tokens and multi-label targets\n",
    "ds = LOREALMultiLabelDataset(\n",
    "    df_loreal[\"encoded_tokens\"].tolist(), \n",
    "    df_loreal.iloc[:, 1:34].values  # columns 2 to 33 for labels\n",
    ")\n",
    "train_val_ds, test_ds = random_split(ds, [0.7, 0.3])\n",
    "train_ds, val_ds = random_split(train_val_ds, [0.8, 0.2])"
   ]
  },
  {
   "cell_type": "code",
   "execution_count": 59,
   "metadata": {},
   "outputs": [
    {
     "name": "stdout",
     "output_type": "stream",
     "text": [
      "Train dataset size: 3495\n",
      "Validation dataset size: 873\n",
      "Test dataset size: 1872\n"
     ]
    }
   ],
   "source": [
    "# Define batch size\n",
    "batch_size = 64\n",
    "\n",
    "# Create DataLoader instances\n",
    "train_dl = DataLoader(train_ds, batch_size=batch_size, shuffle=True, collate_fn=collate_batch)\n",
    "val_dl = DataLoader(val_ds, batch_size=batch_size, shuffle=False, collate_fn=collate_batch)\n",
    "test_dl = DataLoader(test_ds, batch_size=batch_size, shuffle=False, collate_fn=collate_batch)\n",
    "\n",
    "# Display dataset statistics\n",
    "print(f\"Train dataset size: {len(train_ds)}\")\n",
    "print(f\"Validation dataset size: {len(val_ds)}\")\n",
    "print(f\"Test dataset size: {len(test_ds)}\")"
   ]
  },
  {
   "cell_type": "code",
   "execution_count": 60,
   "metadata": {},
   "outputs": [],
   "source": [
    "import torch.nn as nn\n",
    "\n",
    "# Define the Multi-Label LSTM Model\n",
    "class MultiLabelLSTM(nn.Module):\n",
    "    def __init__(self, vocab_size, embed_size, hidden_size, num_classes):\n",
    "        super().__init__()\n",
    "        \n",
    "        # Embedding layer\n",
    "        self.embedding = nn.Embedding(vocab_size, embed_size)\n",
    "        \n",
    "        # LSTM layer\n",
    "        self.lstm = nn.LSTM(embed_size, hidden_size, batch_first=True)\n",
    "        \n",
    "        # Fully connected output layer\n",
    "        self.fc = nn.Linear(hidden_size, num_classes)  # Output size = number of labels\n",
    "        \n",
    "    def forward(self, x, lengths):\n",
    "        # Convert token IDs into embeddings\n",
    "        x = self.embedding(x)\n",
    "\n",
    "        # Pack padded sequences for efficient LSTM processing\n",
    "        packed_x = pack_padded_sequence(x, lengths.cpu(), batch_first=True, enforce_sorted=False)\n",
    "        \n",
    "        # LSTM forward pass\n",
    "        out, (h, c) = self.lstm(packed_x)\n",
    "        \n",
    "        # Fully connected layer with sigmoid activation (multi-label)\n",
    "        return torch.sigmoid(self.fc(h[-1]))  # Sigmoid for independent label probabilities\n"
   ]
  },
  {
   "cell_type": "code",
   "execution_count": 61,
   "metadata": {},
   "outputs": [
    {
     "name": "stdout",
     "output_type": "stream",
     "text": [
      "33\n"
     ]
    }
   ],
   "source": [
    "print(num_classes)"
   ]
  },
  {
   "cell_type": "code",
   "execution_count": 62,
   "metadata": {},
   "outputs": [
    {
     "name": "stdout",
     "output_type": "stream",
     "text": [
      "MultiLabelLSTM(\n",
      "  (embedding): Embedding(24000, 128)\n",
      "  (lstm): LSTM(128, 64, batch_first=True)\n",
      "  (fc): Linear(in_features=64, out_features=33, bias=True)\n",
      ")\n"
     ]
    }
   ],
   "source": [
    "# Define model parameters\n",
    "embed_size = 128\n",
    "hidden_size = 64\n",
    "\n",
    "# Create the model instance\n",
    "model = MultiLabelLSTM(vocab_size, embed_size, hidden_size, num_classes)\n",
    "\n",
    "# Move model to computation device (GPU if available)\n",
    "device = torch.device(\"cuda\" if torch.cuda.is_available() else \"cpu\")\n",
    "model = model.to(device)\n",
    "\n",
    "# Print model architecture\n",
    "print(model)"
   ]
  },
  {
   "cell_type": "code",
   "execution_count": 63,
   "metadata": {},
   "outputs": [],
   "source": [
    "# define the training function\n",
    "def train(\n",
    "    train_dl,\n",
    "    val_dl,\n",
    "    model,\n",
    "    loss_fn,\n",
    "    optimizer,\n",
    "    epochs,\n",
    "    early_stopping_patience,\n",
    "    lr_scheduler,\n",
    "    saved_path_prefix\n",
    "):\n",
    "    # initialization\n",
    "    min_val_loss = np.inf\n",
    "    patience_counter = 0\n",
    "    histories = {\n",
    "        'train_batch': [],\n",
    "        'train_epoch': [],\n",
    "        'val_batch': [],\n",
    "        'val_epoch': []\n",
    "    }\n",
    "    saved_path = ''\n",
    "    start_time = datetime.datetime.now()\n",
    "\n",
    "    # start training\n",
    "    for epoch in range(epochs):\n",
    "        # train set\n",
    "        train_epoch_loss = 0.0\n",
    "        model.train()\n",
    "        for X, y, lens in tqdm(train_dl, desc = f'Training batch\\t'): # tqdm progress bar\n",
    "            X, y, lens = X.to(device), y.to(device), lens.to(device)\n",
    "            logits = model(X, lens)\n",
    "            train_batch_loss = loss_fn(logits, y)\n",
    "            train_batch_loss.backward()\n",
    "            optimizer.step()\n",
    "            optimizer.zero_grad()\n",
    "            histories['train_batch'].append(train_batch_loss.item())\n",
    "            train_epoch_loss += train_batch_loss.item()\n",
    "        train_epoch_loss /= len(train_dl)\n",
    "        histories['train_epoch'].append(train_epoch_loss)\n",
    "\n",
    "        # validation set\n",
    "        val_epoch_loss = 0.0\n",
    "        model.eval()\n",
    "        with torch.no_grad():\n",
    "            for X, y, lens in tqdm(val_dl, desc = f'Validation batch'): # tqdm progress bar\n",
    "                X, y, lens = X.to(device), y.to(device), lens.to(device)\n",
    "                logits = model(X, lens)\n",
    "                val_batch_loss = loss_fn(logits, y)\n",
    "                histories['val_batch'].append(val_batch_loss.item())\n",
    "                val_epoch_loss += val_batch_loss.item()\n",
    "            val_epoch_loss /= len(val_dl)\n",
    "            histories['val_epoch'].append(val_epoch_loss)\n",
    "\n",
    "        # print log\n",
    "        end_time = datetime.datetime.now()\n",
    "        time_consumed = str(end_time - start_time).split('.')[0]\n",
    "        print(f\"Epoch {epoch + 1}: train loss = {train_epoch_loss:>5f}, val loss = {val_epoch_loss:>5f}, time consumed = {time_consumed}\")\n",
    "\n",
    "        # learning rate decay\n",
    "        current_lr = optimizer.param_groups[0]['lr']\n",
    "        lr_scheduler.step(val_epoch_loss)\n",
    "        new_lr = optimizer.param_groups[0]['lr']\n",
    "        if current_lr != new_lr:\n",
    "            print(f'Learning rate reduced after epoch {epoch+1}\\n')\n",
    "\n",
    "        # early stopping\n",
    "        if val_epoch_loss < min_val_loss:\n",
    "            if os.path.exists(saved_path):\n",
    "                os.remove(saved_path)\n",
    "            time_str = datetime.datetime.now().strftime(\"%Y-%m-%d_%H-%M-%S\")\n",
    "            saved_path = saved_path_prefix + f'epoch{epoch+1}val_loss{val_epoch_loss:>4f}_{time_str}.pth'\n",
    "            torch.save(model.state_dict(), saved_path)\n",
    "            print(f'Model saved after epoch {epoch+1}')\n",
    "            patience_counter += 1\n",
    "            if (val_epoch_loss + 0.009) < min_val_loss:\n",
    "                patience_counter = 0\n",
    "                print('Reset patience counter\\n')            \n",
    "            min_val_loss = val_epoch_loss\n",
    "        else:\n",
    "            patience_counter += 1\n",
    "        if patience_counter >= early_stopping_patience:\n",
    "            print('Early stopping!')\n",
    "            break\n",
    "    return histories, saved_path"
   ]
  },
  {
   "cell_type": "code",
   "execution_count": 64,
   "metadata": {},
   "outputs": [],
   "source": [
    "# define the training hyper-parameters\n",
    "loss_fn = nn.BCEWithLogitsLoss()\n",
    "learning_rate = 1e-1\n",
    "weight_decay = 1e-5\n",
    "optimizer = torch.optim.SGD(\n",
    "    model.parameters(),\n",
    "    lr = learning_rate,\n",
    "    weight_decay = weight_decay\n",
    ")\n",
    "epochs = 10000000\n",
    "early_stopping_patience = 5\n",
    "lr_scheduler = torch.optim.lr_scheduler.ReduceLROnPlateau(\n",
    "    optimizer,\n",
    "    mode = 'min',\n",
    "    factor = 0.1,\n",
    "    patience = 2\n",
    ")\n",
    "saved_path_prefix = 'loreal_product_classifier'"
   ]
  },
  {
   "cell_type": "code",
   "execution_count": 65,
   "metadata": {},
   "outputs": [
    {
     "name": "stderr",
     "output_type": "stream",
     "text": [
      "Training batch\t: 100%|██████████| 55/55 [01:20<00:00,  1.46s/it]\n",
      "Validation batch: 100%|██████████| 14/14 [00:02<00:00,  6.57it/s]\n"
     ]
    },
    {
     "name": "stdout",
     "output_type": "stream",
     "text": [
      "Epoch 1: train loss = 0.757924, val loss = 0.756433, time consumed = 0:01:22\n",
      "Model saved after epoch 1\n",
      "Reset patience counter\n",
      "\n"
     ]
    },
    {
     "name": "stderr",
     "output_type": "stream",
     "text": [
      "Training batch\t:   5%|▌         | 3/55 [00:06<01:45,  2.03s/it]\n"
     ]
    },
    {
     "ename": "KeyboardInterrupt",
     "evalue": "",
     "output_type": "error",
     "traceback": [
      "\u001b[1;31m---------------------------------------------------------------------------\u001b[0m",
      "\u001b[1;31mKeyboardInterrupt\u001b[0m                         Traceback (most recent call last)",
      "Cell \u001b[1;32mIn[65], line 2\u001b[0m\n\u001b[0;32m      1\u001b[0m \u001b[38;5;66;03m# train the neural network\u001b[39;00m\n\u001b[1;32m----> 2\u001b[0m histories, saved_path \u001b[38;5;241m=\u001b[39m \u001b[43mtrain\u001b[49m\u001b[43m(\u001b[49m\n\u001b[0;32m      3\u001b[0m \u001b[43m    \u001b[49m\u001b[43mtrain_dl\u001b[49m\u001b[43m,\u001b[49m\n\u001b[0;32m      4\u001b[0m \u001b[43m    \u001b[49m\u001b[43mval_dl\u001b[49m\u001b[43m,\u001b[49m\n\u001b[0;32m      5\u001b[0m \u001b[43m    \u001b[49m\u001b[43mmodel\u001b[49m\u001b[43m,\u001b[49m\n\u001b[0;32m      6\u001b[0m \u001b[43m    \u001b[49m\u001b[43mloss_fn\u001b[49m\u001b[43m,\u001b[49m\n\u001b[0;32m      7\u001b[0m \u001b[43m    \u001b[49m\u001b[43moptimizer\u001b[49m\u001b[43m,\u001b[49m\n\u001b[0;32m      8\u001b[0m \u001b[43m    \u001b[49m\u001b[43mepochs\u001b[49m\u001b[43m,\u001b[49m\n\u001b[0;32m      9\u001b[0m \u001b[43m    \u001b[49m\u001b[43mearly_stopping_patience\u001b[49m\u001b[43m,\u001b[49m\n\u001b[0;32m     10\u001b[0m \u001b[43m    \u001b[49m\u001b[43mlr_scheduler\u001b[49m\u001b[43m,\u001b[49m\n\u001b[0;32m     11\u001b[0m \u001b[43m    \u001b[49m\u001b[43msaved_path_prefix\u001b[49m\n\u001b[0;32m     12\u001b[0m \u001b[43m)\u001b[49m\n",
      "Cell \u001b[1;32mIn[63], line 34\u001b[0m, in \u001b[0;36mtrain\u001b[1;34m(train_dl, val_dl, model, loss_fn, optimizer, epochs, early_stopping_patience, lr_scheduler, saved_path_prefix)\u001b[0m\n\u001b[0;32m     32\u001b[0m logits \u001b[38;5;241m=\u001b[39m model(X, lens)\n\u001b[0;32m     33\u001b[0m train_batch_loss \u001b[38;5;241m=\u001b[39m loss_fn(logits, y)\n\u001b[1;32m---> 34\u001b[0m \u001b[43mtrain_batch_loss\u001b[49m\u001b[38;5;241;43m.\u001b[39;49m\u001b[43mbackward\u001b[49m\u001b[43m(\u001b[49m\u001b[43m)\u001b[49m\n\u001b[0;32m     35\u001b[0m optimizer\u001b[38;5;241m.\u001b[39mstep()\n\u001b[0;32m     36\u001b[0m optimizer\u001b[38;5;241m.\u001b[39mzero_grad()\n",
      "File \u001b[1;32mc:\\Users\\coope\\AppData\\Local\\Programs\\Python\\Python312\\Lib\\site-packages\\torch\\_tensor.py:581\u001b[0m, in \u001b[0;36mTensor.backward\u001b[1;34m(self, gradient, retain_graph, create_graph, inputs)\u001b[0m\n\u001b[0;32m    571\u001b[0m \u001b[38;5;28;01mif\u001b[39;00m has_torch_function_unary(\u001b[38;5;28mself\u001b[39m):\n\u001b[0;32m    572\u001b[0m     \u001b[38;5;28;01mreturn\u001b[39;00m handle_torch_function(\n\u001b[0;32m    573\u001b[0m         Tensor\u001b[38;5;241m.\u001b[39mbackward,\n\u001b[0;32m    574\u001b[0m         (\u001b[38;5;28mself\u001b[39m,),\n\u001b[1;32m   (...)\u001b[0m\n\u001b[0;32m    579\u001b[0m         inputs\u001b[38;5;241m=\u001b[39minputs,\n\u001b[0;32m    580\u001b[0m     )\n\u001b[1;32m--> 581\u001b[0m \u001b[43mtorch\u001b[49m\u001b[38;5;241;43m.\u001b[39;49m\u001b[43mautograd\u001b[49m\u001b[38;5;241;43m.\u001b[39;49m\u001b[43mbackward\u001b[49m\u001b[43m(\u001b[49m\n\u001b[0;32m    582\u001b[0m \u001b[43m    \u001b[49m\u001b[38;5;28;43mself\u001b[39;49m\u001b[43m,\u001b[49m\u001b[43m \u001b[49m\u001b[43mgradient\u001b[49m\u001b[43m,\u001b[49m\u001b[43m \u001b[49m\u001b[43mretain_graph\u001b[49m\u001b[43m,\u001b[49m\u001b[43m \u001b[49m\u001b[43mcreate_graph\u001b[49m\u001b[43m,\u001b[49m\u001b[43m \u001b[49m\u001b[43minputs\u001b[49m\u001b[38;5;241;43m=\u001b[39;49m\u001b[43minputs\u001b[49m\n\u001b[0;32m    583\u001b[0m \u001b[43m\u001b[49m\u001b[43m)\u001b[49m\n",
      "File \u001b[1;32mc:\\Users\\coope\\AppData\\Local\\Programs\\Python\\Python312\\Lib\\site-packages\\torch\\autograd\\__init__.py:347\u001b[0m, in \u001b[0;36mbackward\u001b[1;34m(tensors, grad_tensors, retain_graph, create_graph, grad_variables, inputs)\u001b[0m\n\u001b[0;32m    342\u001b[0m     retain_graph \u001b[38;5;241m=\u001b[39m create_graph\n\u001b[0;32m    344\u001b[0m \u001b[38;5;66;03m# The reason we repeat the same comment below is that\u001b[39;00m\n\u001b[0;32m    345\u001b[0m \u001b[38;5;66;03m# some Python versions print out the first line of a multi-line function\u001b[39;00m\n\u001b[0;32m    346\u001b[0m \u001b[38;5;66;03m# calls in the traceback and some print out the last line\u001b[39;00m\n\u001b[1;32m--> 347\u001b[0m \u001b[43m_engine_run_backward\u001b[49m\u001b[43m(\u001b[49m\n\u001b[0;32m    348\u001b[0m \u001b[43m    \u001b[49m\u001b[43mtensors\u001b[49m\u001b[43m,\u001b[49m\n\u001b[0;32m    349\u001b[0m \u001b[43m    \u001b[49m\u001b[43mgrad_tensors_\u001b[49m\u001b[43m,\u001b[49m\n\u001b[0;32m    350\u001b[0m \u001b[43m    \u001b[49m\u001b[43mretain_graph\u001b[49m\u001b[43m,\u001b[49m\n\u001b[0;32m    351\u001b[0m \u001b[43m    \u001b[49m\u001b[43mcreate_graph\u001b[49m\u001b[43m,\u001b[49m\n\u001b[0;32m    352\u001b[0m \u001b[43m    \u001b[49m\u001b[43minputs\u001b[49m\u001b[43m,\u001b[49m\n\u001b[0;32m    353\u001b[0m \u001b[43m    \u001b[49m\u001b[43mallow_unreachable\u001b[49m\u001b[38;5;241;43m=\u001b[39;49m\u001b[38;5;28;43;01mTrue\u001b[39;49;00m\u001b[43m,\u001b[49m\n\u001b[0;32m    354\u001b[0m \u001b[43m    \u001b[49m\u001b[43maccumulate_grad\u001b[49m\u001b[38;5;241;43m=\u001b[39;49m\u001b[38;5;28;43;01mTrue\u001b[39;49;00m\u001b[43m,\u001b[49m\n\u001b[0;32m    355\u001b[0m \u001b[43m\u001b[49m\u001b[43m)\u001b[49m\n",
      "File \u001b[1;32mc:\\Users\\coope\\AppData\\Local\\Programs\\Python\\Python312\\Lib\\site-packages\\torch\\autograd\\graph.py:825\u001b[0m, in \u001b[0;36m_engine_run_backward\u001b[1;34m(t_outputs, *args, **kwargs)\u001b[0m\n\u001b[0;32m    823\u001b[0m     unregister_hooks \u001b[38;5;241m=\u001b[39m _register_logging_hooks_on_whole_graph(t_outputs)\n\u001b[0;32m    824\u001b[0m \u001b[38;5;28;01mtry\u001b[39;00m:\n\u001b[1;32m--> 825\u001b[0m     \u001b[38;5;28;01mreturn\u001b[39;00m \u001b[43mVariable\u001b[49m\u001b[38;5;241;43m.\u001b[39;49m\u001b[43m_execution_engine\u001b[49m\u001b[38;5;241;43m.\u001b[39;49m\u001b[43mrun_backward\u001b[49m\u001b[43m(\u001b[49m\u001b[43m  \u001b[49m\u001b[38;5;66;43;03m# Calls into the C++ engine to run the backward pass\u001b[39;49;00m\n\u001b[0;32m    826\u001b[0m \u001b[43m        \u001b[49m\u001b[43mt_outputs\u001b[49m\u001b[43m,\u001b[49m\u001b[43m \u001b[49m\u001b[38;5;241;43m*\u001b[39;49m\u001b[43margs\u001b[49m\u001b[43m,\u001b[49m\u001b[43m \u001b[49m\u001b[38;5;241;43m*\u001b[39;49m\u001b[38;5;241;43m*\u001b[39;49m\u001b[43mkwargs\u001b[49m\n\u001b[0;32m    827\u001b[0m \u001b[43m    \u001b[49m\u001b[43m)\u001b[49m  \u001b[38;5;66;03m# Calls into the C++ engine to run the backward pass\u001b[39;00m\n\u001b[0;32m    828\u001b[0m \u001b[38;5;28;01mfinally\u001b[39;00m:\n\u001b[0;32m    829\u001b[0m     \u001b[38;5;28;01mif\u001b[39;00m attach_logging_hooks:\n",
      "\u001b[1;31mKeyboardInterrupt\u001b[0m: "
     ]
    }
   ],
   "source": [
    "# train the neural network\n",
    "histories, saved_path = train(\n",
    "    train_dl,\n",
    "    val_dl,\n",
    "    model,\n",
    "    loss_fn,\n",
    "    optimizer,\n",
    "    epochs,\n",
    "    early_stopping_patience,\n",
    "    lr_scheduler,\n",
    "    saved_path_prefix\n",
    ")"
   ]
  },
  {
   "cell_type": "code",
   "execution_count": null,
   "metadata": {},
   "outputs": [],
   "source": [
    "# plot the train vs. val loss history\n",
    "plt.figure()\n",
    "plt.plot(np.arange(len(histories['train_epoch'])), histories['train_epoch'], '-', label = 'train loss')\n",
    "plt.plot(np.arange(len(histories['val_epoch'])), histories['val_epoch'], '-', label = 'val loss')\n",
    "plt.title('train vs. validation loss history')\n",
    "plt.xlabel('epoch')\n",
    "plt.ylabel('loss')\n",
    "plt.legend()\n",
    "plt.show()"
   ]
  },
  {
   "cell_type": "code",
   "execution_count": null,
   "metadata": {},
   "outputs": [],
   "source": [
    "# reload the best model\n",
    "model.load_state_dict(torch.load(saved_path))\n",
    "model.to(device)"
   ]
  },
  {
   "cell_type": "code",
   "execution_count": null,
   "metadata": {},
   "outputs": [],
   "source": [
    "def test_model(test_dl, model, loss_fn, threshold=0.5):\n",
    "    test_loss = 0.0\n",
    "    all_logits = []\n",
    "    all_probs = []\n",
    "    all_preds = []\n",
    "    all_true = []\n",
    "    \n",
    "    with torch.no_grad():\n",
    "        for X_batch, y_batch, lengths in test_dl:\n",
    "            X_batch, y_batch, lengths = X_batch.to(device), y_batch.to(device), lengths.to(device)\n",
    "            \n",
    "            # Forward pass: get predicted probabilities\n",
    "            logits = model(X_batch, lengths)  # Shape: (batch_size, num_classes)\n",
    "            \n",
    "            # Calculate loss for this batch\n",
    "            loss = loss_fn(logits, y_batch)\n",
    "            test_loss += loss.item()\n",
    "            \n",
    "            # Get predicted probabilities (our model already applies sigmoid)\n",
    "            probs = logits  \n",
    "            \n",
    "            # Convert probabilities to binary predictions using threshold\n",
    "            preds = (probs >= threshold).float()\n",
    "            \n",
    "            # Collect outputs and ground truth for evaluation\n",
    "            all_logits.append(logits.cpu().numpy())\n",
    "            all_probs.append(probs.cpu().numpy())\n",
    "            all_preds.append(preds.cpu().numpy())\n",
    "            all_true.append(y_batch.cpu().numpy())\n",
    "    \n",
    "    # Average test loss over batches\n",
    "    test_loss /= len(test_dl)\n",
    "    \n",
    "    # Concatenate outputs from all batches\n",
    "    all_true = np.concatenate(all_true, axis=0)\n",
    "    all_preds = np.concatenate(all_preds, axis=0)\n",
    "    all_probs = np.concatenate(all_probs, axis=0)\n",
    "    \n",
    "    print(f\"Test Loss: {test_loss:.4f}\")\n",
    "    return all_logits, all_probs, all_preds, all_true"
   ]
  },
  {
   "cell_type": "code",
   "execution_count": null,
   "metadata": {},
   "outputs": [],
   "source": [
    "# Evaluate the model on the test set using the test_model function\n",
    "all_logits, all_probs, all_preds, all_true = test_model(test_dl, model, loss_fn, threshold=0.5)\n",
    "\n",
    "# Create a list of output class names from the dataframe (excluding 'text_raw')\n",
    "output_classes = list(df_loreal.columns[1:34])  # Adjust if needed\n",
    "\n",
    "# Print classification metrics for each label\n",
    "print(\"Classification Report:\")\n",
    "print(classification_report(all_true, all_preds, target_names=output_classes))"
   ]
  }
 ],
 "metadata": {
  "kernelspec": {
   "display_name": "Python 3",
   "language": "python",
   "name": "python3"
  },
  "language_info": {
   "codemirror_mode": {
    "name": "ipython",
    "version": 3
   },
   "file_extension": ".py",
   "mimetype": "text/x-python",
   "name": "python",
   "nbconvert_exporter": "python",
   "pygments_lexer": "ipython3",
   "version": "3.12.5"
  }
 },
 "nbformat": 4,
 "nbformat_minor": 2
}

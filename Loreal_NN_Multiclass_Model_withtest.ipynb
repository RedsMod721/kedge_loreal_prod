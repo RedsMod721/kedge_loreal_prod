{
 "cells": [
  {
   "cell_type": "code",
   "execution_count": 2,
   "metadata": {},
   "outputs": [
    {
     "name": "stdout",
     "output_type": "stream",
     "text": [
      "Collecting codecarbon\n",
      "  Downloading codecarbon-2.8.3-py3-none-any.whl.metadata (8.7 kB)\n",
      "Collecting arrow (from codecarbon)\n",
      "  Using cached arrow-1.3.0-py3-none-any.whl.metadata (7.5 kB)\n",
      "Requirement already satisfied: click in /opt/anaconda3/envs/ForPyTorch/lib/python3.12/site-packages (from codecarbon) (8.1.7)\n",
      "Collecting fief-client[cli] (from codecarbon)\n",
      "  Downloading fief_client-0.20.0-py3-none-any.whl.metadata (2.1 kB)\n",
      "Requirement already satisfied: pandas in /opt/anaconda3/envs/ForPyTorch/lib/python3.12/site-packages (from codecarbon) (2.2.3)\n",
      "Requirement already satisfied: prometheus-client in /opt/anaconda3/envs/ForPyTorch/lib/python3.12/site-packages (from codecarbon) (0.21.0)\n",
      "Requirement already satisfied: psutil in /opt/anaconda3/envs/ForPyTorch/lib/python3.12/site-packages (from codecarbon) (5.9.0)\n",
      "Collecting py-cpuinfo (from codecarbon)\n",
      "  Downloading py_cpuinfo-9.0.0-py3-none-any.whl.metadata (794 bytes)\n",
      "Collecting pynvml (from codecarbon)\n",
      "  Downloading pynvml-12.0.0-py3-none-any.whl.metadata (5.4 kB)\n",
      "Collecting questionary (from codecarbon)\n",
      "  Downloading questionary-2.1.0-py3-none-any.whl.metadata (5.4 kB)\n",
      "Collecting rapidfuzz (from codecarbon)\n",
      "  Downloading rapidfuzz-3.12.2-cp312-cp312-macosx_11_0_arm64.whl.metadata (12 kB)\n",
      "Requirement already satisfied: requests in /opt/anaconda3/envs/ForPyTorch/lib/python3.12/site-packages (from codecarbon) (2.32.3)\n",
      "Collecting rich (from codecarbon)\n",
      "  Using cached rich-13.9.4-py3-none-any.whl.metadata (18 kB)\n",
      "Collecting typer (from codecarbon)\n",
      "  Downloading typer-0.15.2-py3-none-any.whl.metadata (15 kB)\n",
      "Requirement already satisfied: python-dateutil>=2.7.0 in /opt/anaconda3/envs/ForPyTorch/lib/python3.12/site-packages (from arrow->codecarbon) (2.9.0.post0)\n",
      "Collecting types-python-dateutil>=2.8.10 (from arrow->codecarbon)\n",
      "  Downloading types_python_dateutil-2.9.0.20241206-py3-none-any.whl.metadata (2.1 kB)\n",
      "Requirement already satisfied: httpx<0.28.0,>=0.21.3 in /opt/anaconda3/envs/ForPyTorch/lib/python3.12/site-packages (from fief-client[cli]->codecarbon) (0.27.0)\n",
      "Collecting jwcrypto<2.0.0,>=1.4 (from fief-client[cli]->codecarbon)\n",
      "  Downloading jwcrypto-1.5.6-py3-none-any.whl.metadata (3.1 kB)\n",
      "Collecting yaspin (from fief-client[cli]->codecarbon)\n",
      "  Downloading yaspin-3.1.0-py3-none-any.whl.metadata (14 kB)\n",
      "Requirement already satisfied: numpy>=1.26.0 in /opt/anaconda3/envs/ForPyTorch/lib/python3.12/site-packages (from pandas->codecarbon) (2.0.1)\n",
      "Requirement already satisfied: pytz>=2020.1 in /opt/anaconda3/envs/ForPyTorch/lib/python3.12/site-packages (from pandas->codecarbon) (2024.2)\n",
      "Requirement already satisfied: tzdata>=2022.7 in /opt/anaconda3/envs/ForPyTorch/lib/python3.12/site-packages (from pandas->codecarbon) (2025.1)\n",
      "Collecting nvidia-ml-py<13.0.0a0,>=12.0.0 (from pynvml->codecarbon)\n",
      "  Downloading nvidia_ml_py-12.570.86-py3-none-any.whl.metadata (8.7 kB)\n",
      "Requirement already satisfied: prompt_toolkit<4.0,>=2.0 in /opt/anaconda3/envs/ForPyTorch/lib/python3.12/site-packages (from questionary->codecarbon) (3.0.43)\n",
      "Requirement already satisfied: charset-normalizer<4,>=2 in /opt/anaconda3/envs/ForPyTorch/lib/python3.12/site-packages (from requests->codecarbon) (3.3.2)\n",
      "Requirement already satisfied: idna<4,>=2.5 in /opt/anaconda3/envs/ForPyTorch/lib/python3.12/site-packages (from requests->codecarbon) (3.7)\n",
      "Requirement already satisfied: urllib3<3,>=1.21.1 in /opt/anaconda3/envs/ForPyTorch/lib/python3.12/site-packages (from requests->codecarbon) (2.3.0)\n",
      "Requirement already satisfied: certifi>=2017.4.17 in /opt/anaconda3/envs/ForPyTorch/lib/python3.12/site-packages (from requests->codecarbon) (2025.1.31)\n",
      "Collecting markdown-it-py>=2.2.0 (from rich->codecarbon)\n",
      "  Using cached markdown_it_py-3.0.0-py3-none-any.whl.metadata (6.9 kB)\n",
      "Requirement already satisfied: pygments<3.0.0,>=2.13.0 in /opt/anaconda3/envs/ForPyTorch/lib/python3.12/site-packages (from rich->codecarbon) (2.15.1)\n",
      "Requirement already satisfied: typing-extensions>=3.7.4.3 in /opt/anaconda3/envs/ForPyTorch/lib/python3.12/site-packages (from typer->codecarbon) (4.12.2)\n",
      "Collecting shellingham>=1.3.0 (from typer->codecarbon)\n",
      "  Using cached shellingham-1.5.4-py2.py3-none-any.whl.metadata (3.5 kB)\n",
      "Requirement already satisfied: anyio in /opt/anaconda3/envs/ForPyTorch/lib/python3.12/site-packages (from httpx<0.28.0,>=0.21.3->fief-client[cli]->codecarbon) (4.6.2)\n",
      "Requirement already satisfied: httpcore==1.* in /opt/anaconda3/envs/ForPyTorch/lib/python3.12/site-packages (from httpx<0.28.0,>=0.21.3->fief-client[cli]->codecarbon) (1.0.2)\n",
      "Requirement already satisfied: sniffio in /opt/anaconda3/envs/ForPyTorch/lib/python3.12/site-packages (from httpx<0.28.0,>=0.21.3->fief-client[cli]->codecarbon) (1.3.0)\n",
      "Requirement already satisfied: h11<0.15,>=0.13 in /opt/anaconda3/envs/ForPyTorch/lib/python3.12/site-packages (from httpcore==1.*->httpx<0.28.0,>=0.21.3->fief-client[cli]->codecarbon) (0.14.0)\n",
      "Collecting cryptography>=3.4 (from jwcrypto<2.0.0,>=1.4->fief-client[cli]->codecarbon)\n",
      "  Downloading cryptography-44.0.2-cp39-abi3-macosx_10_9_universal2.whl.metadata (5.7 kB)\n",
      "Collecting mdurl~=0.1 (from markdown-it-py>=2.2.0->rich->codecarbon)\n",
      "  Using cached mdurl-0.1.2-py3-none-any.whl.metadata (1.6 kB)\n",
      "Requirement already satisfied: wcwidth in /opt/anaconda3/envs/ForPyTorch/lib/python3.12/site-packages (from prompt_toolkit<4.0,>=2.0->questionary->codecarbon) (0.2.5)\n",
      "Requirement already satisfied: six>=1.5 in /opt/anaconda3/envs/ForPyTorch/lib/python3.12/site-packages (from python-dateutil>=2.7.0->arrow->codecarbon) (1.16.0)\n",
      "Collecting termcolor<2.4.0,>=2.2.0 (from yaspin->fief-client[cli]->codecarbon)\n",
      "  Downloading termcolor-2.3.0-py3-none-any.whl.metadata (5.3 kB)\n",
      "Requirement already satisfied: cffi>=1.12 in /opt/anaconda3/envs/ForPyTorch/lib/python3.12/site-packages (from cryptography>=3.4->jwcrypto<2.0.0,>=1.4->fief-client[cli]->codecarbon) (1.17.1)\n",
      "Requirement already satisfied: pycparser in /opt/anaconda3/envs/ForPyTorch/lib/python3.12/site-packages (from cffi>=1.12->cryptography>=3.4->jwcrypto<2.0.0,>=1.4->fief-client[cli]->codecarbon) (2.21)\n",
      "Downloading codecarbon-2.8.3-py3-none-any.whl (516 kB)\n",
      "Using cached arrow-1.3.0-py3-none-any.whl (66 kB)\n",
      "Downloading py_cpuinfo-9.0.0-py3-none-any.whl (22 kB)\n",
      "Downloading pynvml-12.0.0-py3-none-any.whl (26 kB)\n",
      "Downloading questionary-2.1.0-py3-none-any.whl (36 kB)\n",
      "Downloading rapidfuzz-3.12.2-cp312-cp312-macosx_11_0_arm64.whl (1.4 MB)\n",
      "\u001b[2K   \u001b[90m━━━━━━━━━━━━━━━━━━━━━━━━━━━━━━━━━━━━━━━━\u001b[0m \u001b[32m1.4/1.4 MB\u001b[0m \u001b[31m28.4 MB/s\u001b[0m eta \u001b[36m0:00:00\u001b[0m\n",
      "\u001b[?25hUsing cached rich-13.9.4-py3-none-any.whl (242 kB)\n",
      "Downloading typer-0.15.2-py3-none-any.whl (45 kB)\n",
      "Downloading jwcrypto-1.5.6-py3-none-any.whl (92 kB)\n",
      "Using cached markdown_it_py-3.0.0-py3-none-any.whl (87 kB)\n",
      "Downloading nvidia_ml_py-12.570.86-py3-none-any.whl (44 kB)\n",
      "Using cached shellingham-1.5.4-py2.py3-none-any.whl (9.8 kB)\n",
      "Downloading types_python_dateutil-2.9.0.20241206-py3-none-any.whl (14 kB)\n",
      "Downloading fief_client-0.20.0-py3-none-any.whl (20 kB)\n",
      "Downloading yaspin-3.1.0-py3-none-any.whl (18 kB)\n",
      "Downloading cryptography-44.0.2-cp39-abi3-macosx_10_9_universal2.whl (6.7 MB)\n",
      "\u001b[2K   \u001b[90m━━━━━━━━━━━━━━━━━━━━━━━━━━━━━━━━━━━━━━━━\u001b[0m \u001b[32m6.7/6.7 MB\u001b[0m \u001b[31m83.3 MB/s\u001b[0m eta \u001b[36m0:00:00\u001b[0m\n",
      "\u001b[?25hUsing cached mdurl-0.1.2-py3-none-any.whl (10.0 kB)\n",
      "Downloading termcolor-2.3.0-py3-none-any.whl (6.9 kB)\n",
      "Installing collected packages: py-cpuinfo, nvidia-ml-py, types-python-dateutil, termcolor, shellingham, rapidfuzz, pynvml, mdurl, yaspin, questionary, markdown-it-py, cryptography, arrow, rich, jwcrypto, typer, fief-client, codecarbon\n",
      "Successfully installed arrow-1.3.0 codecarbon-2.8.3 cryptography-44.0.2 fief-client-0.20.0 jwcrypto-1.5.6 markdown-it-py-3.0.0 mdurl-0.1.2 nvidia-ml-py-12.570.86 py-cpuinfo-9.0.0 pynvml-12.0.0 questionary-2.1.0 rapidfuzz-3.12.2 rich-13.9.4 shellingham-1.5.4 termcolor-2.3.0 typer-0.15.2 types-python-dateutil-2.9.0.20241206 yaspin-3.1.0\n"
     ]
    }
   ],
   "source": [
    "!pip install codecarbon"
   ]
  },
  {
   "cell_type": "code",
   "execution_count": 1,
   "metadata": {},
   "outputs": [],
   "source": [
    "import os\n",
    "import warnings\n",
    "import datetime\n",
    "\n",
    "\n",
    "import numpy as np\n",
    "import pandas as pd\n",
    "import matplotlib.pyplot as plt\n",
    "\n",
    "from tqdm import tqdm\n",
    "from sklearn.metrics import classification_report\n",
    "\n",
    "import torch\n",
    "from torch import nn\n",
    "from torch.utils.data import Dataset, DataLoader\n",
    "from torch.utils.data.dataset import random_split\n",
    "\n",
    "# for padding a list of variable length tensors to equal length\n",
    "from torch.nn.utils.rnn import pad_sequence\n",
    "# for packing a tensor containing padded sequences of variable length\n",
    "from torch.nn.utils.rnn import pack_padded_sequence\n",
    "\n",
    "import nltk\n",
    "# for removing stop words like 'the', 'and', etc\n",
    "# stop words don't provide useful information\n",
    "from nltk.corpus import stopwords\n",
    "# for tokenization\n",
    "from nltk.tokenize import word_tokenize\n",
    "\n",
    "# for counting the number of unique tokens\n",
    "from collections import Counter\n",
    "from codecarbon import EmissionsTracker"
   ]
  },
  {
   "cell_type": "code",
   "execution_count": 2,
   "metadata": {},
   "outputs": [
    {
     "name": "stdout",
     "output_type": "stream",
     "text": [
      "Using mps device\n"
     ]
    }
   ],
   "source": [
    "# suppress all warnings\n",
    "warnings.filterwarnings(\"ignore\")\n",
    "\n",
    "# get cpu, gpu or mps device for computation\n",
    "device = (\n",
    "    \"cuda\"\n",
    "    if torch.cuda.is_available()\n",
    "    else \"mps\"\n",
    "    if torch.backends.mps.is_available()\n",
    "    else \"cpu\"\n",
    ")\n",
    "print(f\"Using {device} device\")"
   ]
  },
  {
   "cell_type": "code",
   "execution_count": 3,
   "metadata": {},
   "outputs": [
    {
     "name": "stdout",
     "output_type": "stream",
     "text": [
      "                                         description  dark_pigmentation  acne  \\\n",
      "0  Australian Gold Deviously Black 45X Dark Bronz...                  0     0   \n",
      "1  Australian Gold Sunscreen  Spray Gel with Inst...                  0     0   \n",
      "2  Australian Gold Sunscreen Spray Gel - SPF 15 -...                  0     0   \n",
      "3  Avalon Organics Intense Defense Oil-Free Moist...                  0     0   \n",
      "4  Avalon Organics Vitamin C Renewal Facial Cream...                  0     0   \n",
      "\n",
      "   eye_contour  homogeneity  lack_firmness  lack_radiance  pores  fine_lines  \\\n",
      "0            0            0              0              0      0           0   \n",
      "1            0            0              0              1      0           0   \n",
      "2            0            0              0              0      0           0   \n",
      "3            0            0              0              0      0           0   \n",
      "4            0            1              0              1      0           0   \n",
      "\n",
      "   wrinkles_fine-lines  ...  female  cleanse  prepare  treat  targeted  care  \\\n",
      "0                    0  ...       1        0        0      0         0     0   \n",
      "1                    0  ...       1        0        0      0         0     0   \n",
      "2                    0  ...       1        0        0      0         0     0   \n",
      "3                    0  ...       1        0        0      0         0     0   \n",
      "4                    1  ...       1        0        0      1         0     0   \n",
      "\n",
      "   moisturize  protect  day  night  \n",
      "0           0        0    1      1  \n",
      "1           0        1    1      0  \n",
      "2           1        1    1      0  \n",
      "3           1        1    1      1  \n",
      "4           1        0    1      1  \n",
      "\n",
      "[5 rows x 34 columns]\n"
     ]
    }
   ],
   "source": [
    "# Load the concatenated_MV file as a pandas DataFrame\n",
    "file_path = 'concatenated_MV.xlsx'  # Update this path to the actual file location\n",
    "df_loreal = pd.read_excel(file_path)\n",
    "\n",
    "\n",
    "# Display the first few rows of the DataFrame\n",
    "print(df_loreal.head())"
   ]
  },
  {
   "cell_type": "code",
   "execution_count": 4,
   "metadata": {},
   "outputs": [
    {
     "name": "stdout",
     "output_type": "stream",
     "text": [
      "Number of output classes: 33\n",
      "List of output classes:\n",
      "['dark_pigmentation', 'acne', 'eye_contour', 'homogeneity', 'lack_firmness', 'lack_radiance', 'pores', 'fine_lines', 'wrinkles_fine-lines', 'eye-wrinkles', 'undereye-bags', 'generic', '18-34', '35-54', '55-99', 'dry', 'normal', 'oily', 'combination', 'sensitivity-high', 'sensitivity-low', 'no_sensitivity', 'male', 'female', 'cleanse', 'prepare', 'treat', 'targeted', 'care', 'moisturize', 'protect', 'day', 'night']\n"
     ]
    }
   ],
   "source": [
    "# Extract the output class names (column names excluding the text column)\n",
    "output_classes = list(df_loreal.columns[1:34])  # Exclude the 'text_raw' column\n",
    "\n",
    "num_classes = len(output_classes)\n",
    "\n",
    "# Display the output\n",
    "print(f\"Number of output classes: {num_classes}\")\n",
    "print(\"List of output classes:\")\n",
    "print(output_classes)"
   ]
  },
  {
   "cell_type": "code",
   "execution_count": 5,
   "metadata": {},
   "outputs": [
    {
     "name": "stderr",
     "output_type": "stream",
     "text": [
      "[nltk_data] Downloading package punkt to /Users/sebastian/nltk_data...\n",
      "[nltk_data]   Package punkt is already up-to-date!\n",
      "[nltk_data] Downloading package stopwords to\n",
      "[nltk_data]     /Users/sebastian/nltk_data...\n",
      "[nltk_data]   Package stopwords is already up-to-date!\n",
      "[nltk_data] Downloading package punkt_tab to\n",
      "[nltk_data]     /Users/sebastian/nltk_data...\n",
      "[nltk_data]   Package punkt_tab is already up-to-date!\n"
     ]
    },
    {
     "data": {
      "text/html": [
       "<div>\n",
       "<style scoped>\n",
       "    .dataframe tbody tr th:only-of-type {\n",
       "        vertical-align: middle;\n",
       "    }\n",
       "\n",
       "    .dataframe tbody tr th {\n",
       "        vertical-align: top;\n",
       "    }\n",
       "\n",
       "    .dataframe thead th {\n",
       "        text-align: right;\n",
       "    }\n",
       "</style>\n",
       "<table border=\"1\" class=\"dataframe\">\n",
       "  <thead>\n",
       "    <tr style=\"text-align: right;\">\n",
       "      <th></th>\n",
       "      <th>description</th>\n",
       "      <th>tokens</th>\n",
       "    </tr>\n",
       "  </thead>\n",
       "  <tbody>\n",
       "    <tr>\n",
       "      <th>0</th>\n",
       "      <td>Australian Gold Deviously Black 45X Dark Bronz...</td>\n",
       "      <td>[australian, gold, deviously, black, 45x, dark...</td>\n",
       "    </tr>\n",
       "    <tr>\n",
       "      <th>1</th>\n",
       "      <td>Australian Gold Sunscreen  Spray Gel with Inst...</td>\n",
       "      <td>[australian, gold, sunscreen, spray, gel, inst...</td>\n",
       "    </tr>\n",
       "    <tr>\n",
       "      <th>2</th>\n",
       "      <td>Australian Gold Sunscreen Spray Gel - SPF 15 -...</td>\n",
       "      <td>[australian, gold, sunscreen, spray, gel, -, s...</td>\n",
       "    </tr>\n",
       "    <tr>\n",
       "      <th>3</th>\n",
       "      <td>Avalon Organics Intense Defense Oil-Free Moist...</td>\n",
       "      <td>[avalon, organics, intense, defense, oil-free,...</td>\n",
       "    </tr>\n",
       "    <tr>\n",
       "      <th>4</th>\n",
       "      <td>Avalon Organics Vitamin C Renewal Facial Cream...</td>\n",
       "      <td>[avalon, organics, vitamin, c, renewal, facial...</td>\n",
       "    </tr>\n",
       "  </tbody>\n",
       "</table>\n",
       "</div>"
      ],
      "text/plain": [
       "                                         description  \\\n",
       "0  Australian Gold Deviously Black 45X Dark Bronz...   \n",
       "1  Australian Gold Sunscreen  Spray Gel with Inst...   \n",
       "2  Australian Gold Sunscreen Spray Gel - SPF 15 -...   \n",
       "3  Avalon Organics Intense Defense Oil-Free Moist...   \n",
       "4  Avalon Organics Vitamin C Renewal Facial Cream...   \n",
       "\n",
       "                                              tokens  \n",
       "0  [australian, gold, deviously, black, 45x, dark...  \n",
       "1  [australian, gold, sunscreen, spray, gel, inst...  \n",
       "2  [australian, gold, sunscreen, spray, gel, -, s...  \n",
       "3  [avalon, organics, intense, defense, oil-free,...  \n",
       "4  [avalon, organics, vitamin, c, renewal, facial...  "
      ]
     },
     "execution_count": 5,
     "metadata": {},
     "output_type": "execute_result"
    }
   ],
   "source": [
    "# ensure NLTK resources are downloaded\n",
    "nltk.download('punkt')\n",
    "nltk.download('stopwords')\n",
    "nltk.download('punkt_tab')\n",
    "\n",
    "# set the stop words to the English mode\n",
    "stop_words = set(stopwords.words('english'))\n",
    "\n",
    "# define a function for pre-processing\n",
    "def preprocess_text(text):\n",
    "    # Tokenize\n",
    "    tokens = word_tokenize(text.lower())\n",
    "    # Remove stopwords and non-alphabetic tokens\n",
    "    tokens = [word for word in tokens if word not in stop_words]  # remove stop words\n",
    "    return tokens\n",
    "\n",
    "# Apply preprocessing to the 'text_raw' column\n",
    "df_loreal[\"tokens\"] = df_loreal[\"description\"].apply(preprocess_text)\n",
    "\n",
    "# Display first few tokenized samples\n",
    "df_loreal[[\"description\", \"tokens\"]].head()"
   ]
  },
  {
   "cell_type": "code",
   "execution_count": 6,
   "metadata": {},
   "outputs": [
    {
     "name": "stdout",
     "output_type": "stream",
     "text": [
      "The number of unique tokens in the vocabulary: 24064\n"
     ]
    }
   ],
   "source": [
    "# build vocabulary\n",
    "all_tokens = [token for tokens in df_loreal['tokens'] for token in tokens]\n",
    "token_counts = Counter(all_tokens)\n",
    "print('The number of unique tokens in the vocabulary:', len(token_counts))"
   ]
  },
  {
   "cell_type": "code",
   "execution_count": 7,
   "metadata": {},
   "outputs": [
    {
     "name": "stdout",
     "output_type": "stream",
     "text": [
      "Fitted Normal Distribution: mu = 25.94, sigma = 392.86\n"
     ]
    },
    {
     "data": {
      "image/png": "[encoded data removed]",
      "text/plain": [
       "<Figure size 1000x600 with 1 Axes>"
      ]
     },
     "metadata": {},
     "output_type": "display_data"
    }
   ],
   "source": [
    "import numpy as np\n",
    "import matplotlib.pyplot as plt\n",
    "from scipy.stats import norm\n",
    "\n",
    "# Assume token_counts is already defined from our vocabulary creation step:\n",
    "# token_counts = Counter(all_tokens)\n",
    "\n",
    "# Get an array of token frequencies\n",
    "frequencies = np.array(list(token_counts.values()))\n",
    "\n",
    "# Plot the histogram of token frequencies\n",
    "plt.figure(figsize=(10, 6))\n",
    "n, bins, patches = plt.hist(frequencies, bins=50, density=True, alpha=0.6, color='skyblue', edgecolor='black', label='Token Frequency Histogram')\n",
    "\n",
    "# Fit a normal distribution to the frequency data\n",
    "mu, sigma = norm.fit(frequencies)\n",
    "print(f\"Fitted Normal Distribution: mu = {mu:.2f}, sigma = {sigma:.2f}\")\n",
    "\n",
    "# Set the x-axis maximum to 10,000\n",
    "xmin, _ = plt.xlim()\n",
    "xmax = 5000\n",
    "plt.xlim(xmin, xmax)\n",
    "\n",
    "# Create a range of values for plotting the PDF of the fitted normal distribution\n",
    "x = np.linspace(xmin, xmax, 100)\n",
    "p = norm.pdf(x, mu, sigma)\n",
    "\n",
    "# Plot the fitted normal distribution curve\n",
    "plt.plot(x, p, 'r', linewidth=2, label=f'Normal fit (mu={mu:.2f}, sigma={sigma:.2f})')\n",
    "plt.xlabel('Token Frequency')\n",
    "plt.ylabel('Density')\n",
    "plt.title('Token Frequency Distribution with Fitted Normal Curve')\n",
    "plt.legend()\n",
    "plt.show()\n",
    "\n"
   ]
  },
  {
   "cell_type": "code",
   "execution_count": 8,
   "metadata": {},
   "outputs": [
    {
     "data": {
      "text/html": [
       "<div>\n",
       "<style scoped>\n",
       "    .dataframe tbody tr th:only-of-type {\n",
       "        vertical-align: middle;\n",
       "    }\n",
       "\n",
       "    .dataframe tbody tr th {\n",
       "        vertical-align: top;\n",
       "    }\n",
       "\n",
       "    .dataframe thead th {\n",
       "        text-align: right;\n",
       "    }\n",
       "</style>\n",
       "<table border=\"1\" class=\"dataframe\">\n",
       "  <thead>\n",
       "    <tr style=\"text-align: right;\">\n",
       "      <th></th>\n",
       "      <th>description</th>\n",
       "      <th>tokens</th>\n",
       "      <th>encoded_tokens</th>\n",
       "    </tr>\n",
       "  </thead>\n",
       "  <tbody>\n",
       "    <tr>\n",
       "      <th>0</th>\n",
       "      <td>Australian Gold Deviously Black 45X Dark Bronz...</td>\n",
       "      <td>[australian, gold, deviously, black, 45x, dark...</td>\n",
       "      <td>[1002, 390, 9460, 384, 12863, 54, 1687, 4400, ...</td>\n",
       "    </tr>\n",
       "    <tr>\n",
       "      <th>1</th>\n",
       "      <td>Australian Gold Sunscreen  Spray Gel with Inst...</td>\n",
       "      <td>[australian, gold, sunscreen, spray, gel, inst...</td>\n",
       "      <td>[1002, 390, 29, 173, 61, 270, 1687, 9, 26, 213...</td>\n",
       "    </tr>\n",
       "    <tr>\n",
       "      <th>2</th>\n",
       "      <td>Australian Gold Sunscreen Spray Gel - SPF 15 -...</td>\n",
       "      <td>[australian, gold, sunscreen, spray, gel, -, s...</td>\n",
       "      <td>[1002, 390, 29, 173, 61, 9, 26, 126, 9, 392, 8...</td>\n",
       "    </tr>\n",
       "    <tr>\n",
       "      <th>3</th>\n",
       "      <td>Avalon Organics Intense Defense Oil-Free Moist...</td>\n",
       "      <td>[avalon, organics, intense, defense, oil-free,...</td>\n",
       "      <td>[3066, 1539, 397, 541, 156, 20, 2, 100, 17, 30...</td>\n",
       "    </tr>\n",
       "    <tr>\n",
       "      <th>4</th>\n",
       "      <td>Avalon Organics Vitamin C Renewal Facial Cream...</td>\n",
       "      <td>[avalon, organics, vitamin, c, renewal, facial...</td>\n",
       "      <td>[3066, 1539, 24, 53, 367, 31, 7, 2, 3432, 3066...</td>\n",
       "    </tr>\n",
       "  </tbody>\n",
       "</table>\n",
       "</div>"
      ],
      "text/plain": [
       "                                         description  \\\n",
       "0  Australian Gold Deviously Black 45X Dark Bronz...   \n",
       "1  Australian Gold Sunscreen  Spray Gel with Inst...   \n",
       "2  Australian Gold Sunscreen Spray Gel - SPF 15 -...   \n",
       "3  Avalon Organics Intense Defense Oil-Free Moist...   \n",
       "4  Avalon Organics Vitamin C Renewal Facial Cream...   \n",
       "\n",
       "                                              tokens  \\\n",
       "0  [australian, gold, deviously, black, 45x, dark...   \n",
       "1  [australian, gold, sunscreen, spray, gel, inst...   \n",
       "2  [australian, gold, sunscreen, spray, gel, -, s...   \n",
       "3  [avalon, organics, intense, defense, oil-free,...   \n",
       "4  [avalon, organics, vitamin, c, renewal, facial...   \n",
       "\n",
       "                                      encoded_tokens  \n",
       "0  [1002, 390, 9460, 384, 12863, 54, 1687, 4400, ...  \n",
       "1  [1002, 390, 29, 173, 61, 270, 1687, 9, 26, 213...  \n",
       "2  [1002, 390, 29, 173, 61, 9, 26, 126, 9, 392, 8...  \n",
       "3  [3066, 1539, 397, 541, 156, 20, 2, 100, 17, 30...  \n",
       "4  [3066, 1539, 24, 53, 367, 31, 7, 2, 3432, 3066...  "
      ]
     },
     "execution_count": 8,
     "metadata": {},
     "output_type": "execute_result"
    }
   ],
   "source": [
    "# Set vocabulary size (excluding special tokens)\n",
    "vocab_size = 24000  # Adjust as needed\n",
    "\n",
    "# Keep only the most common words (excluding special tokens)\n",
    "common_tokens = token_counts.most_common(vocab_size - 2)  # Reserve space for <PAD> and <UNK>\n",
    "\n",
    "# Create token-to-index mappings\n",
    "token_to_idx = {token: idx + 2 for idx, (token, _) in enumerate(common_tokens)}\n",
    "\n",
    "# Special tokens\n",
    "token_to_idx[\"<PAD>\"] = 0  # Padding token\n",
    "token_to_idx[\"<UNK>\"] = 1  # Unknown token\n",
    "\n",
    "# Create index-to-token mapping (for decoding)\n",
    "idx_to_token = {idx: token for token, idx in token_to_idx.items()}\n",
    "\n",
    "# Define a function to encode tokens into integer sequences\n",
    "def encode_tokens(tokens):\n",
    "    return [token_to_idx.get(token, token_to_idx[\"<UNK>\"]) for token in tokens]\n",
    "\n",
    "# Apply encoding to the dataset\n",
    "df_loreal[\"encoded_tokens\"] = df_loreal[\"tokens\"].apply(encode_tokens)\n",
    "\n",
    "# Display first few rows with encoded tokens\n",
    "df_loreal[[\"description\", \"tokens\", \"encoded_tokens\"]].head()"
   ]
  },
  {
   "cell_type": "code",
   "execution_count": 9,
   "metadata": {},
   "outputs": [],
   "source": [
    "# Define a custom Dataset class\n",
    "class LOREALMultiLabelDataset(Dataset):\n",
    "    def __init__(self, encoded_tokens_list, labels):\n",
    "        self.encoded_tokens_list = encoded_tokens_list\n",
    "        self.labels = labels\n",
    "\n",
    "    def __len__(self):\n",
    "        return len(self.encoded_tokens_list)\n",
    "\n",
    "    def __getitem__(self, idx):\n",
    "        X = self.encoded_tokens_list[idx]\n",
    "        y = self.labels[idx]\n",
    "        \n",
    "        # Convert to PyTorch tensors\n",
    "        X = torch.tensor(X, dtype=torch.long)\n",
    "        y = torch.tensor(y, dtype=torch.float)  # Multi-label classification requires float\n",
    "\n",
    "        return X, y\n",
    "\n",
    "# Define a collate function to handle variable sequence lengths\n",
    "def collate_batch(batch):\n",
    "    batch_X, batch_y, batch_length = [], [], []\n",
    "\n",
    "    for (X, y) in batch:\n",
    "        batch_X.append(X)\n",
    "        batch_y.append(y)\n",
    "        batch_length.append(len(X))\n",
    "\n",
    "    # Convert batch_length to tensor\n",
    "    batch_length = torch.tensor(batch_length, dtype=torch.int64)\n",
    "    batch_y = torch.stack(batch_y)  # Stack labels into a tensor\n",
    "\n",
    "    # Pad sequences to equal length\n",
    "    batch_X = pad_sequence(batch_X, batch_first=True)\n",
    "\n",
    "    return batch_X, batch_y, batch_length"
   ]
  },
  {
   "cell_type": "code",
   "execution_count": 10,
   "metadata": {},
   "outputs": [],
   "source": [
    "\n",
    "# Create a single dataset instance from your encoded tokens and multi-label targets\n",
    "ds = LOREALMultiLabelDataset(\n",
    "    df_loreal[\"encoded_tokens\"].tolist(), \n",
    "    df_loreal.iloc[:, 1:34].values  # columns 2 to 33 for labels\n",
    ")\n",
    "train_val_ds, test_ds = random_split(ds, [0.7, 0.3])\n",
    "train_ds, val_ds = random_split(train_val_ds, [0.8, 0.2])"
   ]
  },
  {
   "cell_type": "code",
   "execution_count": 11,
   "metadata": {},
   "outputs": [
    {
     "name": "stdout",
     "output_type": "stream",
     "text": [
      "Train dataset size: 3495\n",
      "Validation dataset size: 873\n",
      "Test dataset size: 1872\n"
     ]
    }
   ],
   "source": [
    "# Define batch size\n",
    "batch_size = 128\n",
    "\n",
    "# Create DataLoader instances\n",
    "train_dl = DataLoader(train_ds, batch_size=batch_size, shuffle=True, collate_fn=collate_batch)\n",
    "val_dl = DataLoader(val_ds, batch_size=batch_size, shuffle=False, collate_fn=collate_batch)\n",
    "test_dl = DataLoader(test_ds, batch_size=batch_size, shuffle=False, collate_fn=collate_batch)\n",
    "\n",
    "# Display dataset statistics\n",
    "print(f\"Train dataset size: {len(train_ds)}\")\n",
    "print(f\"Validation dataset size: {len(val_ds)}\")\n",
    "print(f\"Test dataset size: {len(test_ds)}\")"
   ]
  },
  {
   "cell_type": "code",
   "execution_count": 12,
   "metadata": {},
   "outputs": [],
   "source": [
    "import math\n",
    "import torch\n",
    "import torch.nn as nn\n",
    "from torch.nn.utils.rnn import pack_padded_sequence\n",
    "\n",
    "class MultiLabelBiLSTM(nn.Module):\n",
    "    def __init__(self, vocab_size, embed_size, hidden_size, num_classes):\n",
    "        super(MultiLabelBiLSTM, self).__init__()\n",
    "        self.embedding = nn.Embedding(vocab_size, embed_size)\n",
    "        # Bidirectional LSTM: hidden size is doubled after concatenation\n",
    "        self.lstm = nn.LSTM(embed_size, hidden_size, batch_first=True, bidirectional=True)\n",
    "        self.fc = nn.Linear(hidden_size * 2, num_classes)\n",
    "        \n",
    "    def forward(self, x, lengths):\n",
    "        x = self.embedding(x)\n",
    "        packed_x = pack_padded_sequence(x, lengths.cpu(), batch_first=True, enforce_sorted=False)\n",
    "        packed_out, (h, c) = self.lstm(packed_x)\n",
    "        # For a single layer bidirectional LSTM, h[-2] is from the forward and h[-1] from the backward pass.\n",
    "        h_forward = h[-2]\n",
    "        h_backward = h[-1]\n",
    "        h_combined = torch.cat((h_forward, h_backward), dim=1)\n",
    "        return torch.sigmoid(self.fc(h_combined))"
   ]
  },
  {
   "cell_type": "code",
   "execution_count": 13,
   "metadata": {},
   "outputs": [
    {
     "name": "stdout",
     "output_type": "stream",
     "text": [
      "33\n"
     ]
    }
   ],
   "source": [
    "print(num_classes)"
   ]
  },
  {
   "cell_type": "code",
   "execution_count": 14,
   "metadata": {},
   "outputs": [
    {
     "name": "stdout",
     "output_type": "stream",
     "text": [
      "MultiLabelBiLSTM(\n",
      "  (embedding): Embedding(24000, 128)\n",
      "  (lstm): LSTM(128, 64, batch_first=True, bidirectional=True)\n",
      "  (fc): Linear(in_features=128, out_features=33, bias=True)\n",
      ")\n"
     ]
    }
   ],
   "source": [
    "# Define model parameters\n",
    "embed_size = 128\n",
    "hidden_size = 64\n",
    "\n",
    "# Create the model instance\n",
    "model = MultiLabelBiLSTM(vocab_size, embed_size, hidden_size, num_classes)\n",
    "\n",
    "# Move model to computation device (GPU if available)\n",
    "device = torch.device(\"cuda\" if torch.cuda.is_available() else \"cpu\")\n",
    "model = model.to(device)\n",
    "\n",
    "# Print model architecture\n",
    "print(model)"
   ]
  },
  {
   "cell_type": "code",
   "execution_count": 15,
   "metadata": {},
   "outputs": [],
   "source": [
    "# define the training function\n",
    "def train(\n",
    "    train_dl,\n",
    "    val_dl,\n",
    "    model,\n",
    "    loss_fn,\n",
    "    optimizer,\n",
    "    epochs,\n",
    "    early_stopping_patience,\n",
    "    lr_scheduler,\n",
    "    saved_path_prefix\n",
    "):\n",
    "    # initialization\n",
    "    min_val_loss = np.inf\n",
    "    patience_counter = 0\n",
    "    histories = {\n",
    "        'train_batch': [],\n",
    "        'train_epoch': [],\n",
    "        'val_batch': [],\n",
    "        'val_epoch': []\n",
    "    }\n",
    "    saved_path = ''\n",
    "    start_time = datetime.datetime.now()\n",
    "\n",
    "    # start training\n",
    "    for epoch in range(epochs):\n",
    "        # train set\n",
    "        train_epoch_loss = 0.0\n",
    "        model.train()\n",
    "        for X, y, lens in tqdm(train_dl, desc = f'Training batch\\t'): # tqdm progress bar\n",
    "            X, y, lens = X.to(device), y.to(device), lens.to(device)\n",
    "            logits = model(X, lens)\n",
    "            train_batch_loss = loss_fn(logits, y)\n",
    "            train_batch_loss.backward()\n",
    "            optimizer.step()\n",
    "            optimizer.zero_grad()\n",
    "            histories['train_batch'].append(train_batch_loss.item())\n",
    "            train_epoch_loss += train_batch_loss.item()\n",
    "        train_epoch_loss /= len(train_dl)\n",
    "        histories['train_epoch'].append(train_epoch_loss)\n",
    "\n",
    "        # validation set\n",
    "        val_epoch_loss = 0.0\n",
    "        model.eval()\n",
    "        with torch.no_grad():\n",
    "            for X, y, lens in tqdm(val_dl, desc = f'Validation batch'): # tqdm progress bar\n",
    "                X, y, lens = X.to(device), y.to(device), lens.to(device)\n",
    "                logits = model(X, lens)\n",
    "                val_batch_loss = loss_fn(logits, y)\n",
    "                histories['val_batch'].append(val_batch_loss.item())\n",
    "                val_epoch_loss += val_batch_loss.item()\n",
    "            val_epoch_loss /= len(val_dl)\n",
    "            histories['val_epoch'].append(val_epoch_loss)\n",
    "\n",
    "        # print log\n",
    "        end_time = datetime.datetime.now()\n",
    "        time_consumed = str(end_time - start_time).split('.')[0]\n",
    "        print(f\"Epoch {epoch + 1}: train loss = {train_epoch_loss:>5f}, val loss = {val_epoch_loss:>5f}, time consumed = {time_consumed}\")\n",
    "\n",
    "        # learning rate decay\n",
    "        current_lr = optimizer.param_groups[0]['lr']\n",
    "        lr_scheduler.step(val_epoch_loss)\n",
    "        new_lr = optimizer.param_groups[0]['lr']\n",
    "        if current_lr != new_lr:\n",
    "            print(f'Learning rate reduced after epoch {epoch+1}\\n')\n",
    "\n",
    "        # early stopping\n",
    "        if val_epoch_loss < min_val_loss:\n",
    "            if os.path.exists(saved_path):\n",
    "                os.remove(saved_path)\n",
    "            time_str = datetime.datetime.now().strftime(\"%Y-%m-%d_%H-%M-%S\")\n",
    "            saved_path = saved_path_prefix + f'epoch{epoch+1}val_loss{val_epoch_loss:>4f}_{time_str}.pth'\n",
    "            torch.save(model.state_dict(), saved_path)\n",
    "            print(f'Model saved after epoch {epoch+1}')\n",
    "            patience_counter += 1\n",
    "            if (val_epoch_loss + 0.00009) < min_val_loss:\n",
    "                patience_counter = 0\n",
    "                print('Reset patience counter\\n')            \n",
    "            min_val_loss = val_epoch_loss\n",
    "        else:\n",
    "            patience_counter += 1\n",
    "        if patience_counter >= early_stopping_patience:\n",
    "            print('Early stopping!')\n",
    "            break\n",
    "    return histories, saved_path"
   ]
  },
  {
   "cell_type": "code",
   "execution_count": 16,
   "metadata": {},
   "outputs": [],
   "source": [
    "# define the training hyper-parameters\n",
    "loss_fn = nn.BCEWithLogitsLoss()\n",
    "learning_rate = 1e-1\n",
    "weight_decay = 1e-5\n",
    "optimizer = torch.optim.SGD(\n",
    "    model.parameters(),\n",
    "    lr = learning_rate,\n",
    "    weight_decay = weight_decay\n",
    ")\n",
    "epochs = 10000000\n",
    "early_stopping_patience = 5\n",
    "lr_scheduler = torch.optim.lr_scheduler.ReduceLROnPlateau(\n",
    "    optimizer,\n",
    "    mode = 'min',\n",
    "    factor = 0.1,\n",
    "    patience = 2\n",
    ")\n",
    "saved_path_prefix = 'loreal_product_classifier'"
   ]
  },
  {
   "cell_type": "code",
   "execution_count": 17,
   "metadata": {},
   "outputs": [
    {
     "name": "stderr",
     "output_type": "stream",
     "text": [
      "[codecarbon WARNING @ 22:08:45] Multiple instances of codecarbon are allowed to run at the same time.\n",
      "[codecarbon INFO @ 22:08:45] [setup] RAM Tracking...\n",
      "[codecarbon INFO @ 22:08:45] [setup] CPU Tracking...\n",
      "[codecarbon WARNING @ 22:08:45] No CPU tracking mode found. Falling back on CPU constant mode. \n",
      " Mac OS and ARM processor detected: Please enable PowerMetrics sudo to measure CPU\n",
      "\n",
      "[codecarbon WARNING @ 22:08:45] We saw that you have a Apple M3 Pro but we don't know it. Please contact us.\n",
      "[codecarbon INFO @ 22:08:45] CPU Model on constant consumption mode: Apple M3 Pro\n",
      "[codecarbon INFO @ 22:08:45] [setup] GPU Tracking...\n",
      "[codecarbon INFO @ 22:08:45] No GPU found.\n",
      "[codecarbon INFO @ 22:08:45] >>> Tracker's metadata:\n",
      "[codecarbon INFO @ 22:08:45]   Platform system: macOS-14.6.1-arm64-arm-64bit\n",
      "[codecarbon INFO @ 22:08:45]   Python version: 3.12.8\n",
      "[codecarbon INFO @ 22:08:45]   CodeCarbon version: 2.8.3\n",
      "[codecarbon INFO @ 22:08:45]   Available RAM : 36.000 GB\n",
      "[codecarbon INFO @ 22:08:45]   CPU count: 11\n",
      "[codecarbon INFO @ 22:08:45]   CPU model: Apple M3 Pro\n",
      "[codecarbon INFO @ 22:08:45]   GPU count: None\n",
      "[codecarbon INFO @ 22:08:45]   GPU model: None\n",
      "[codecarbon INFO @ 22:08:48] Saving emissions data to file /Users/sebastian/Documents/Jup for run/emissions.csv\n"
     ]
    }
   ],
   "source": [
    "tracker = EmissionsTracker(output_file=\"emissions.csv\", log_level=\"info\", allow_multiple_runs=True)"
   ]
  },
  {
   "cell_type": "code",
   "execution_count": 18,
   "metadata": {},
   "outputs": [
    {
     "name": "stderr",
     "output_type": "stream",
     "text": [
      "Training batch\t:   0%|          | 0/28 [00:00<?, ?it/s]"
     ]
    },
    {
     "name": "stderr",
     "output_type": "stream",
     "text": [
      "Training batch\t: 100%|██████████| 28/28 [00:13<00:00,  2.06it/s]\n",
      "Validation batch: 100%|██████████| 7/7 [00:00<00:00, 28.94it/s]\n"
     ]
    },
    {
     "name": "stdout",
     "output_type": "stream",
     "text": [
      "Epoch 1: train loss = 0.756172, val loss = 0.756357, time consumed = 0:00:13\n",
      "Model saved after epoch 1\n",
      "Reset patience counter\n",
      "\n"
     ]
    },
    {
     "name": "stderr",
     "output_type": "stream",
     "text": [
      "Training batch\t:   4%|▎         | 1/28 [00:00<00:17,  1.52it/s][codecarbon INFO @ 22:09:08] Energy consumed for RAM : 0.000056 kWh. RAM Power : 13.5 W\n",
      "[codecarbon INFO @ 22:09:08] Energy consumed for all CPUs : 0.000177 kWh. Total CPU Power : 42.5 W\n",
      "[codecarbon INFO @ 22:09:08] 0.000233 kWh of electricity used since the beginning.\n",
      "Training batch\t: 100%|██████████| 28/28 [00:14<00:00,  1.88it/s]\n",
      "Validation batch: 100%|██████████| 7/7 [00:00<00:00, 22.83it/s]\n"
     ]
    },
    {
     "name": "stdout",
     "output_type": "stream",
     "text": [
      "Epoch 2: train loss = 0.753993, val loss = 0.754056, time consumed = 0:00:29\n",
      "Model saved after epoch 2\n",
      "Reset patience counter\n",
      "\n"
     ]
    },
    {
     "name": "stderr",
     "output_type": "stream",
     "text": [
      "Training batch\t:   4%|▎         | 1/28 [00:00<00:16,  1.62it/s][codecarbon INFO @ 22:09:23] Energy consumed for RAM : 0.000113 kWh. RAM Power : 13.5 W\n",
      "[codecarbon INFO @ 22:09:23] Energy consumed for all CPUs : 0.000354 kWh. Total CPU Power : 42.5 W\n",
      "[codecarbon INFO @ 22:09:23] 0.000467 kWh of electricity used since the beginning.\n",
      "Training batch\t: 100%|██████████| 28/28 [00:14<00:00,  1.99it/s]\n",
      "Validation batch: 100%|██████████| 7/7 [00:00<00:00, 29.08it/s]\n"
     ]
    },
    {
     "name": "stdout",
     "output_type": "stream",
     "text": [
      "Epoch 3: train loss = 0.751718, val loss = 0.751695, time consumed = 0:00:43\n",
      "Model saved after epoch 3\n",
      "Reset patience counter\n",
      "\n"
     ]
    },
    {
     "name": "stderr",
     "output_type": "stream",
     "text": [
      "Training batch\t:  11%|█         | 3/28 [00:01<00:11,  2.09it/s][codecarbon INFO @ 22:09:38] Energy consumed for RAM : 0.000169 kWh. RAM Power : 13.5 W\n",
      "[codecarbon INFO @ 22:09:38] Energy consumed for all CPUs : 0.000531 kWh. Total CPU Power : 42.5 W\n",
      "[codecarbon INFO @ 22:09:38] 0.000700 kWh of electricity used since the beginning.\n",
      "Training batch\t: 100%|██████████| 28/28 [00:13<00:00,  2.02it/s]\n",
      "Validation batch: 100%|██████████| 7/7 [00:00<00:00, 28.35it/s]\n"
     ]
    },
    {
     "name": "stdout",
     "output_type": "stream",
     "text": [
      "Epoch 4: train loss = 0.749230, val loss = 0.749248, time consumed = 0:00:57\n",
      "Model saved after epoch 4\n",
      "Reset patience counter\n",
      "\n"
     ]
    },
    {
     "name": "stderr",
     "output_type": "stream",
     "text": [
      "Training batch\t:  14%|█▍        | 4/28 [00:02<00:13,  1.82it/s][codecarbon INFO @ 22:09:53] Energy consumed for RAM : 0.000225 kWh. RAM Power : 13.5 W\n",
      "[codecarbon INFO @ 22:09:53] Energy consumed for all CPUs : 0.000709 kWh. Total CPU Power : 42.5 W\n",
      "[codecarbon INFO @ 22:09:53] 0.000934 kWh of electricity used since the beginning.\n",
      "Training batch\t: 100%|██████████| 28/28 [00:12<00:00,  2.20it/s]\n",
      "Validation batch: 100%|██████████| 7/7 [00:00<00:00, 26.40it/s]\n"
     ]
    },
    {
     "name": "stdout",
     "output_type": "stream",
     "text": [
      "Epoch 5: train loss = 0.746718, val loss = 0.746701, time consumed = 0:01:10\n",
      "Model saved after epoch 5\n",
      "Reset patience counter\n",
      "\n"
     ]
    },
    {
     "name": "stderr",
     "output_type": "stream",
     "text": [
      "Training batch\t:  36%|███▌      | 10/28 [00:04<00:08,  2.24it/s][codecarbon INFO @ 22:10:08] Energy consumed for RAM : 0.000281 kWh. RAM Power : 13.5 W\n",
      "[codecarbon INFO @ 22:10:08] Energy consumed for all CPUs : 0.000886 kWh. Total CPU Power : 42.5 W\n",
      "[codecarbon INFO @ 22:10:08] 0.001167 kWh of electricity used since the beginning.\n",
      "Training batch\t: 100%|██████████| 28/28 [00:12<00:00,  2.23it/s]\n",
      "Validation batch: 100%|██████████| 7/7 [00:00<00:00, 29.29it/s]\n"
     ]
    },
    {
     "name": "stdout",
     "output_type": "stream",
     "text": [
      "Epoch 6: train loss = 0.743972, val loss = 0.744066, time consumed = 0:01:23\n",
      "Model saved after epoch 6\n",
      "Reset patience counter\n",
      "\n"
     ]
    },
    {
     "name": "stderr",
     "output_type": "stream",
     "text": [
      "Training batch\t:  54%|█████▎    | 15/28 [00:06<00:05,  2.37it/s][codecarbon INFO @ 22:10:23] Energy consumed for RAM : 0.000338 kWh. RAM Power : 13.5 W\n",
      "[codecarbon INFO @ 22:10:23] Energy consumed for all CPUs : 0.001063 kWh. Total CPU Power : 42.5 W\n",
      "[codecarbon INFO @ 22:10:23] 0.001400 kWh of electricity used since the beginning.\n",
      "Training batch\t: 100%|██████████| 28/28 [00:12<00:00,  2.31it/s]\n",
      "Validation batch: 100%|██████████| 7/7 [00:00<00:00, 30.09it/s]\n"
     ]
    },
    {
     "name": "stdout",
     "output_type": "stream",
     "text": [
      "Epoch 7: train loss = 0.741584, val loss = 0.741314, time consumed = 0:01:35\n",
      "Model saved after epoch 7\n",
      "Reset patience counter\n",
      "\n"
     ]
    },
    {
     "name": "stderr",
     "output_type": "stream",
     "text": [
      "Training batch\t:  75%|███████▌  | 21/28 [00:09<00:03,  1.98it/s][codecarbon INFO @ 22:10:38] Energy consumed for RAM : 0.000394 kWh. RAM Power : 13.5 W\n",
      "[codecarbon INFO @ 22:10:38] Energy consumed for all CPUs : 0.001240 kWh. Total CPU Power : 42.5 W\n",
      "[codecarbon INFO @ 22:10:38] 0.001634 kWh of electricity used since the beginning.\n",
      "Training batch\t: 100%|██████████| 28/28 [00:12<00:00,  2.33it/s]\n",
      "Validation batch: 100%|██████████| 7/7 [00:00<00:00, 29.15it/s]\n"
     ]
    },
    {
     "name": "stdout",
     "output_type": "stream",
     "text": [
      "Epoch 8: train loss = 0.739071, val loss = 0.738475, time consumed = 0:01:48\n",
      "Model saved after epoch 8\n",
      "Reset patience counter\n",
      "\n"
     ]
    },
    {
     "name": "stderr",
     "output_type": "stream",
     "text": [
      "Training batch\t:  93%|█████████▎| 26/28 [00:11<00:00,  2.42it/s][codecarbon INFO @ 22:10:53] Energy consumed for RAM : 0.000450 kWh. RAM Power : 13.5 W\n",
      "[codecarbon INFO @ 22:10:53] Energy consumed for all CPUs : 0.001417 kWh. Total CPU Power : 42.5 W\n",
      "[codecarbon INFO @ 22:10:53] 0.001867 kWh of electricity used since the beginning.\n",
      "[codecarbon INFO @ 22:10:53] 0.000872 g.CO2eq/s mean an estimation of 27.488741354486237 kg.CO2eq/year\n",
      "Training batch\t: 100%|██████████| 28/28 [00:12<00:00,  2.30it/s]\n",
      "Validation batch: 100%|██████████| 7/7 [00:00<00:00, 30.03it/s]\n"
     ]
    },
    {
     "name": "stdout",
     "output_type": "stream",
     "text": [
      "Epoch 9: train loss = 0.735431, val loss = 0.735534, time consumed = 0:02:00\n",
      "Model saved after epoch 9\n",
      "Reset patience counter\n",
      "\n"
     ]
    },
    {
     "name": "stderr",
     "output_type": "stream",
     "text": [
      "Training batch\t: 100%|██████████| 28/28 [00:12<00:00,  2.30it/s]\n",
      "Validation batch: 100%|██████████| 7/7 [00:00<00:00, 29.55it/s]\n"
     ]
    },
    {
     "name": "stdout",
     "output_type": "stream",
     "text": [
      "Epoch 10: train loss = 0.732822, val loss = 0.732517, time consumed = 0:02:12\n",
      "Model saved after epoch 10\n",
      "Reset patience counter\n",
      "\n"
     ]
    },
    {
     "name": "stderr",
     "output_type": "stream",
     "text": [
      "Training batch\t:  18%|█▊        | 5/28 [00:02<00:09,  2.44it/s][codecarbon INFO @ 22:11:08] Energy consumed for RAM : 0.000506 kWh. RAM Power : 13.5 W\n",
      "[codecarbon INFO @ 22:11:08] Energy consumed for all CPUs : 0.001594 kWh. Total CPU Power : 42.5 W\n",
      "[codecarbon INFO @ 22:11:08] 0.002100 kWh of electricity used since the beginning.\n",
      "Training batch\t: 100%|██████████| 28/28 [00:12<00:00,  2.24it/s]\n",
      "Validation batch: 100%|██████████| 7/7 [00:00<00:00, 29.88it/s]\n"
     ]
    },
    {
     "name": "stdout",
     "output_type": "stream",
     "text": [
      "Epoch 11: train loss = 0.729247, val loss = 0.729429, time consumed = 0:02:25\n",
      "Model saved after epoch 11\n",
      "Reset patience counter\n",
      "\n"
     ]
    },
    {
     "name": "stderr",
     "output_type": "stream",
     "text": [
      "Training batch\t:  32%|███▏      | 9/28 [00:04<00:08,  2.26it/s][codecarbon INFO @ 22:11:23] Energy consumed for RAM : 0.000563 kWh. RAM Power : 13.5 W\n",
      "[codecarbon INFO @ 22:11:23] Energy consumed for all CPUs : 0.001771 kWh. Total CPU Power : 42.5 W\n",
      "[codecarbon INFO @ 22:11:23] 0.002334 kWh of electricity used since the beginning.\n",
      "Training batch\t: 100%|██████████| 28/28 [00:12<00:00,  2.23it/s]\n",
      "Validation batch: 100%|██████████| 7/7 [00:00<00:00, 30.08it/s]\n"
     ]
    },
    {
     "name": "stdout",
     "output_type": "stream",
     "text": [
      "Epoch 12: train loss = 0.726282, val loss = 0.726262, time consumed = 0:02:38\n",
      "Model saved after epoch 12\n",
      "Reset patience counter\n",
      "\n"
     ]
    },
    {
     "name": "stderr",
     "output_type": "stream",
     "text": [
      "Training batch\t:  57%|█████▋    | 16/28 [00:06<00:04,  2.63it/s][codecarbon INFO @ 22:11:38] Energy consumed for RAM : 0.000619 kWh. RAM Power : 13.5 W\n",
      "[codecarbon INFO @ 22:11:38] Energy consumed for all CPUs : 0.001948 kWh. Total CPU Power : 42.5 W\n",
      "[codecarbon INFO @ 22:11:38] 0.002567 kWh of electricity used since the beginning.\n",
      "Training batch\t: 100%|██████████| 28/28 [00:12<00:00,  2.32it/s]\n",
      "Validation batch: 100%|██████████| 7/7 [00:00<00:00, 29.88it/s]\n"
     ]
    },
    {
     "name": "stdout",
     "output_type": "stream",
     "text": [
      "Epoch 13: train loss = 0.722934, val loss = 0.723060, time consumed = 0:02:50\n",
      "Model saved after epoch 13\n",
      "Reset patience counter\n",
      "\n"
     ]
    },
    {
     "name": "stderr",
     "output_type": "stream",
     "text": [
      "Training batch\t:  75%|███████▌  | 21/28 [00:09<00:03,  2.24it/s][codecarbon INFO @ 22:11:53] Energy consumed for RAM : 0.000675 kWh. RAM Power : 13.5 W\n",
      "[codecarbon INFO @ 22:11:53] Energy consumed for all CPUs : 0.002126 kWh. Total CPU Power : 42.5 W\n",
      "[codecarbon INFO @ 22:11:53] 0.002801 kWh of electricity used since the beginning.\n",
      "Training batch\t: 100%|██████████| 28/28 [00:12<00:00,  2.29it/s]\n",
      "Validation batch: 100%|██████████| 7/7 [00:00<00:00, 29.90it/s]\n"
     ]
    },
    {
     "name": "stdout",
     "output_type": "stream",
     "text": [
      "Epoch 14: train loss = 0.719992, val loss = 0.719829, time consumed = 0:03:03\n",
      "Model saved after epoch 14\n",
      "Reset patience counter\n",
      "\n"
     ]
    },
    {
     "name": "stderr",
     "output_type": "stream",
     "text": [
      "Training batch\t:  89%|████████▉ | 25/28 [00:11<00:01,  2.37it/s][codecarbon INFO @ 22:12:08] Energy consumed for RAM : 0.000731 kWh. RAM Power : 13.5 W\n",
      "[codecarbon INFO @ 22:12:08] Energy consumed for all CPUs : 0.002303 kWh. Total CPU Power : 42.5 W\n",
      "[codecarbon INFO @ 22:12:08] 0.003034 kWh of electricity used since the beginning.\n",
      "Training batch\t: 100%|██████████| 28/28 [00:12<00:00,  2.21it/s]\n",
      "Validation batch: 100%|██████████| 7/7 [00:00<00:00, 29.49it/s]\n"
     ]
    },
    {
     "name": "stdout",
     "output_type": "stream",
     "text": [
      "Epoch 15: train loss = 0.716519, val loss = 0.716602, time consumed = 0:03:16\n",
      "Model saved after epoch 15\n",
      "Reset patience counter\n",
      "\n"
     ]
    },
    {
     "name": "stderr",
     "output_type": "stream",
     "text": [
      "Training batch\t: 100%|██████████| 28/28 [00:12<00:00,  2.24it/s]\n",
      "Validation batch: 100%|██████████| 7/7 [00:00<00:00, 29.94it/s]\n"
     ]
    },
    {
     "name": "stdout",
     "output_type": "stream",
     "text": [
      "Epoch 16: train loss = 0.713302, val loss = 0.713389, time consumed = 0:03:28\n",
      "Model saved after epoch 16\n",
      "Reset patience counter\n",
      "\n"
     ]
    },
    {
     "name": "stderr",
     "output_type": "stream",
     "text": [
      "Training batch\t:   7%|▋         | 2/28 [00:00<00:10,  2.49it/s][codecarbon INFO @ 22:12:23] Energy consumed for RAM : 0.000788 kWh. RAM Power : 13.5 W\n",
      "[codecarbon INFO @ 22:12:23] Energy consumed for all CPUs : 0.002480 kWh. Total CPU Power : 42.5 W\n",
      "[codecarbon INFO @ 22:12:23] 0.003267 kWh of electricity used since the beginning.\n",
      "Training batch\t: 100%|██████████| 28/28 [00:11<00:00,  2.46it/s]\n",
      "Validation batch: 100%|██████████| 7/7 [00:00<00:00, 30.54it/s]\n"
     ]
    },
    {
     "name": "stdout",
     "output_type": "stream",
     "text": [
      "Epoch 17: train loss = 0.710234, val loss = 0.710222, time consumed = 0:03:40\n",
      "Model saved after epoch 17\n",
      "Reset patience counter\n",
      "\n"
     ]
    },
    {
     "name": "stderr",
     "output_type": "stream",
     "text": [
      "Training batch\t:  36%|███▌      | 10/28 [00:04<00:08,  2.14it/s][codecarbon INFO @ 22:12:38] Energy consumed for RAM : 0.000844 kWh. RAM Power : 13.5 W\n",
      "[codecarbon INFO @ 22:12:38] Energy consumed for all CPUs : 0.002657 kWh. Total CPU Power : 42.5 W\n",
      "[codecarbon INFO @ 22:12:38] 0.003501 kWh of electricity used since the beginning.\n",
      "Training batch\t: 100%|██████████| 28/28 [00:11<00:00,  2.42it/s]\n",
      "Validation batch: 100%|██████████| 7/7 [00:00<00:00, 30.25it/s]\n"
     ]
    },
    {
     "name": "stdout",
     "output_type": "stream",
     "text": [
      "Epoch 18: train loss = 0.707378, val loss = 0.707109, time consumed = 0:03:52\n",
      "Model saved after epoch 18\n",
      "Reset patience counter\n",
      "\n"
     ]
    },
    {
     "name": "stderr",
     "output_type": "stream",
     "text": [
      "Training batch\t:  68%|██████▊   | 19/28 [00:07<00:03,  2.41it/s][codecarbon INFO @ 22:12:53] Energy consumed for RAM : 0.000900 kWh. RAM Power : 13.5 W\n",
      "[codecarbon INFO @ 22:12:53] Energy consumed for all CPUs : 0.002834 kWh. Total CPU Power : 42.5 W\n",
      "[codecarbon INFO @ 22:12:53] 0.003734 kWh of electricity used since the beginning.\n",
      "[codecarbon INFO @ 22:12:53] 0.000872 g.CO2eq/s mean an estimation of 27.488781960964953 kg.CO2eq/year\n",
      "Training batch\t: 100%|██████████| 28/28 [00:10<00:00,  2.55it/s]\n",
      "Validation batch: 100%|██████████| 7/7 [00:00<00:00, 30.55it/s]\n"
     ]
    },
    {
     "name": "stdout",
     "output_type": "stream",
     "text": [
      "Epoch 19: train loss = 0.703661, val loss = 0.704060, time consumed = 0:04:03\n",
      "Model saved after epoch 19\n",
      "Reset patience counter\n",
      "\n"
     ]
    },
    {
     "name": "stderr",
     "output_type": "stream",
     "text": [
      "Training batch\t:  86%|████████▌ | 24/28 [00:11<00:01,  2.27it/s][codecarbon INFO @ 22:13:08] Energy consumed for RAM : 0.000956 kWh. RAM Power : 13.5 W\n",
      "[codecarbon INFO @ 22:13:08] Energy consumed for all CPUs : 0.003011 kWh. Total CPU Power : 42.5 W\n",
      "[codecarbon INFO @ 22:13:08] 0.003968 kWh of electricity used since the beginning.\n",
      "Training batch\t: 100%|██████████| 28/28 [00:12<00:00,  2.22it/s]\n",
      "Validation batch: 100%|██████████| 7/7 [00:00<00:00, 29.50it/s]\n"
     ]
    },
    {
     "name": "stdout",
     "output_type": "stream",
     "text": [
      "Epoch 20: train loss = 0.700872, val loss = 0.701092, time consumed = 0:04:16\n",
      "Model saved after epoch 20\n",
      "Reset patience counter\n",
      "\n"
     ]
    },
    {
     "name": "stderr",
     "output_type": "stream",
     "text": [
      "Training batch\t: 100%|██████████| 28/28 [00:12<00:00,  2.28it/s]\n",
      "Validation batch: 100%|██████████| 7/7 [00:00<00:00, 29.60it/s]\n"
     ]
    },
    {
     "name": "stdout",
     "output_type": "stream",
     "text": [
      "Epoch 21: train loss = 0.697568, val loss = 0.698208, time consumed = 0:04:29\n",
      "Model saved after epoch 21\n",
      "Reset patience counter\n",
      "\n"
     ]
    },
    {
     "name": "stderr",
     "output_type": "stream",
     "text": [
      "Training batch\t:   7%|▋         | 2/28 [00:00<00:09,  2.63it/s][codecarbon INFO @ 22:13:23] Energy consumed for RAM : 0.001013 kWh. RAM Power : 13.5 W\n",
      "[codecarbon INFO @ 22:13:23] Energy consumed for all CPUs : 0.003188 kWh. Total CPU Power : 42.5 W\n",
      "[codecarbon INFO @ 22:13:23] 0.004201 kWh of electricity used since the beginning.\n",
      "Training batch\t: 100%|██████████| 28/28 [00:12<00:00,  2.22it/s]\n",
      "Validation batch: 100%|██████████| 7/7 [00:00<00:00, 30.04it/s]\n"
     ]
    },
    {
     "name": "stdout",
     "output_type": "stream",
     "text": [
      "Epoch 22: train loss = 0.694850, val loss = 0.695426, time consumed = 0:04:41\n",
      "Model saved after epoch 22\n",
      "Reset patience counter\n",
      "\n"
     ]
    },
    {
     "name": "stderr",
     "output_type": "stream",
     "text": [
      "Training batch\t:  25%|██▌       | 7/28 [00:02<00:08,  2.54it/s][codecarbon INFO @ 22:13:38] Energy consumed for RAM : 0.001069 kWh. RAM Power : 13.5 W\n",
      "[codecarbon INFO @ 22:13:38] Energy consumed for all CPUs : 0.003365 kWh. Total CPU Power : 42.5 W\n",
      "[codecarbon INFO @ 22:13:38] 0.004434 kWh of electricity used since the beginning.\n",
      "Training batch\t: 100%|██████████| 28/28 [00:12<00:00,  2.26it/s]\n",
      "Validation batch: 100%|██████████| 7/7 [00:00<00:00, 27.72it/s]\n"
     ]
    },
    {
     "name": "stdout",
     "output_type": "stream",
     "text": [
      "Epoch 23: train loss = 0.692243, val loss = 0.692749, time consumed = 0:04:54\n",
      "Model saved after epoch 23\n",
      "Reset patience counter\n",
      "\n"
     ]
    },
    {
     "name": "stderr",
     "output_type": "stream",
     "text": [
      "Training batch\t:  43%|████▎     | 12/28 [00:05<00:07,  2.16it/s][codecarbon INFO @ 22:13:53] Energy consumed for RAM : 0.001125 kWh. RAM Power : 13.5 W\n",
      "[codecarbon INFO @ 22:13:53] Energy consumed for all CPUs : 0.003543 kWh. Total CPU Power : 42.5 W\n",
      "[codecarbon INFO @ 22:13:53] 0.004668 kWh of electricity used since the beginning.\n",
      "Training batch\t: 100%|██████████| 28/28 [00:12<00:00,  2.22it/s]\n",
      "Validation batch: 100%|██████████| 7/7 [00:00<00:00, 29.53it/s]\n"
     ]
    },
    {
     "name": "stdout",
     "output_type": "stream",
     "text": [
      "Epoch 24: train loss = 0.689708, val loss = 0.690182, time consumed = 0:05:07\n",
      "Model saved after epoch 24\n",
      "Reset patience counter\n",
      "\n"
     ]
    },
    {
     "name": "stderr",
     "output_type": "stream",
     "text": [
      "Training batch\t:  54%|█████▎    | 15/28 [00:07<00:06,  2.04it/s][codecarbon INFO @ 22:14:08] Energy consumed for RAM : 0.001181 kWh. RAM Power : 13.5 W\n",
      "[codecarbon INFO @ 22:14:08] Energy consumed for all CPUs : 0.003720 kWh. Total CPU Power : 42.5 W\n",
      "[codecarbon INFO @ 22:14:08] 0.004901 kWh of electricity used since the beginning.\n",
      "Training batch\t: 100%|██████████| 28/28 [00:13<00:00,  2.14it/s]\n",
      "Validation batch: 100%|██████████| 7/7 [00:00<00:00, 28.55it/s]\n"
     ]
    },
    {
     "name": "stdout",
     "output_type": "stream",
     "text": [
      "Epoch 25: train loss = 0.686905, val loss = 0.687716, time consumed = 0:05:20\n",
      "Model saved after epoch 25\n",
      "Reset patience counter\n",
      "\n"
     ]
    },
    {
     "name": "stderr",
     "output_type": "stream",
     "text": [
      "Training batch\t:  71%|███████▏  | 20/28 [00:08<00:03,  2.56it/s][codecarbon INFO @ 22:14:23] Energy consumed for RAM : 0.001238 kWh. RAM Power : 13.5 W\n",
      "[codecarbon INFO @ 22:14:23] Energy consumed for all CPUs : 0.003897 kWh. Total CPU Power : 42.5 W\n",
      "[codecarbon INFO @ 22:14:23] 0.005135 kWh of electricity used since the beginning.\n",
      "Training batch\t: 100%|██████████| 28/28 [00:12<00:00,  2.32it/s]\n",
      "Validation batch: 100%|██████████| 7/7 [00:00<00:00, 29.42it/s]\n"
     ]
    },
    {
     "name": "stdout",
     "output_type": "stream",
     "text": [
      "Epoch 26: train loss = 0.684528, val loss = 0.685356, time consumed = 0:05:33\n",
      "Model saved after epoch 26\n",
      "Reset patience counter\n",
      "\n"
     ]
    },
    {
     "name": "stderr",
     "output_type": "stream",
     "text": [
      "Training batch\t:  93%|█████████▎| 26/28 [00:11<00:00,  2.32it/s][codecarbon INFO @ 22:14:38] Energy consumed for RAM : 0.001294 kWh. RAM Power : 13.5 W\n",
      "[codecarbon INFO @ 22:14:38] Energy consumed for all CPUs : 0.004074 kWh. Total CPU Power : 42.5 W\n",
      "[codecarbon INFO @ 22:14:38] 0.005368 kWh of electricity used since the beginning.\n",
      "Training batch\t: 100%|██████████| 28/28 [00:12<00:00,  2.25it/s]\n",
      "Validation batch: 100%|██████████| 7/7 [00:00<00:00, 29.48it/s]\n"
     ]
    },
    {
     "name": "stdout",
     "output_type": "stream",
     "text": [
      "Epoch 27: train loss = 0.682554, val loss = 0.683099, time consumed = 0:05:45\n",
      "Model saved after epoch 27\n",
      "Reset patience counter\n",
      "\n"
     ]
    },
    {
     "name": "stderr",
     "output_type": "stream",
     "text": [
      "Training batch\t: 100%|██████████| 28/28 [00:12<00:00,  2.25it/s]\n",
      "Validation batch: 100%|██████████| 7/7 [00:00<00:00, 29.93it/s]\n"
     ]
    },
    {
     "name": "stdout",
     "output_type": "stream",
     "text": [
      "Epoch 28: train loss = 0.680060, val loss = 0.680937, time consumed = 0:05:58\n",
      "Model saved after epoch 28\n",
      "Reset patience counter\n",
      "\n"
     ]
    },
    {
     "name": "stderr",
     "output_type": "stream",
     "text": [
      "Training batch\t:  11%|█         | 3/28 [00:01<00:10,  2.45it/s][codecarbon INFO @ 22:14:53] Energy consumed for RAM : 0.001350 kWh. RAM Power : 13.5 W\n",
      "[codecarbon INFO @ 22:14:53] Energy consumed for all CPUs : 0.004251 kWh. Total CPU Power : 42.5 W\n",
      "[codecarbon INFO @ 22:14:53] 0.005601 kWh of electricity used since the beginning.\n",
      "[codecarbon INFO @ 22:14:53] 0.000872 g.CO2eq/s mean an estimation of 27.48860452625517 kg.CO2eq/year\n",
      "Training batch\t: 100%|██████████| 28/28 [00:12<00:00,  2.26it/s]\n",
      "Validation batch: 100%|██████████| 7/7 [00:00<00:00, 30.23it/s]\n"
     ]
    },
    {
     "name": "stdout",
     "output_type": "stream",
     "text": [
      "Epoch 29: train loss = 0.677935, val loss = 0.678867, time consumed = 0:06:11\n",
      "Model saved after epoch 29\n",
      "Reset patience counter\n",
      "\n"
     ]
    },
    {
     "name": "stderr",
     "output_type": "stream",
     "text": [
      "Training batch\t:  25%|██▌       | 7/28 [00:03<00:11,  1.88it/s][codecarbon INFO @ 22:15:08] Energy consumed for RAM : 0.001407 kWh. RAM Power : 13.5 W\n",
      "[codecarbon INFO @ 22:15:08] Energy consumed for all CPUs : 0.004428 kWh. Total CPU Power : 42.5 W\n",
      "[codecarbon INFO @ 22:15:08] 0.005835 kWh of electricity used since the beginning.\n",
      "Training batch\t: 100%|██████████| 28/28 [00:12<00:00,  2.27it/s]\n",
      "Validation batch: 100%|██████████| 7/7 [00:00<00:00, 29.76it/s]\n"
     ]
    },
    {
     "name": "stdout",
     "output_type": "stream",
     "text": [
      "Epoch 30: train loss = 0.675884, val loss = 0.676888, time consumed = 0:06:23\n",
      "Model saved after epoch 30\n",
      "Reset patience counter\n",
      "\n"
     ]
    },
    {
     "name": "stderr",
     "output_type": "stream",
     "text": [
      "Training batch\t:  50%|█████     | 14/28 [00:06<00:07,  2.00it/s][codecarbon INFO @ 22:15:23] Energy consumed for RAM : 0.001463 kWh. RAM Power : 13.5 W\n",
      "[codecarbon INFO @ 22:15:23] Energy consumed for all CPUs : 0.004605 kWh. Total CPU Power : 42.5 W\n",
      "[codecarbon INFO @ 22:15:23] 0.006068 kWh of electricity used since the beginning.\n",
      "Training batch\t: 100%|██████████| 28/28 [00:12<00:00,  2.27it/s]\n",
      "Validation batch: 100%|██████████| 7/7 [00:00<00:00, 29.30it/s]\n"
     ]
    },
    {
     "name": "stdout",
     "output_type": "stream",
     "text": [
      "Epoch 31: train loss = 0.673881, val loss = 0.674990, time consumed = 0:06:36\n",
      "Model saved after epoch 31\n",
      "Reset patience counter\n",
      "\n"
     ]
    },
    {
     "name": "stderr",
     "output_type": "stream",
     "text": [
      "Training batch\t:  71%|███████▏  | 20/28 [00:08<00:03,  2.15it/s][codecarbon INFO @ 22:15:38] Energy consumed for RAM : 0.001519 kWh. RAM Power : 13.5 W\n",
      "[codecarbon INFO @ 22:15:38] Energy consumed for all CPUs : 0.004782 kWh. Total CPU Power : 42.5 W\n",
      "[codecarbon INFO @ 22:15:38] 0.006301 kWh of electricity used since the beginning.\n",
      "Training batch\t: 100%|██████████| 28/28 [00:12<00:00,  2.27it/s]\n",
      "Validation batch: 100%|██████████| 7/7 [00:00<00:00, 29.87it/s]\n"
     ]
    },
    {
     "name": "stdout",
     "output_type": "stream",
     "text": [
      "Epoch 32: train loss = 0.672069, val loss = 0.673175, time consumed = 0:06:48\n",
      "Model saved after epoch 32\n",
      "Reset patience counter\n",
      "\n"
     ]
    },
    {
     "name": "stderr",
     "output_type": "stream",
     "text": [
      "Training batch\t:  82%|████████▏ | 23/28 [00:10<00:02,  2.14it/s][codecarbon INFO @ 22:15:53] Energy consumed for RAM : 0.001575 kWh. RAM Power : 13.5 W\n",
      "[codecarbon INFO @ 22:15:53] Energy consumed for all CPUs : 0.004960 kWh. Total CPU Power : 42.5 W\n",
      "[codecarbon INFO @ 22:15:53] 0.006535 kWh of electricity used since the beginning.\n",
      "Training batch\t: 100%|██████████| 28/28 [00:12<00:00,  2.25it/s]\n",
      "Validation batch: 100%|██████████| 7/7 [00:00<00:00, 29.16it/s]\n"
     ]
    },
    {
     "name": "stdout",
     "output_type": "stream",
     "text": [
      "Epoch 33: train loss = 0.670233, val loss = 0.671434, time consumed = 0:07:01\n",
      "Model saved after epoch 33\n",
      "Reset patience counter\n",
      "\n"
     ]
    },
    {
     "name": "stderr",
     "output_type": "stream",
     "text": [
      "Training batch\t: 100%|██████████| 28/28 [00:12<00:00,  2.26it/s]\n",
      "Validation batch: 100%|██████████| 7/7 [00:00<00:00, 29.93it/s]\n"
     ]
    },
    {
     "name": "stdout",
     "output_type": "stream",
     "text": [
      "Epoch 34: train loss = 0.668843, val loss = 0.669769, time consumed = 0:07:14\n",
      "Model saved after epoch 34\n",
      "Reset patience counter\n",
      "\n"
     ]
    },
    {
     "name": "stderr",
     "output_type": "stream",
     "text": [
      "Training batch\t:   4%|▎         | 1/28 [00:00<00:19,  1.41it/s][codecarbon INFO @ 22:16:08] Energy consumed for RAM : 0.001632 kWh. RAM Power : 13.5 W\n",
      "[codecarbon INFO @ 22:16:08] Energy consumed for all CPUs : 0.005137 kWh. Total CPU Power : 42.5 W\n",
      "[codecarbon INFO @ 22:16:08] 0.006768 kWh of electricity used since the beginning.\n",
      "Training batch\t: 100%|██████████| 28/28 [00:12<00:00,  2.23it/s]\n",
      "Validation batch: 100%|██████████| 7/7 [00:00<00:00, 29.04it/s]\n"
     ]
    },
    {
     "name": "stdout",
     "output_type": "stream",
     "text": [
      "Epoch 35: train loss = 0.667047, val loss = 0.668166, time consumed = 0:07:27\n",
      "Model saved after epoch 35\n",
      "Reset patience counter\n",
      "\n"
     ]
    },
    {
     "name": "stderr",
     "output_type": "stream",
     "text": [
      "Training batch\t:  21%|██▏       | 6/28 [00:02<00:11,  1.85it/s][codecarbon INFO @ 22:16:23] Energy consumed for RAM : 0.001688 kWh. RAM Power : 13.5 W\n",
      "[codecarbon INFO @ 22:16:23] Energy consumed for all CPUs : 0.005314 kWh. Total CPU Power : 42.5 W\n",
      "[codecarbon INFO @ 22:16:23] 0.007002 kWh of electricity used since the beginning.\n",
      "Training batch\t: 100%|██████████| 28/28 [00:12<00:00,  2.20it/s]\n",
      "Validation batch: 100%|██████████| 7/7 [00:00<00:00, 28.07it/s]\n"
     ]
    },
    {
     "name": "stdout",
     "output_type": "stream",
     "text": [
      "Epoch 36: train loss = 0.665785, val loss = 0.666628, time consumed = 0:07:40\n",
      "Model saved after epoch 36\n",
      "Reset patience counter\n",
      "\n"
     ]
    },
    {
     "name": "stderr",
     "output_type": "stream",
     "text": [
      "Training batch\t:  36%|███▌      | 10/28 [00:04<00:08,  2.13it/s][codecarbon INFO @ 22:16:38] Energy consumed for RAM : 0.001744 kWh. RAM Power : 13.5 W\n",
      "[codecarbon INFO @ 22:16:38] Energy consumed for all CPUs : 0.005491 kWh. Total CPU Power : 42.5 W\n",
      "[codecarbon INFO @ 22:16:38] 0.007235 kWh of electricity used since the beginning.\n",
      "Training batch\t: 100%|██████████| 28/28 [00:13<00:00,  2.15it/s]\n",
      "Validation batch: 100%|██████████| 7/7 [00:00<00:00, 29.54it/s]\n"
     ]
    },
    {
     "name": "stdout",
     "output_type": "stream",
     "text": [
      "Epoch 37: train loss = 0.663798, val loss = 0.665143, time consumed = 0:07:53\n",
      "Model saved after epoch 37\n",
      "Reset patience counter\n",
      "\n"
     ]
    },
    {
     "name": "stderr",
     "output_type": "stream",
     "text": [
      "Training batch\t:  50%|█████     | 14/28 [00:06<00:06,  2.12it/s][codecarbon INFO @ 22:16:53] Energy consumed for RAM : 0.001800 kWh. RAM Power : 13.5 W\n",
      "[codecarbon INFO @ 22:16:53] Energy consumed for all CPUs : 0.005668 kWh. Total CPU Power : 42.5 W\n",
      "[codecarbon INFO @ 22:16:53] 0.007468 kWh of electricity used since the beginning.\n",
      "[codecarbon INFO @ 22:16:53] 0.000872 g.CO2eq/s mean an estimation of 27.48877835421523 kg.CO2eq/year\n",
      "Training batch\t: 100%|██████████| 28/28 [00:12<00:00,  2.31it/s]\n",
      "Validation batch: 100%|██████████| 7/7 [00:00<00:00, 29.73it/s]\n"
     ]
    },
    {
     "name": "stdout",
     "output_type": "stream",
     "text": [
      "Epoch 38: train loss = 0.662667, val loss = 0.663715, time consumed = 0:08:05\n",
      "Model saved after epoch 38\n",
      "Reset patience counter\n",
      "\n"
     ]
    },
    {
     "name": "stderr",
     "output_type": "stream",
     "text": [
      "Training batch\t:  75%|███████▌  | 21/28 [00:09<00:02,  2.41it/s][codecarbon INFO @ 22:17:08] Energy consumed for RAM : 0.001857 kWh. RAM Power : 13.5 W\n",
      "[codecarbon INFO @ 22:17:08] Energy consumed for all CPUs : 0.005845 kWh. Total CPU Power : 42.5 W\n",
      "[codecarbon INFO @ 22:17:08] 0.007702 kWh of electricity used since the beginning.\n",
      "Training batch\t: 100%|██████████| 28/28 [00:12<00:00,  2.24it/s]\n",
      "Validation batch: 100%|██████████| 7/7 [00:00<00:00, 29.76it/s]\n"
     ]
    },
    {
     "name": "stdout",
     "output_type": "stream",
     "text": [
      "Epoch 39: train loss = 0.660898, val loss = 0.662334, time consumed = 0:08:18\n",
      "Model saved after epoch 39\n",
      "Reset patience counter\n",
      "\n"
     ]
    },
    {
     "name": "stderr",
     "output_type": "stream",
     "text": [
      "Training batch\t:  89%|████████▉ | 25/28 [00:11<00:01,  2.31it/s][codecarbon INFO @ 22:17:23] Energy consumed for RAM : 0.001913 kWh. RAM Power : 13.5 W\n",
      "[codecarbon INFO @ 22:17:23] Energy consumed for all CPUs : 0.006022 kWh. Total CPU Power : 42.5 W\n",
      "[codecarbon INFO @ 22:17:23] 0.007935 kWh of electricity used since the beginning.\n",
      "Training batch\t: 100%|██████████| 28/28 [00:12<00:00,  2.26it/s]\n",
      "Validation batch: 100%|██████████| 7/7 [00:00<00:00, 29.13it/s]\n"
     ]
    },
    {
     "name": "stdout",
     "output_type": "stream",
     "text": [
      "Epoch 40: train loss = 0.660095, val loss = 0.661004, time consumed = 0:08:31\n",
      "Model saved after epoch 40\n",
      "Reset patience counter\n",
      "\n"
     ]
    },
    {
     "name": "stderr",
     "output_type": "stream",
     "text": [
      "Training batch\t: 100%|██████████| 28/28 [00:12<00:00,  2.20it/s]\n",
      "Validation batch: 100%|██████████| 7/7 [00:00<00:00, 29.71it/s]\n"
     ]
    },
    {
     "name": "stdout",
     "output_type": "stream",
     "text": [
      "Epoch 41: train loss = 0.658125, val loss = 0.659717, time consumed = 0:08:44\n",
      "Model saved after epoch 41\n",
      "Reset patience counter\n",
      "\n"
     ]
    },
    {
     "name": "stderr",
     "output_type": "stream",
     "text": [
      "Training batch\t:   4%|▎         | 1/28 [00:00<00:11,  2.30it/s][codecarbon INFO @ 22:17:38] Energy consumed for RAM : 0.001969 kWh. RAM Power : 13.5 W\n",
      "[codecarbon INFO @ 22:17:38] Energy consumed for all CPUs : 0.006200 kWh. Total CPU Power : 42.5 W\n",
      "[codecarbon INFO @ 22:17:38] 0.008169 kWh of electricity used since the beginning.\n",
      "Training batch\t: 100%|██████████| 28/28 [00:12<00:00,  2.25it/s]\n",
      "Validation batch: 100%|██████████| 7/7 [00:00<00:00, 30.11it/s]\n"
     ]
    },
    {
     "name": "stdout",
     "output_type": "stream",
     "text": [
      "Epoch 42: train loss = 0.656929, val loss = 0.658473, time consumed = 0:08:56\n",
      "Model saved after epoch 42\n",
      "Reset patience counter\n",
      "\n"
     ]
    },
    {
     "name": "stderr",
     "output_type": "stream",
     "text": [
      "Training batch\t:  25%|██▌       | 7/28 [00:03<00:09,  2.21it/s][codecarbon INFO @ 22:17:53] Energy consumed for RAM : 0.002025 kWh. RAM Power : 13.5 W\n",
      "[codecarbon INFO @ 22:17:53] Energy consumed for all CPUs : 0.006377 kWh. Total CPU Power : 42.5 W\n",
      "[codecarbon INFO @ 22:17:53] 0.008402 kWh of electricity used since the beginning.\n",
      "Training batch\t: 100%|██████████| 28/28 [00:12<00:00,  2.30it/s]\n",
      "Validation batch: 100%|██████████| 7/7 [00:00<00:00, 29.95it/s]\n"
     ]
    },
    {
     "name": "stdout",
     "output_type": "stream",
     "text": [
      "Epoch 43: train loss = 0.655597, val loss = 0.657268, time consumed = 0:09:09\n",
      "Model saved after epoch 43\n",
      "Reset patience counter\n",
      "\n"
     ]
    },
    {
     "name": "stderr",
     "output_type": "stream",
     "text": [
      "Training batch\t:  43%|████▎     | 12/28 [00:05<00:06,  2.33it/s][codecarbon INFO @ 22:18:08] Energy consumed for RAM : 0.002082 kWh. RAM Power : 13.5 W\n",
      "[codecarbon INFO @ 22:18:08] Energy consumed for all CPUs : 0.006554 kWh. Total CPU Power : 42.5 W\n",
      "[codecarbon INFO @ 22:18:08] 0.008635 kWh of electricity used since the beginning.\n",
      "Training batch\t: 100%|██████████| 28/28 [00:12<00:00,  2.27it/s]\n",
      "Validation batch: 100%|██████████| 7/7 [00:00<00:00, 29.78it/s]\n"
     ]
    },
    {
     "name": "stdout",
     "output_type": "stream",
     "text": [
      "Epoch 44: train loss = 0.654712, val loss = 0.656099, time consumed = 0:09:21\n",
      "Model saved after epoch 44\n",
      "Reset patience counter\n",
      "\n"
     ]
    },
    {
     "name": "stderr",
     "output_type": "stream",
     "text": [
      "Training batch\t:  61%|██████    | 17/28 [00:07<00:04,  2.40it/s][codecarbon INFO @ 22:18:23] Energy consumed for RAM : 0.002138 kWh. RAM Power : 13.5 W\n",
      "[codecarbon INFO @ 22:18:23] Energy consumed for all CPUs : 0.006731 kWh. Total CPU Power : 42.5 W\n",
      "[codecarbon INFO @ 22:18:23] 0.008869 kWh of electricity used since the beginning.\n",
      "Training batch\t: 100%|██████████| 28/28 [00:12<00:00,  2.25it/s]\n",
      "Validation batch: 100%|██████████| 7/7 [00:00<00:00, 29.87it/s]\n"
     ]
    },
    {
     "name": "stdout",
     "output_type": "stream",
     "text": [
      "Epoch 45: train loss = 0.653974, val loss = 0.654965, time consumed = 0:09:34\n",
      "Model saved after epoch 45\n",
      "Reset patience counter\n",
      "\n"
     ]
    },
    {
     "name": "stderr",
     "output_type": "stream",
     "text": [
      "Training batch\t:  82%|████████▏ | 23/28 [00:10<00:02,  1.97it/s][codecarbon INFO @ 22:18:38] Energy consumed for RAM : 0.002194 kWh. RAM Power : 13.5 W\n",
      "[codecarbon INFO @ 22:18:38] Energy consumed for all CPUs : 0.006908 kWh. Total CPU Power : 42.5 W\n",
      "[codecarbon INFO @ 22:18:38] 0.009102 kWh of electricity used since the beginning.\n",
      "Training batch\t: 100%|██████████| 28/28 [00:12<00:00,  2.27it/s]\n",
      "Validation batch: 100%|██████████| 7/7 [00:00<00:00, 29.72it/s]\n"
     ]
    },
    {
     "name": "stdout",
     "output_type": "stream",
     "text": [
      "Epoch 46: train loss = 0.652936, val loss = 0.653860, time consumed = 0:09:47\n",
      "Model saved after epoch 46\n",
      "Reset patience counter\n",
      "\n"
     ]
    },
    {
     "name": "stderr",
     "output_type": "stream",
     "text": [
      "Training batch\t: 100%|██████████| 28/28 [00:12<00:00,  2.20it/s]\n",
      "Validation batch: 100%|██████████| 7/7 [00:00<00:00, 28.19it/s]\n"
     ]
    },
    {
     "name": "stdout",
     "output_type": "stream",
     "text": [
      "Epoch 47: train loss = 0.651786, val loss = 0.652785, time consumed = 0:10:00\n",
      "Model saved after epoch 47\n",
      "Reset patience counter\n",
      "\n"
     ]
    },
    {
     "name": "stderr",
     "output_type": "stream",
     "text": [
      "Training batch\t:   0%|          | 0/28 [00:00<?, ?it/s][codecarbon INFO @ 22:18:53] Energy consumed for RAM : 0.002250 kWh. RAM Power : 13.5 W\n",
      "[codecarbon INFO @ 22:18:53] Energy consumed for all CPUs : 0.007085 kWh. Total CPU Power : 42.5 W\n",
      "[codecarbon INFO @ 22:18:53] 0.009336 kWh of electricity used since the beginning.\n",
      "[codecarbon INFO @ 22:18:53] 0.000872 g.CO2eq/s mean an estimation of 27.48890909845976 kg.CO2eq/year\n",
      "Training batch\t: 100%|██████████| 28/28 [00:11<00:00,  2.35it/s]\n",
      "Validation batch: 100%|██████████| 7/7 [00:00<00:00, 29.12it/s]\n"
     ]
    },
    {
     "name": "stdout",
     "output_type": "stream",
     "text": [
      "Epoch 48: train loss = 0.650408, val loss = 0.651740, time consumed = 0:10:12\n",
      "Model saved after epoch 48\n",
      "Reset patience counter\n",
      "\n"
     ]
    },
    {
     "name": "stderr",
     "output_type": "stream",
     "text": [
      "Training batch\t:  18%|█▊        | 5/28 [00:02<00:11,  1.93it/s][codecarbon INFO @ 22:19:08] Energy consumed for RAM : 0.002307 kWh. RAM Power : 13.5 W\n",
      "[codecarbon INFO @ 22:19:08] Energy consumed for all CPUs : 0.007262 kWh. Total CPU Power : 42.5 W\n",
      "[codecarbon INFO @ 22:19:08] 0.009569 kWh of electricity used since the beginning.\n",
      "Training batch\t: 100%|██████████| 28/28 [00:12<00:00,  2.29it/s]\n",
      "Validation batch: 100%|██████████| 7/7 [00:00<00:00, 29.65it/s]\n"
     ]
    },
    {
     "name": "stdout",
     "output_type": "stream",
     "text": [
      "Epoch 49: train loss = 0.649383, val loss = 0.650727, time consumed = 0:10:24\n",
      "Model saved after epoch 49\n",
      "Reset patience counter\n",
      "\n"
     ]
    },
    {
     "name": "stderr",
     "output_type": "stream",
     "text": [
      "Training batch\t:  39%|███▉      | 11/28 [00:05<00:07,  2.42it/s][codecarbon INFO @ 22:19:23] Energy consumed for RAM : 0.002363 kWh. RAM Power : 13.5 W\n",
      "[codecarbon INFO @ 22:19:23] Energy consumed for all CPUs : 0.007439 kWh. Total CPU Power : 42.5 W\n",
      "[codecarbon INFO @ 22:19:23] 0.009802 kWh of electricity used since the beginning.\n",
      "Training batch\t: 100%|██████████| 28/28 [00:12<00:00,  2.21it/s]\n",
      "Validation batch: 100%|██████████| 7/7 [00:00<00:00, 29.50it/s]\n"
     ]
    },
    {
     "name": "stdout",
     "output_type": "stream",
     "text": [
      "Epoch 50: train loss = 0.648163, val loss = 0.649734, time consumed = 0:10:37\n",
      "Model saved after epoch 50\n",
      "Reset patience counter\n",
      "\n"
     ]
    },
    {
     "name": "stderr",
     "output_type": "stream",
     "text": [
      "Training batch\t:  57%|█████▋    | 16/28 [00:06<00:05,  2.14it/s][codecarbon INFO @ 22:19:38] Energy consumed for RAM : 0.002419 kWh. RAM Power : 13.5 W\n",
      "[codecarbon INFO @ 22:19:38] Energy consumed for all CPUs : 0.007617 kWh. Total CPU Power : 42.5 W\n",
      "[codecarbon INFO @ 22:19:38] 0.010036 kWh of electricity used since the beginning.\n",
      "Training batch\t: 100%|██████████| 28/28 [00:12<00:00,  2.20it/s]\n",
      "Validation batch: 100%|██████████| 7/7 [00:00<00:00, 28.13it/s]\n"
     ]
    },
    {
     "name": "stdout",
     "output_type": "stream",
     "text": [
      "Epoch 51: train loss = 0.647027, val loss = 0.648771, time consumed = 0:10:50\n",
      "Model saved after epoch 51\n",
      "Reset patience counter\n",
      "\n"
     ]
    },
    {
     "name": "stderr",
     "output_type": "stream",
     "text": [
      "Training batch\t:  68%|██████▊   | 19/28 [00:09<00:04,  1.84it/s][codecarbon INFO @ 22:19:53] Energy consumed for RAM : 0.002475 kWh. RAM Power : 13.5 W\n",
      "[codecarbon INFO @ 22:19:53] Energy consumed for all CPUs : 0.007794 kWh. Total CPU Power : 42.5 W\n",
      "[codecarbon INFO @ 22:19:53] 0.010269 kWh of electricity used since the beginning.\n",
      "Training batch\t: 100%|██████████| 28/28 [00:12<00:00,  2.17it/s]\n",
      "Validation batch: 100%|██████████| 7/7 [00:00<00:00, 29.60it/s]\n"
     ]
    },
    {
     "name": "stdout",
     "output_type": "stream",
     "text": [
      "Epoch 52: train loss = 0.645953, val loss = 0.647832, time consumed = 0:11:03\n",
      "Model saved after epoch 52\n",
      "Reset patience counter\n",
      "\n"
     ]
    },
    {
     "name": "stderr",
     "output_type": "stream",
     "text": [
      "Training batch\t:  89%|████████▉ | 25/28 [00:11<00:01,  2.57it/s][codecarbon INFO @ 22:20:08] Energy consumed for RAM : 0.002532 kWh. RAM Power : 13.5 W\n",
      "[codecarbon INFO @ 22:20:08] Energy consumed for all CPUs : 0.007971 kWh. Total CPU Power : 42.5 W\n",
      "[codecarbon INFO @ 22:20:08] 0.010503 kWh of electricity used since the beginning.\n",
      "Training batch\t: 100%|██████████| 28/28 [00:12<00:00,  2.28it/s]\n",
      "Validation batch: 100%|██████████| 7/7 [00:00<00:00, 29.76it/s]\n"
     ]
    },
    {
     "name": "stdout",
     "output_type": "stream",
     "text": [
      "Epoch 53: train loss = 0.645672, val loss = 0.646911, time consumed = 0:11:16\n",
      "Model saved after epoch 53\n",
      "Reset patience counter\n",
      "\n"
     ]
    },
    {
     "name": "stderr",
     "output_type": "stream",
     "text": [
      "Training batch\t: 100%|██████████| 28/28 [00:12<00:00,  2.22it/s]\n",
      "Validation batch: 100%|██████████| 7/7 [00:00<00:00, 30.12it/s]\n"
     ]
    },
    {
     "name": "stdout",
     "output_type": "stream",
     "text": [
      "Epoch 54: train loss = 0.644583, val loss = 0.646012, time consumed = 0:11:29\n",
      "Model saved after epoch 54\n",
      "Reset patience counter\n",
      "\n"
     ]
    },
    {
     "name": "stderr",
     "output_type": "stream",
     "text": [
      "Training batch\t:   7%|▋         | 2/28 [00:00<00:09,  2.86it/s][codecarbon INFO @ 22:20:23] Energy consumed for RAM : 0.002588 kWh. RAM Power : 13.5 W\n",
      "[codecarbon INFO @ 22:20:23] Energy consumed for all CPUs : 0.008148 kWh. Total CPU Power : 42.5 W\n",
      "[codecarbon INFO @ 22:20:23] 0.010736 kWh of electricity used since the beginning.\n",
      "Training batch\t: 100%|██████████| 28/28 [00:12<00:00,  2.26it/s]\n",
      "Validation batch: 100%|██████████| 7/7 [00:00<00:00, 30.19it/s]\n"
     ]
    },
    {
     "name": "stdout",
     "output_type": "stream",
     "text": [
      "Epoch 55: train loss = 0.643273, val loss = 0.645139, time consumed = 0:11:41\n",
      "Model saved after epoch 55\n",
      "Reset patience counter\n",
      "\n"
     ]
    },
    {
     "name": "stderr",
     "output_type": "stream",
     "text": [
      "Training batch\t:  25%|██▌       | 7/28 [00:03<00:09,  2.10it/s][codecarbon INFO @ 22:20:38] Energy consumed for RAM : 0.002644 kWh. RAM Power : 13.5 W\n",
      "[codecarbon INFO @ 22:20:38] Energy consumed for all CPUs : 0.008325 kWh. Total CPU Power : 42.5 W\n",
      "[codecarbon INFO @ 22:20:38] 0.010969 kWh of electricity used since the beginning.\n",
      "Training batch\t: 100%|██████████| 28/28 [00:12<00:00,  2.24it/s]\n",
      "Validation batch: 100%|██████████| 7/7 [00:00<00:00, 29.77it/s]\n"
     ]
    },
    {
     "name": "stdout",
     "output_type": "stream",
     "text": [
      "Epoch 56: train loss = 0.642749, val loss = 0.644285, time consumed = 0:11:54\n",
      "Model saved after epoch 56\n",
      "Reset patience counter\n",
      "\n"
     ]
    },
    {
     "name": "stderr",
     "output_type": "stream",
     "text": [
      "Training batch\t:  39%|███▉      | 11/28 [00:05<00:07,  2.16it/s][codecarbon INFO @ 22:20:53] Energy consumed for RAM : 0.002701 kWh. RAM Power : 13.5 W\n",
      "[codecarbon INFO @ 22:20:53] Energy consumed for all CPUs : 0.008502 kWh. Total CPU Power : 42.5 W\n",
      "[codecarbon INFO @ 22:20:53] 0.011203 kWh of electricity used since the beginning.\n",
      "[codecarbon INFO @ 22:20:53] 0.000872 g.CO2eq/s mean an estimation of 27.48892484128766 kg.CO2eq/year\n",
      "Training batch\t: 100%|██████████| 28/28 [00:12<00:00,  2.25it/s]\n",
      "Validation batch: 100%|██████████| 7/7 [00:00<00:00, 29.85it/s]\n"
     ]
    },
    {
     "name": "stdout",
     "output_type": "stream",
     "text": [
      "Epoch 57: train loss = 0.641985, val loss = 0.643447, time consumed = 0:12:07\n",
      "Model saved after epoch 57\n",
      "Reset patience counter\n",
      "\n"
     ]
    },
    {
     "name": "stderr",
     "output_type": "stream",
     "text": [
      "Training batch\t:  57%|█████▋    | 16/28 [00:07<00:06,  1.92it/s][codecarbon INFO @ 22:21:08] Energy consumed for RAM : 0.002757 kWh. RAM Power : 13.5 W\n",
      "[codecarbon INFO @ 22:21:08] Energy consumed for all CPUs : 0.008679 kWh. Total CPU Power : 42.5 W\n",
      "[codecarbon INFO @ 22:21:08] 0.011436 kWh of electricity used since the beginning.\n",
      "Training batch\t: 100%|██████████| 28/28 [00:13<00:00,  2.09it/s]\n",
      "Validation batch: 100%|██████████| 7/7 [00:00<00:00, 26.33it/s]\n"
     ]
    },
    {
     "name": "stdout",
     "output_type": "stream",
     "text": [
      "Epoch 58: train loss = 0.641294, val loss = 0.642627, time consumed = 0:12:21\n",
      "Model saved after epoch 58\n",
      "Reset patience counter\n",
      "\n"
     ]
    },
    {
     "name": "stderr",
     "output_type": "stream",
     "text": [
      "Training batch\t:  64%|██████▍   | 18/28 [00:09<00:04,  2.13it/s][codecarbon INFO @ 22:21:23] Energy consumed for RAM : 0.002813 kWh. RAM Power : 13.5 W\n",
      "[codecarbon INFO @ 22:21:23] Energy consumed for all CPUs : 0.008856 kWh. Total CPU Power : 42.5 W\n",
      "[codecarbon INFO @ 22:21:23] 0.011670 kWh of electricity used since the beginning.\n",
      "Training batch\t: 100%|██████████| 28/28 [00:12<00:00,  2.21it/s]\n",
      "Validation batch: 100%|██████████| 7/7 [00:00<00:00, 30.66it/s]\n"
     ]
    },
    {
     "name": "stdout",
     "output_type": "stream",
     "text": [
      "Epoch 59: train loss = 0.640324, val loss = 0.641828, time consumed = 0:12:34\n",
      "Model saved after epoch 59\n",
      "Reset patience counter\n",
      "\n"
     ]
    },
    {
     "name": "stderr",
     "output_type": "stream",
     "text": [
      "Training batch\t:  75%|███████▌  | 21/28 [00:11<00:04,  1.65it/s][codecarbon INFO @ 22:21:38] Energy consumed for RAM : 0.002869 kWh. RAM Power : 13.5 W\n",
      "[codecarbon INFO @ 22:21:38] Energy consumed for all CPUs : 0.009034 kWh. Total CPU Power : 42.5 W\n",
      "[codecarbon INFO @ 22:21:38] 0.011903 kWh of electricity used since the beginning.\n",
      "Training batch\t: 100%|██████████| 28/28 [00:14<00:00,  1.90it/s]\n",
      "Validation batch: 100%|██████████| 7/7 [00:00<00:00, 26.35it/s]\n"
     ]
    },
    {
     "name": "stdout",
     "output_type": "stream",
     "text": [
      "Epoch 60: train loss = 0.639489, val loss = 0.641041, time consumed = 0:12:49\n",
      "Model saved after epoch 60\n",
      "Reset patience counter\n",
      "\n"
     ]
    },
    {
     "name": "stderr",
     "output_type": "stream",
     "text": [
      "Training batch\t:  75%|███████▌  | 21/28 [00:11<00:03,  1.98it/s][codecarbon INFO @ 22:21:53] Energy consumed for RAM : 0.002926 kWh. RAM Power : 13.5 W\n",
      "[codecarbon INFO @ 22:21:53] Energy consumed for all CPUs : 0.009211 kWh. Total CPU Power : 42.5 W\n",
      "[codecarbon INFO @ 22:21:53] 0.012136 kWh of electricity used since the beginning.\n",
      "Training batch\t: 100%|██████████| 28/28 [00:14<00:00,  1.96it/s]\n",
      "Validation batch: 100%|██████████| 7/7 [00:00<00:00, 23.28it/s]\n"
     ]
    },
    {
     "name": "stdout",
     "output_type": "stream",
     "text": [
      "Epoch 61: train loss = 0.638892, val loss = 0.640275, time consumed = 0:13:03\n",
      "Model saved after epoch 61\n",
      "Reset patience counter\n",
      "\n"
     ]
    },
    {
     "name": "stderr",
     "output_type": "stream",
     "text": [
      "Training batch\t:  79%|███████▊  | 22/28 [00:11<00:02,  2.36it/s][codecarbon INFO @ 22:22:08] Energy consumed for RAM : 0.002982 kWh. RAM Power : 13.5 W\n",
      "[codecarbon INFO @ 22:22:08] Energy consumed for all CPUs : 0.009388 kWh. Total CPU Power : 42.5 W\n",
      "[codecarbon INFO @ 22:22:08] 0.012370 kWh of electricity used since the beginning.\n",
      "Training batch\t: 100%|██████████| 28/28 [00:13<00:00,  2.05it/s]\n",
      "Validation batch: 100%|██████████| 7/7 [00:00<00:00, 29.28it/s]\n"
     ]
    },
    {
     "name": "stdout",
     "output_type": "stream",
     "text": [
      "Epoch 62: train loss = 0.637668, val loss = 0.639524, time consumed = 0:13:17\n",
      "Model saved after epoch 62\n",
      "Reset patience counter\n",
      "\n"
     ]
    },
    {
     "name": "stderr",
     "output_type": "stream",
     "text": [
      "Training batch\t: 100%|██████████| 28/28 [00:12<00:00,  2.24it/s]\n",
      "Validation batch:  43%|████▎     | 3/7 [00:00<00:00, 29.38it/s][codecarbon INFO @ 22:22:23] Energy consumed for RAM : 0.003038 kWh. RAM Power : 13.5 W\n",
      "[codecarbon INFO @ 22:22:23] Energy consumed for all CPUs : 0.009565 kWh. Total CPU Power : 42.5 W\n",
      "[codecarbon INFO @ 22:22:23] 0.012603 kWh of electricity used since the beginning.\n",
      "Validation batch: 100%|██████████| 7/7 [00:00<00:00, 29.74it/s]\n"
     ]
    },
    {
     "name": "stdout",
     "output_type": "stream",
     "text": [
      "Epoch 63: train loss = 0.637182, val loss = 0.638792, time consumed = 0:13:30\n",
      "Model saved after epoch 63\n",
      "Reset patience counter\n",
      "\n"
     ]
    },
    {
     "name": "stderr",
     "output_type": "stream",
     "text": [
      "Training batch\t: 100%|██████████| 28/28 [00:12<00:00,  2.25it/s]\n",
      "Validation batch: 100%|██████████| 7/7 [00:00<00:00, 29.64it/s]\n"
     ]
    },
    {
     "name": "stdout",
     "output_type": "stream",
     "text": [
      "Epoch 64: train loss = 0.636600, val loss = 0.638073, time consumed = 0:13:43\n",
      "Model saved after epoch 64\n",
      "Reset patience counter\n",
      "\n"
     ]
    },
    {
     "name": "stderr",
     "output_type": "stream",
     "text": [
      "Training batch\t:  14%|█▍        | 4/28 [00:02<00:13,  1.81it/s][codecarbon INFO @ 22:22:38] Energy consumed for RAM : 0.003094 kWh. RAM Power : 13.5 W\n",
      "[codecarbon INFO @ 22:22:38] Energy consumed for all CPUs : 0.009742 kWh. Total CPU Power : 42.5 W\n",
      "[codecarbon INFO @ 22:22:38] 0.012837 kWh of electricity used since the beginning.\n",
      "Training batch\t: 100%|██████████| 28/28 [00:12<00:00,  2.20it/s]\n",
      "Validation batch: 100%|██████████| 7/7 [00:00<00:00, 27.04it/s]\n"
     ]
    },
    {
     "name": "stdout",
     "output_type": "stream",
     "text": [
      "Epoch 65: train loss = 0.636060, val loss = 0.637368, time consumed = 0:13:56\n",
      "Model saved after epoch 65\n",
      "Reset patience counter\n",
      "\n"
     ]
    },
    {
     "name": "stderr",
     "output_type": "stream",
     "text": [
      "Training batch\t:  32%|███▏      | 9/28 [00:04<00:08,  2.23it/s][codecarbon INFO @ 22:22:53] Energy consumed for RAM : 0.003151 kWh. RAM Power : 13.5 W\n",
      "[codecarbon INFO @ 22:22:53] Energy consumed for all CPUs : 0.009919 kWh. Total CPU Power : 42.5 W\n",
      "[codecarbon INFO @ 22:22:53] 0.013070 kWh of electricity used since the beginning.\n",
      "[codecarbon INFO @ 22:22:53] 0.000872 g.CO2eq/s mean an estimation of 27.488803200378825 kg.CO2eq/year\n",
      "Training batch\t: 100%|██████████| 28/28 [00:13<00:00,  2.06it/s]\n",
      "Validation batch: 100%|██████████| 7/7 [00:00<00:00, 29.15it/s]\n"
     ]
    },
    {
     "name": "stdout",
     "output_type": "stream",
     "text": [
      "Epoch 66: train loss = 0.635042, val loss = 0.636679, time consumed = 0:14:09\n",
      "Model saved after epoch 66\n",
      "Reset patience counter\n",
      "\n"
     ]
    },
    {
     "name": "stderr",
     "output_type": "stream",
     "text": [
      "Training batch\t:  39%|███▉      | 11/28 [00:05<00:07,  2.42it/s][codecarbon INFO @ 22:23:08] Energy consumed for RAM : 0.003207 kWh. RAM Power : 13.5 W\n",
      "[codecarbon INFO @ 22:23:08] Energy consumed for all CPUs : 0.010096 kWh. Total CPU Power : 42.5 W\n",
      "[codecarbon INFO @ 22:23:08] 0.013303 kWh of electricity used since the beginning.\n",
      "Training batch\t: 100%|██████████| 28/28 [00:12<00:00,  2.20it/s]\n",
      "Validation batch: 100%|██████████| 7/7 [00:00<00:00, 28.35it/s]\n"
     ]
    },
    {
     "name": "stdout",
     "output_type": "stream",
     "text": [
      "Epoch 67: train loss = 0.634255, val loss = 0.636005, time consumed = 0:14:22\n",
      "Model saved after epoch 67\n",
      "Reset patience counter\n",
      "\n"
     ]
    },
    {
     "name": "stderr",
     "output_type": "stream",
     "text": [
      "Training batch\t:  57%|█████▋    | 16/28 [00:07<00:04,  2.45it/s][codecarbon INFO @ 22:23:23] Energy consumed for RAM : 0.003263 kWh. RAM Power : 13.5 W\n",
      "[codecarbon INFO @ 22:23:23] Energy consumed for all CPUs : 0.010274 kWh. Total CPU Power : 42.5 W\n",
      "[codecarbon INFO @ 22:23:23] 0.013537 kWh of electricity used since the beginning.\n",
      "Training batch\t: 100%|██████████| 28/28 [00:12<00:00,  2.21it/s]\n",
      "Validation batch: 100%|██████████| 7/7 [00:00<00:00, 30.34it/s]\n"
     ]
    },
    {
     "name": "stdout",
     "output_type": "stream",
     "text": [
      "Epoch 68: train loss = 0.633899, val loss = 0.635343, time consumed = 0:14:35\n",
      "Model saved after epoch 68\n",
      "Reset patience counter\n",
      "\n"
     ]
    },
    {
     "name": "stderr",
     "output_type": "stream",
     "text": [
      "Training batch\t:  64%|██████▍   | 18/28 [00:09<00:04,  2.09it/s][codecarbon INFO @ 22:23:38] Energy consumed for RAM : 0.003319 kWh. RAM Power : 13.5 W\n",
      "[codecarbon INFO @ 22:23:38] Energy consumed for all CPUs : 0.010451 kWh. Total CPU Power : 42.5 W\n",
      "[codecarbon INFO @ 22:23:38] 0.013770 kWh of electricity used since the beginning.\n",
      "Training batch\t: 100%|██████████| 28/28 [00:13<00:00,  2.04it/s]\n",
      "Validation batch: 100%|██████████| 7/7 [00:00<00:00, 29.87it/s]\n"
     ]
    },
    {
     "name": "stdout",
     "output_type": "stream",
     "text": [
      "Epoch 69: train loss = 0.633202, val loss = 0.634695, time consumed = 0:14:49\n",
      "Model saved after epoch 69\n",
      "Reset patience counter\n",
      "\n"
     ]
    },
    {
     "name": "stderr",
     "output_type": "stream",
     "text": [
      "Training batch\t:  82%|████████▏ | 23/28 [00:10<00:02,  2.25it/s][codecarbon INFO @ 22:23:53] Energy consumed for RAM : 0.003376 kWh. RAM Power : 13.5 W\n",
      "[codecarbon INFO @ 22:23:53] Energy consumed for all CPUs : 0.010628 kWh. Total CPU Power : 42.5 W\n",
      "[codecarbon INFO @ 22:23:53] 0.014004 kWh of electricity used since the beginning.\n",
      "Training batch\t: 100%|██████████| 28/28 [00:12<00:00,  2.17it/s]\n",
      "Validation batch: 100%|██████████| 7/7 [00:00<00:00, 28.76it/s]\n"
     ]
    },
    {
     "name": "stdout",
     "output_type": "stream",
     "text": [
      "Epoch 70: train loss = 0.632757, val loss = 0.634063, time consumed = 0:15:02\n",
      "Model saved after epoch 70\n",
      "Reset patience counter\n",
      "\n"
     ]
    },
    {
     "name": "stderr",
     "output_type": "stream",
     "text": [
      "Training batch\t: 100%|██████████| 28/28 [00:11<00:00,  2.35it/s]\n",
      "Validation batch: 100%|██████████| 7/7 [00:00<00:00, 30.53it/s]\n"
     ]
    },
    {
     "name": "stdout",
     "output_type": "stream",
     "text": [
      "Epoch 71: train loss = 0.631936, val loss = 0.633442, time consumed = 0:15:15\n",
      "Model saved after epoch 71\n",
      "Reset patience counter\n",
      "\n"
     ]
    },
    {
     "name": "stderr",
     "output_type": "stream",
     "text": [
      "Training batch\t:   0%|          | 0/28 [00:00<?, ?it/s][codecarbon INFO @ 22:24:08] Energy consumed for RAM : 0.003432 kWh. RAM Power : 13.5 W\n",
      "[codecarbon INFO @ 22:24:08] Energy consumed for all CPUs : 0.010805 kWh. Total CPU Power : 42.5 W\n",
      "[codecarbon INFO @ 22:24:08] 0.014237 kWh of electricity used since the beginning.\n",
      "Training batch\t: 100%|██████████| 28/28 [00:11<00:00,  2.47it/s]\n",
      "Validation batch: 100%|██████████| 7/7 [00:00<00:00, 26.20it/s]\n"
     ]
    },
    {
     "name": "stdout",
     "output_type": "stream",
     "text": [
      "Epoch 72: train loss = 0.631370, val loss = 0.632834, time consumed = 0:15:26\n",
      "Model saved after epoch 72\n",
      "Reset patience counter\n",
      "\n"
     ]
    },
    {
     "name": "stderr",
     "output_type": "stream",
     "text": [
      "Training batch\t:  29%|██▊       | 8/28 [00:03<00:07,  2.56it/s][codecarbon INFO @ 22:24:23] Energy consumed for RAM : 0.003488 kWh. RAM Power : 13.5 W\n",
      "[codecarbon INFO @ 22:24:23] Energy consumed for all CPUs : 0.010982 kWh. Total CPU Power : 42.5 W\n",
      "[codecarbon INFO @ 22:24:23] 0.014470 kWh of electricity used since the beginning.\n",
      "Training batch\t: 100%|██████████| 28/28 [00:12<00:00,  2.23it/s]\n",
      "Validation batch: 100%|██████████| 7/7 [00:00<00:00, 29.30it/s]\n"
     ]
    },
    {
     "name": "stdout",
     "output_type": "stream",
     "text": [
      "Epoch 73: train loss = 0.630697, val loss = 0.632242, time consumed = 0:15:39\n",
      "Model saved after epoch 73\n",
      "Reset patience counter\n",
      "\n"
     ]
    },
    {
     "name": "stderr",
     "output_type": "stream",
     "text": [
      "Training batch\t:  46%|████▋     | 13/28 [00:05<00:06,  2.47it/s][codecarbon INFO @ 22:24:38] Energy consumed for RAM : 0.003544 kWh. RAM Power : 13.5 W\n",
      "[codecarbon INFO @ 22:24:38] Energy consumed for all CPUs : 0.011159 kWh. Total CPU Power : 42.5 W\n",
      "[codecarbon INFO @ 22:24:38] 0.014704 kWh of electricity used since the beginning.\n",
      "Training batch\t: 100%|██████████| 28/28 [00:12<00:00,  2.27it/s]\n",
      "Validation batch: 100%|██████████| 7/7 [00:00<00:00, 30.04it/s]\n"
     ]
    },
    {
     "name": "stdout",
     "output_type": "stream",
     "text": [
      "Epoch 74: train loss = 0.629929, val loss = 0.631664, time consumed = 0:15:52\n",
      "Model saved after epoch 74\n",
      "Reset patience counter\n",
      "\n"
     ]
    },
    {
     "name": "stderr",
     "output_type": "stream",
     "text": [
      "Training batch\t:  61%|██████    | 17/28 [00:07<00:04,  2.41it/s][codecarbon INFO @ 22:24:53] Energy consumed for RAM : 0.003601 kWh. RAM Power : 13.5 W\n",
      "[codecarbon INFO @ 22:24:53] Energy consumed for all CPUs : 0.011336 kWh. Total CPU Power : 42.5 W\n",
      "[codecarbon INFO @ 22:24:53] 0.014937 kWh of electricity used since the beginning.\n",
      "[codecarbon INFO @ 22:24:53] 0.000872 g.CO2eq/s mean an estimation of 27.488741711710606 kg.CO2eq/year\n",
      "Training batch\t: 100%|██████████| 28/28 [00:12<00:00,  2.32it/s]\n",
      "Validation batch: 100%|██████████| 7/7 [00:00<00:00, 29.37it/s]\n"
     ]
    },
    {
     "name": "stdout",
     "output_type": "stream",
     "text": [
      "Epoch 75: train loss = 0.629309, val loss = 0.631096, time consumed = 0:16:04\n",
      "Model saved after epoch 75\n",
      "Reset patience counter\n",
      "\n"
     ]
    },
    {
     "name": "stderr",
     "output_type": "stream",
     "text": [
      "Training batch\t:  86%|████████▌ | 24/28 [00:10<00:01,  2.33it/s][codecarbon INFO @ 22:25:08] Energy consumed for RAM : 0.003657 kWh. RAM Power : 13.5 W\n",
      "[codecarbon INFO @ 22:25:08] Energy consumed for all CPUs : 0.011513 kWh. Total CPU Power : 42.5 W\n",
      "[codecarbon INFO @ 22:25:08] 0.015170 kWh of electricity used since the beginning.\n",
      "Training batch\t: 100%|██████████| 28/28 [00:12<00:00,  2.32it/s]\n",
      "Validation batch: 100%|██████████| 7/7 [00:00<00:00, 29.73it/s]\n"
     ]
    },
    {
     "name": "stdout",
     "output_type": "stream",
     "text": [
      "Epoch 76: train loss = 0.629227, val loss = 0.630543, time consumed = 0:16:16\n",
      "Model saved after epoch 76\n",
      "Reset patience counter\n",
      "\n"
     ]
    },
    {
     "name": "stderr",
     "output_type": "stream",
     "text": [
      "Training batch\t: 100%|██████████| 28/28 [00:12<00:00,  2.18it/s]\n",
      "Validation batch: 100%|██████████| 7/7 [00:00<00:00, 29.67it/s]\n"
     ]
    },
    {
     "name": "stdout",
     "output_type": "stream",
     "text": [
      "Epoch 77: train loss = 0.628552, val loss = 0.630001, time consumed = 0:16:29\n",
      "Model saved after epoch 77\n",
      "Reset patience counter\n",
      "\n"
     ]
    },
    {
     "name": "stderr",
     "output_type": "stream",
     "text": [
      "Training batch\t:   0%|          | 0/28 [00:00<?, ?it/s][codecarbon INFO @ 22:25:23] Energy consumed for RAM : 0.003713 kWh. RAM Power : 13.5 W\n",
      "[codecarbon INFO @ 22:25:23] Energy consumed for all CPUs : 0.011691 kWh. Total CPU Power : 42.5 W\n",
      "[codecarbon INFO @ 22:25:23] 0.015404 kWh of electricity used since the beginning.\n",
      "Training batch\t: 100%|██████████| 28/28 [00:12<00:00,  2.23it/s]\n",
      "Validation batch: 100%|██████████| 7/7 [00:00<00:00, 29.97it/s]\n"
     ]
    },
    {
     "name": "stdout",
     "output_type": "stream",
     "text": [
      "Epoch 78: train loss = 0.628002, val loss = 0.629471, time consumed = 0:16:42\n",
      "Model saved after epoch 78\n",
      "Reset patience counter\n",
      "\n"
     ]
    },
    {
     "name": "stderr",
     "output_type": "stream",
     "text": [
      "Training batch\t:  18%|█▊        | 5/28 [00:02<00:09,  2.34it/s][codecarbon INFO @ 22:25:38] Energy consumed for RAM : 0.003770 kWh. RAM Power : 13.5 W\n",
      "[codecarbon INFO @ 22:25:38] Energy consumed for all CPUs : 0.011868 kWh. Total CPU Power : 42.5 W\n",
      "[codecarbon INFO @ 22:25:38] 0.015637 kWh of electricity used since the beginning.\n",
      "Training batch\t: 100%|██████████| 28/28 [00:12<00:00,  2.32it/s]\n",
      "Validation batch: 100%|██████████| 7/7 [00:00<00:00, 29.23it/s]\n"
     ]
    },
    {
     "name": "stdout",
     "output_type": "stream",
     "text": [
      "Epoch 79: train loss = 0.627561, val loss = 0.628957, time consumed = 0:16:55\n",
      "Model saved after epoch 79\n",
      "Reset patience counter\n",
      "\n"
     ]
    },
    {
     "name": "stderr",
     "output_type": "stream",
     "text": [
      "Training batch\t:  39%|███▉      | 11/28 [00:04<00:08,  2.12it/s][codecarbon INFO @ 22:25:53] Energy consumed for RAM : 0.003826 kWh. RAM Power : 13.5 W\n",
      "[codecarbon INFO @ 22:25:53] Energy consumed for all CPUs : 0.012045 kWh. Total CPU Power : 42.5 W\n",
      "[codecarbon INFO @ 22:25:53] 0.015871 kWh of electricity used since the beginning.\n",
      "Training batch\t: 100%|██████████| 28/28 [00:12<00:00,  2.24it/s]\n",
      "Validation batch: 100%|██████████| 7/7 [00:00<00:00, 29.14it/s]\n"
     ]
    },
    {
     "name": "stdout",
     "output_type": "stream",
     "text": [
      "Epoch 80: train loss = 0.627194, val loss = 0.628453, time consumed = 0:17:07\n",
      "Model saved after epoch 80\n",
      "Reset patience counter\n",
      "\n"
     ]
    },
    {
     "name": "stderr",
     "output_type": "stream",
     "text": [
      "Training batch\t:  57%|█████▋    | 16/28 [00:06<00:05,  2.36it/s][codecarbon INFO @ 22:26:08] Energy consumed for RAM : 0.003882 kWh. RAM Power : 13.5 W\n",
      "[codecarbon INFO @ 22:26:08] Energy consumed for all CPUs : 0.012222 kWh. Total CPU Power : 42.5 W\n",
      "[codecarbon INFO @ 22:26:08] 0.016104 kWh of electricity used since the beginning.\n",
      "Training batch\t: 100%|██████████| 28/28 [00:12<00:00,  2.16it/s]\n",
      "Validation batch: 100%|██████████| 7/7 [00:00<00:00, 26.07it/s]\n"
     ]
    },
    {
     "name": "stdout",
     "output_type": "stream",
     "text": [
      "Epoch 81: train loss = 0.626759, val loss = 0.627961, time consumed = 0:17:21\n",
      "Model saved after epoch 81\n",
      "Reset patience counter\n",
      "\n"
     ]
    },
    {
     "name": "stderr",
     "output_type": "stream",
     "text": [
      "Training batch\t:  64%|██████▍   | 18/28 [00:08<00:05,  1.95it/s][codecarbon INFO @ 22:26:23] Energy consumed for RAM : 0.003938 kWh. RAM Power : 13.5 W\n",
      "[codecarbon INFO @ 22:26:23] Energy consumed for all CPUs : 0.012399 kWh. Total CPU Power : 42.5 W\n",
      "[codecarbon INFO @ 22:26:23] 0.016337 kWh of electricity used since the beginning.\n",
      "Training batch\t: 100%|██████████| 28/28 [00:12<00:00,  2.23it/s]\n",
      "Validation batch: 100%|██████████| 7/7 [00:00<00:00, 30.87it/s]\n"
     ]
    },
    {
     "name": "stdout",
     "output_type": "stream",
     "text": [
      "Epoch 82: train loss = 0.626118, val loss = 0.627480, time consumed = 0:17:33\n",
      "Model saved after epoch 82\n",
      "Reset patience counter\n",
      "\n"
     ]
    },
    {
     "name": "stderr",
     "output_type": "stream",
     "text": [
      "Training batch\t:  89%|████████▉ | 25/28 [00:11<00:01,  2.14it/s][codecarbon INFO @ 22:26:38] Energy consumed for RAM : 0.003995 kWh. RAM Power : 13.5 W\n",
      "[codecarbon INFO @ 22:26:38] Energy consumed for all CPUs : 0.012576 kWh. Total CPU Power : 42.5 W\n",
      "[codecarbon INFO @ 22:26:38] 0.016571 kWh of electricity used since the beginning.\n",
      "Training batch\t: 100%|██████████| 28/28 [00:12<00:00,  2.25it/s]\n",
      "Validation batch: 100%|██████████| 7/7 [00:00<00:00, 29.51it/s]\n"
     ]
    },
    {
     "name": "stdout",
     "output_type": "stream",
     "text": [
      "Epoch 83: train loss = 0.625274, val loss = 0.627011, time consumed = 0:17:46\n",
      "Model saved after epoch 83\n",
      "Reset patience counter\n",
      "\n"
     ]
    },
    {
     "name": "stderr",
     "output_type": "stream",
     "text": [
      "Training batch\t:  82%|████████▏ | 23/28 [00:13<00:02,  1.71it/s][codecarbon INFO @ 22:26:53] Energy consumed for RAM : 0.004051 kWh. RAM Power : 13.5 W\n",
      "[codecarbon INFO @ 22:26:53] Energy consumed for all CPUs : 0.012753 kWh. Total CPU Power : 42.5 W\n",
      "[codecarbon INFO @ 22:26:53] 0.016804 kWh of electricity used since the beginning.\n",
      "[codecarbon INFO @ 22:26:53] 0.000872 g.CO2eq/s mean an estimation of 27.488445022618702 kg.CO2eq/year\n",
      "Training batch\t: 100%|██████████| 28/28 [00:15<00:00,  1.83it/s]\n",
      "Validation batch: 100%|██████████| 7/7 [00:00<00:00, 24.63it/s]\n"
     ]
    },
    {
     "name": "stdout",
     "output_type": "stream",
     "text": [
      "Epoch 84: train loss = 0.625451, val loss = 0.626549, time consumed = 0:18:02\n",
      "Model saved after epoch 84\n",
      "Reset patience counter\n",
      "\n"
     ]
    },
    {
     "name": "stderr",
     "output_type": "stream",
     "text": [
      "Training batch\t:  89%|████████▉ | 25/28 [00:12<00:01,  1.98it/s][codecarbon INFO @ 22:27:08] Energy consumed for RAM : 0.004107 kWh. RAM Power : 13.5 W\n",
      "[codecarbon INFO @ 22:27:08] Energy consumed for all CPUs : 0.012930 kWh. Total CPU Power : 42.5 W\n",
      "[codecarbon INFO @ 22:27:08] 0.017037 kWh of electricity used since the beginning.\n",
      "Training batch\t: 100%|██████████| 28/28 [00:14<00:00,  1.95it/s]\n",
      "Validation batch: 100%|██████████| 7/7 [00:00<00:00, 27.04it/s]\n"
     ]
    },
    {
     "name": "stdout",
     "output_type": "stream",
     "text": [
      "Epoch 85: train loss = 0.625057, val loss = 0.626102, time consumed = 0:18:16\n",
      "Model saved after epoch 85\n",
      "Reset patience counter\n",
      "\n"
     ]
    },
    {
     "name": "stderr",
     "output_type": "stream",
     "text": [
      "Training batch\t: 100%|██████████| 28/28 [00:13<00:00,  2.08it/s]\n",
      "Validation batch:   0%|          | 0/7 [00:00<?, ?it/s][codecarbon INFO @ 22:27:23] Energy consumed for RAM : 0.004163 kWh. RAM Power : 13.5 W\n",
      "[codecarbon INFO @ 22:27:23] Energy consumed for all CPUs : 0.013108 kWh. Total CPU Power : 42.5 W\n",
      "[codecarbon INFO @ 22:27:23] 0.017271 kWh of electricity used since the beginning.\n",
      "Validation batch: 100%|██████████| 7/7 [00:00<00:00, 27.14it/s]\n"
     ]
    },
    {
     "name": "stdout",
     "output_type": "stream",
     "text": [
      "Epoch 86: train loss = 0.624565, val loss = 0.625667, time consumed = 0:18:30\n",
      "Model saved after epoch 86\n",
      "Reset patience counter\n",
      "\n"
     ]
    },
    {
     "name": "stderr",
     "output_type": "stream",
     "text": [
      "Training batch\t: 100%|██████████| 28/28 [00:11<00:00,  2.44it/s]\n",
      "Validation batch: 100%|██████████| 7/7 [00:00<00:00, 27.69it/s]\n"
     ]
    },
    {
     "name": "stdout",
     "output_type": "stream",
     "text": [
      "Epoch 87: train loss = 0.623614, val loss = 0.625244, time consumed = 0:18:42\n",
      "Model saved after epoch 87\n",
      "Reset patience counter\n",
      "\n"
     ]
    },
    {
     "name": "stderr",
     "output_type": "stream",
     "text": [
      "Training batch\t:  18%|█▊        | 5/28 [00:02<00:10,  2.12it/s][codecarbon INFO @ 22:27:38] Energy consumed for RAM : 0.004220 kWh. RAM Power : 13.5 W\n",
      "[codecarbon INFO @ 22:27:38] Energy consumed for all CPUs : 0.013285 kWh. Total CPU Power : 42.5 W\n",
      "[codecarbon INFO @ 22:27:38] 0.017504 kWh of electricity used since the beginning.\n",
      "Training batch\t: 100%|██████████| 28/28 [00:11<00:00,  2.45it/s]\n",
      "Validation batch: 100%|██████████| 7/7 [00:00<00:00, 30.48it/s]\n"
     ]
    },
    {
     "name": "stdout",
     "output_type": "stream",
     "text": [
      "Epoch 88: train loss = 0.623542, val loss = 0.624832, time consumed = 0:18:53\n",
      "Model saved after epoch 88\n",
      "Reset patience counter\n",
      "\n"
     ]
    },
    {
     "name": "stderr",
     "output_type": "stream",
     "text": [
      "Training batch\t:  46%|████▋     | 13/28 [00:06<00:06,  2.20it/s][codecarbon INFO @ 22:27:53] Energy consumed for RAM : 0.004276 kWh. RAM Power : 13.5 W\n",
      "[codecarbon INFO @ 22:27:53] Energy consumed for all CPUs : 0.013462 kWh. Total CPU Power : 42.5 W\n",
      "[codecarbon INFO @ 22:27:53] 0.017738 kWh of electricity used since the beginning.\n",
      "Training batch\t: 100%|██████████| 28/28 [00:13<00:00,  2.11it/s]\n",
      "Validation batch: 100%|██████████| 7/7 [00:00<00:00, 29.54it/s]\n"
     ]
    },
    {
     "name": "stdout",
     "output_type": "stream",
     "text": [
      "Epoch 89: train loss = 0.623188, val loss = 0.624426, time consumed = 0:19:07\n",
      "Model saved after epoch 89\n",
      "Reset patience counter\n",
      "\n"
     ]
    },
    {
     "name": "stderr",
     "output_type": "stream",
     "text": [
      "Training batch\t:  57%|█████▋    | 16/28 [00:07<00:05,  2.19it/s][codecarbon INFO @ 22:28:08] Energy consumed for RAM : 0.004332 kWh. RAM Power : 13.5 W\n",
      "[codecarbon INFO @ 22:28:08] Energy consumed for all CPUs : 0.013639 kWh. Total CPU Power : 42.5 W\n",
      "[codecarbon INFO @ 22:28:08] 0.017971 kWh of electricity used since the beginning.\n",
      "Training batch\t: 100%|██████████| 28/28 [00:12<00:00,  2.24it/s]\n",
      "Validation batch: 100%|██████████| 7/7 [00:00<00:00, 29.39it/s]\n"
     ]
    },
    {
     "name": "stdout",
     "output_type": "stream",
     "text": [
      "Epoch 90: train loss = 0.622742, val loss = 0.624035, time consumed = 0:19:20\n",
      "Model saved after epoch 90\n",
      "Reset patience counter\n",
      "\n"
     ]
    },
    {
     "name": "stderr",
     "output_type": "stream",
     "text": [
      "Training batch\t:  75%|███████▌  | 21/28 [00:09<00:03,  2.27it/s][codecarbon INFO @ 22:28:23] Energy consumed for RAM : 0.004388 kWh. RAM Power : 13.5 W\n",
      "[codecarbon INFO @ 22:28:23] Energy consumed for all CPUs : 0.013816 kWh. Total CPU Power : 42.5 W\n",
      "[codecarbon INFO @ 22:28:23] 0.018204 kWh of electricity used since the beginning.\n",
      "Training batch\t: 100%|██████████| 28/28 [00:12<00:00,  2.26it/s]\n",
      "Validation batch: 100%|██████████| 7/7 [00:00<00:00, 28.77it/s]\n"
     ]
    },
    {
     "name": "stdout",
     "output_type": "stream",
     "text": [
      "Epoch 91: train loss = 0.622743, val loss = 0.623655, time consumed = 0:19:32\n",
      "Model saved after epoch 91\n",
      "Reset patience counter\n",
      "\n"
     ]
    },
    {
     "name": "stderr",
     "output_type": "stream",
     "text": [
      "Training batch\t:  96%|█████████▋| 27/28 [00:12<00:00,  2.13it/s][codecarbon INFO @ 22:28:38] Energy consumed for RAM : 0.004445 kWh. RAM Power : 13.5 W\n",
      "[codecarbon INFO @ 22:28:38] Energy consumed for all CPUs : 0.013993 kWh. Total CPU Power : 42.5 W\n",
      "[codecarbon INFO @ 22:28:38] 0.018438 kWh of electricity used since the beginning.\n",
      "Training batch\t: 100%|██████████| 28/28 [00:12<00:00,  2.24it/s]\n",
      "Validation batch: 100%|██████████| 7/7 [00:00<00:00, 30.03it/s]\n"
     ]
    },
    {
     "name": "stdout",
     "output_type": "stream",
     "text": [
      "Epoch 92: train loss = 0.621828, val loss = 0.623285, time consumed = 0:19:45\n",
      "Model saved after epoch 92\n",
      "Reset patience counter\n",
      "\n"
     ]
    },
    {
     "name": "stderr",
     "output_type": "stream",
     "text": [
      "Training batch\t: 100%|██████████| 28/28 [00:12<00:00,  2.25it/s]\n",
      "Validation batch: 100%|██████████| 7/7 [00:00<00:00, 29.80it/s]\n"
     ]
    },
    {
     "name": "stdout",
     "output_type": "stream",
     "text": [
      "Epoch 93: train loss = 0.621762, val loss = 0.622922, time consumed = 0:19:58\n",
      "Model saved after epoch 93\n",
      "Reset patience counter\n",
      "\n"
     ]
    },
    {
     "name": "stderr",
     "output_type": "stream",
     "text": [
      "Training batch\t:  18%|█▊        | 5/28 [00:01<00:08,  2.74it/s][codecarbon INFO @ 22:28:53] Energy consumed for RAM : 0.004501 kWh. RAM Power : 13.5 W\n",
      "[codecarbon INFO @ 22:28:53] Energy consumed for all CPUs : 0.014170 kWh. Total CPU Power : 42.5 W\n",
      "[codecarbon INFO @ 22:28:53] 0.018671 kWh of electricity used since the beginning.\n",
      "[codecarbon INFO @ 22:28:53] 0.000872 g.CO2eq/s mean an estimation of 27.48885295766257 kg.CO2eq/year\n",
      "Training batch\t: 100%|██████████| 28/28 [00:12<00:00,  2.25it/s]\n",
      "Validation batch: 100%|██████████| 7/7 [00:00<00:00, 29.58it/s]\n"
     ]
    },
    {
     "name": "stdout",
     "output_type": "stream",
     "text": [
      "Epoch 94: train loss = 0.621860, val loss = 0.622570, time consumed = 0:20:11\n",
      "Model saved after epoch 94\n",
      "Reset patience counter\n",
      "\n"
     ]
    },
    {
     "name": "stderr",
     "output_type": "stream",
     "text": [
      "Training batch\t:  32%|███▏      | 9/28 [00:03<00:07,  2.39it/s][codecarbon INFO @ 22:29:08] Energy consumed for RAM : 0.004557 kWh. RAM Power : 13.5 W\n",
      "[codecarbon INFO @ 22:29:08] Energy consumed for all CPUs : 0.014347 kWh. Total CPU Power : 42.5 W\n",
      "[codecarbon INFO @ 22:29:08] 0.018905 kWh of electricity used since the beginning.\n",
      "Training batch\t: 100%|██████████| 28/28 [00:12<00:00,  2.25it/s]\n",
      "Validation batch: 100%|██████████| 7/7 [00:00<00:00, 30.46it/s]\n"
     ]
    },
    {
     "name": "stdout",
     "output_type": "stream",
     "text": [
      "Epoch 95: train loss = 0.620809, val loss = 0.622231, time consumed = 0:20:23\n",
      "Model saved after epoch 95\n",
      "Reset patience counter\n",
      "\n"
     ]
    },
    {
     "name": "stderr",
     "output_type": "stream",
     "text": [
      "Training batch\t:  46%|████▋     | 13/28 [00:06<00:06,  2.15it/s][codecarbon INFO @ 22:29:23] Energy consumed for RAM : 0.004613 kWh. RAM Power : 13.5 W\n",
      "[codecarbon INFO @ 22:29:23] Energy consumed for all CPUs : 0.014525 kWh. Total CPU Power : 42.5 W\n",
      "[codecarbon INFO @ 22:29:23] 0.019138 kWh of electricity used since the beginning.\n",
      "Training batch\t: 100%|██████████| 28/28 [00:12<00:00,  2.19it/s]\n",
      "Validation batch: 100%|██████████| 7/7 [00:00<00:00, 28.93it/s]\n"
     ]
    },
    {
     "name": "stdout",
     "output_type": "stream",
     "text": [
      "Epoch 96: train loss = 0.620558, val loss = 0.621901, time consumed = 0:20:36\n",
      "Model saved after epoch 96\n",
      "Reset patience counter\n",
      "\n"
     ]
    },
    {
     "name": "stderr",
     "output_type": "stream",
     "text": [
      "Training batch\t:  68%|██████▊   | 19/28 [00:08<00:03,  2.28it/s][codecarbon INFO @ 22:29:38] Energy consumed for RAM : 0.004670 kWh. RAM Power : 13.5 W\n",
      "[codecarbon INFO @ 22:29:38] Energy consumed for all CPUs : 0.014702 kWh. Total CPU Power : 42.5 W\n",
      "[codecarbon INFO @ 22:29:38] 0.019371 kWh of electricity used since the beginning.\n",
      "Training batch\t: 100%|██████████| 28/28 [00:12<00:00,  2.19it/s]\n",
      "Validation batch: 100%|██████████| 7/7 [00:00<00:00, 30.27it/s]\n"
     ]
    },
    {
     "name": "stdout",
     "output_type": "stream",
     "text": [
      "Epoch 97: train loss = 0.620444, val loss = 0.621580, time consumed = 0:20:49\n",
      "Model saved after epoch 97\n",
      "Reset patience counter\n",
      "\n"
     ]
    },
    {
     "name": "stderr",
     "output_type": "stream",
     "text": [
      "Training batch\t:  75%|███████▌  | 21/28 [00:10<00:03,  2.00it/s][codecarbon INFO @ 22:29:53] Energy consumed for RAM : 0.004726 kWh. RAM Power : 13.5 W\n",
      "[codecarbon INFO @ 22:29:53] Energy consumed for all CPUs : 0.014879 kWh. Total CPU Power : 42.5 W\n",
      "[codecarbon INFO @ 22:29:53] 0.019605 kWh of electricity used since the beginning.\n",
      "Training batch\t: 100%|██████████| 28/28 [00:12<00:00,  2.18it/s]\n",
      "Validation batch: 100%|██████████| 7/7 [00:00<00:00, 29.37it/s]\n"
     ]
    },
    {
     "name": "stdout",
     "output_type": "stream",
     "text": [
      "Epoch 98: train loss = 0.620315, val loss = 0.621270, time consumed = 0:21:02\n",
      "Model saved after epoch 98\n",
      "Reset patience counter\n",
      "\n"
     ]
    },
    {
     "name": "stderr",
     "output_type": "stream",
     "text": [
      "Training batch\t:  93%|█████████▎| 26/28 [00:12<00:00,  2.45it/s][codecarbon INFO @ 22:30:08] Energy consumed for RAM : 0.004782 kWh. RAM Power : 13.5 W\n",
      "[codecarbon INFO @ 22:30:08] Energy consumed for all CPUs : 0.015056 kWh. Total CPU Power : 42.5 W\n",
      "[codecarbon INFO @ 22:30:08] 0.019838 kWh of electricity used since the beginning.\n",
      "Training batch\t: 100%|██████████| 28/28 [00:12<00:00,  2.20it/s]\n",
      "Validation batch: 100%|██████████| 7/7 [00:00<00:00, 29.32it/s]\n"
     ]
    },
    {
     "name": "stdout",
     "output_type": "stream",
     "text": [
      "Epoch 99: train loss = 0.620198, val loss = 0.620968, time consumed = 0:21:15\n",
      "Model saved after epoch 99\n",
      "Reset patience counter\n",
      "\n"
     ]
    },
    {
     "name": "stderr",
     "output_type": "stream",
     "text": [
      "Training batch\t: 100%|██████████| 28/28 [00:12<00:00,  2.26it/s]\n",
      "Validation batch: 100%|██████████| 7/7 [00:00<00:00, 29.57it/s]\n"
     ]
    },
    {
     "name": "stdout",
     "output_type": "stream",
     "text": [
      "Epoch 100: train loss = 0.619814, val loss = 0.620674, time consumed = 0:21:28\n",
      "Model saved after epoch 100\n",
      "Reset patience counter\n",
      "\n"
     ]
    },
    {
     "name": "stderr",
     "output_type": "stream",
     "text": [
      "Training batch\t:  11%|█         | 3/28 [00:01<00:12,  2.00it/s][codecarbon INFO @ 22:30:23] Energy consumed for RAM : 0.004838 kWh. RAM Power : 13.5 W\n",
      "[codecarbon INFO @ 22:30:23] Energy consumed for all CPUs : 0.015233 kWh. Total CPU Power : 42.5 W\n",
      "[codecarbon INFO @ 22:30:23] 0.020072 kWh of electricity used since the beginning.\n",
      "Training batch\t: 100%|██████████| 28/28 [00:12<00:00,  2.19it/s]\n",
      "Validation batch: 100%|██████████| 7/7 [00:00<00:00, 29.57it/s]\n"
     ]
    },
    {
     "name": "stdout",
     "output_type": "stream",
     "text": [
      "Epoch 101: train loss = 0.618806, val loss = 0.620391, time consumed = 0:21:41\n",
      "Model saved after epoch 101\n",
      "Reset patience counter\n",
      "\n"
     ]
    },
    {
     "name": "stderr",
     "output_type": "stream",
     "text": [
      "Training batch\t:  29%|██▊       | 8/28 [00:03<00:08,  2.50it/s][codecarbon INFO @ 22:30:38] Energy consumed for RAM : 0.004895 kWh. RAM Power : 13.5 W\n",
      "[codecarbon INFO @ 22:30:38] Energy consumed for all CPUs : 0.015410 kWh. Total CPU Power : 42.5 W\n",
      "[codecarbon INFO @ 22:30:38] 0.020305 kWh of electricity used since the beginning.\n",
      "Training batch\t: 100%|██████████| 28/28 [00:12<00:00,  2.23it/s]\n",
      "Validation batch: 100%|██████████| 7/7 [00:00<00:00, 29.58it/s]\n"
     ]
    },
    {
     "name": "stdout",
     "output_type": "stream",
     "text": [
      "Epoch 102: train loss = 0.618839, val loss = 0.620117, time consumed = 0:21:54\n",
      "Model saved after epoch 102\n",
      "Reset patience counter\n",
      "\n"
     ]
    },
    {
     "name": "stderr",
     "output_type": "stream",
     "text": [
      "Training batch\t:  46%|████▋     | 13/28 [00:05<00:05,  2.75it/s][codecarbon INFO @ 22:30:53] Energy consumed for RAM : 0.004951 kWh. RAM Power : 13.5 W\n",
      "[codecarbon INFO @ 22:30:53] Energy consumed for all CPUs : 0.015587 kWh. Total CPU Power : 42.5 W\n",
      "[codecarbon INFO @ 22:30:53] 0.020538 kWh of electricity used since the beginning.\n",
      "[codecarbon INFO @ 22:30:53] 0.000872 g.CO2eq/s mean an estimation of 27.488641973257728 kg.CO2eq/year\n",
      "Training batch\t: 100%|██████████| 28/28 [00:12<00:00,  2.26it/s]\n",
      "Validation batch: 100%|██████████| 7/7 [00:00<00:00, 29.86it/s]\n"
     ]
    },
    {
     "name": "stdout",
     "output_type": "stream",
     "text": [
      "Epoch 103: train loss = 0.619162, val loss = 0.619850, time consumed = 0:22:07\n",
      "Model saved after epoch 103\n",
      "Reset patience counter\n",
      "\n"
     ]
    },
    {
     "name": "stderr",
     "output_type": "stream",
     "text": [
      "Training batch\t:  64%|██████▍   | 18/28 [00:08<00:04,  2.41it/s][codecarbon INFO @ 22:31:08] Energy consumed for RAM : 0.005007 kWh. RAM Power : 13.5 W\n",
      "[codecarbon INFO @ 22:31:08] Energy consumed for all CPUs : 0.015764 kWh. Total CPU Power : 42.5 W\n",
      "[codecarbon INFO @ 22:31:08] 0.020772 kWh of electricity used since the beginning.\n",
      "Training batch\t: 100%|██████████| 28/28 [00:12<00:00,  2.26it/s]\n",
      "Validation batch: 100%|██████████| 7/7 [00:00<00:00, 29.48it/s]\n"
     ]
    },
    {
     "name": "stdout",
     "output_type": "stream",
     "text": [
      "Epoch 104: train loss = 0.618528, val loss = 0.619592, time consumed = 0:22:19\n",
      "Model saved after epoch 104\n",
      "Reset patience counter\n",
      "\n"
     ]
    },
    {
     "name": "stderr",
     "output_type": "stream",
     "text": [
      "Training batch\t:  82%|████████▏ | 23/28 [00:10<00:02,  2.28it/s][codecarbon INFO @ 22:31:23] Energy consumed for RAM : 0.005063 kWh. RAM Power : 13.5 W\n",
      "[codecarbon INFO @ 22:31:23] Energy consumed for all CPUs : 0.015942 kWh. Total CPU Power : 42.5 W\n",
      "[codecarbon INFO @ 22:31:23] 0.021005 kWh of electricity used since the beginning.\n",
      "Training batch\t: 100%|██████████| 28/28 [00:12<00:00,  2.21it/s]\n",
      "Validation batch: 100%|██████████| 7/7 [00:00<00:00, 29.14it/s]\n"
     ]
    },
    {
     "name": "stdout",
     "output_type": "stream",
     "text": [
      "Epoch 105: train loss = 0.617647, val loss = 0.619343, time consumed = 0:22:32\n",
      "Model saved after epoch 105\n",
      "Reset patience counter\n",
      "\n"
     ]
    },
    {
     "name": "stderr",
     "output_type": "stream",
     "text": [
      "Training batch\t: 100%|██████████| 28/28 [00:12<00:00,  2.22it/s]\n",
      "Validation batch:  43%|████▎     | 3/7 [00:00<00:00, 29.58it/s][codecarbon INFO @ 22:31:38] Energy consumed for RAM : 0.005120 kWh. RAM Power : 13.5 W\n",
      "[codecarbon INFO @ 22:31:38] Energy consumed for all CPUs : 0.016119 kWh. Total CPU Power : 42.5 W\n",
      "[codecarbon INFO @ 22:31:38] 0.021238 kWh of electricity used since the beginning.\n",
      "Validation batch: 100%|██████████| 7/7 [00:00<00:00, 30.06it/s]\n"
     ]
    },
    {
     "name": "stdout",
     "output_type": "stream",
     "text": [
      "Epoch 106: train loss = 0.617854, val loss = 0.619102, time consumed = 0:22:45\n",
      "Model saved after epoch 106\n",
      "Reset patience counter\n",
      "\n"
     ]
    },
    {
     "name": "stderr",
     "output_type": "stream",
     "text": [
      "Training batch\t: 100%|██████████| 28/28 [00:12<00:00,  2.19it/s]\n",
      "Validation batch: 100%|██████████| 7/7 [00:00<00:00, 30.17it/s]\n"
     ]
    },
    {
     "name": "stdout",
     "output_type": "stream",
     "text": [
      "Epoch 107: train loss = 0.617441, val loss = 0.618867, time consumed = 0:22:58\n",
      "Model saved after epoch 107\n",
      "Reset patience counter\n",
      "\n"
     ]
    },
    {
     "name": "stderr",
     "output_type": "stream",
     "text": [
      "Training batch\t:  14%|█▍        | 4/28 [00:01<00:11,  2.11it/s][codecarbon INFO @ 22:31:53] Energy consumed for RAM : 0.005176 kWh. RAM Power : 13.5 W\n",
      "[codecarbon INFO @ 22:31:53] Energy consumed for all CPUs : 0.016296 kWh. Total CPU Power : 42.5 W\n",
      "[codecarbon INFO @ 22:31:53] 0.021472 kWh of electricity used since the beginning.\n",
      "Training batch\t: 100%|██████████| 28/28 [00:12<00:00,  2.23it/s]\n",
      "Validation batch: 100%|██████████| 7/7 [00:00<00:00, 29.63it/s]\n"
     ]
    },
    {
     "name": "stdout",
     "output_type": "stream",
     "text": [
      "Epoch 108: train loss = 0.617310, val loss = 0.618639, time consumed = 0:23:11\n",
      "Model saved after epoch 108\n",
      "Reset patience counter\n",
      "\n"
     ]
    },
    {
     "name": "stderr",
     "output_type": "stream",
     "text": [
      "Training batch\t:  29%|██▊       | 8/28 [00:03<00:09,  2.13it/s][codecarbon INFO @ 22:32:08] Energy consumed for RAM : 0.005232 kWh. RAM Power : 13.5 W\n",
      "[codecarbon INFO @ 22:32:08] Energy consumed for all CPUs : 0.016473 kWh. Total CPU Power : 42.5 W\n",
      "[codecarbon INFO @ 22:32:08] 0.021705 kWh of electricity used since the beginning.\n",
      "Training batch\t: 100%|██████████| 28/28 [00:12<00:00,  2.22it/s]\n",
      "Validation batch: 100%|██████████| 7/7 [00:00<00:00, 29.75it/s]\n"
     ]
    },
    {
     "name": "stdout",
     "output_type": "stream",
     "text": [
      "Epoch 109: train loss = 0.617405, val loss = 0.618420, time consumed = 0:23:24\n",
      "Model saved after epoch 109\n",
      "Reset patience counter\n",
      "\n"
     ]
    },
    {
     "name": "stderr",
     "output_type": "stream",
     "text": [
      "Training batch\t:  43%|████▎     | 12/28 [00:06<00:07,  2.03it/s][codecarbon INFO @ 22:32:23] Energy consumed for RAM : 0.005289 kWh. RAM Power : 13.5 W\n",
      "[codecarbon INFO @ 22:32:23] Energy consumed for all CPUs : 0.016650 kWh. Total CPU Power : 42.5 W\n",
      "[codecarbon INFO @ 22:32:23] 0.021939 kWh of electricity used since the beginning.\n",
      "Training batch\t: 100%|██████████| 28/28 [00:12<00:00,  2.18it/s]\n",
      "Validation batch: 100%|██████████| 7/7 [00:00<00:00, 29.72it/s]\n"
     ]
    },
    {
     "name": "stdout",
     "output_type": "stream",
     "text": [
      "Epoch 110: train loss = 0.617039, val loss = 0.618208, time consumed = 0:23:37\n",
      "Model saved after epoch 110\n",
      "Reset patience counter\n",
      "\n"
     ]
    },
    {
     "name": "stderr",
     "output_type": "stream",
     "text": [
      "Training batch\t:  61%|██████    | 17/28 [00:07<00:05,  2.14it/s][codecarbon INFO @ 22:32:38] Energy consumed for RAM : 0.005345 kWh. RAM Power : 13.5 W\n",
      "[codecarbon INFO @ 22:32:38] Energy consumed for all CPUs : 0.016827 kWh. Total CPU Power : 42.5 W\n",
      "[codecarbon INFO @ 22:32:38] 0.022172 kWh of electricity used since the beginning.\n",
      "Training batch\t: 100%|██████████| 28/28 [00:12<00:00,  2.22it/s]\n",
      "Validation batch: 100%|██████████| 7/7 [00:00<00:00, 29.68it/s]\n"
     ]
    },
    {
     "name": "stdout",
     "output_type": "stream",
     "text": [
      "Epoch 111: train loss = 0.616739, val loss = 0.618002, time consumed = 0:23:50\n",
      "Model saved after epoch 111\n",
      "Reset patience counter\n",
      "\n"
     ]
    },
    {
     "name": "stderr",
     "output_type": "stream",
     "text": [
      "Training batch\t:  79%|███████▊  | 22/28 [00:10<00:03,  1.93it/s][codecarbon INFO @ 22:32:53] Energy consumed for RAM : 0.005401 kWh. RAM Power : 13.5 W\n",
      "[codecarbon INFO @ 22:32:53] Energy consumed for all CPUs : 0.017004 kWh. Total CPU Power : 42.5 W\n",
      "[codecarbon INFO @ 22:32:53] 0.022405 kWh of electricity used since the beginning.\n",
      "[codecarbon INFO @ 22:32:53] 0.000872 g.CO2eq/s mean an estimation of 27.48878211568318 kg.CO2eq/year\n",
      "Training batch\t: 100%|██████████| 28/28 [00:12<00:00,  2.21it/s]\n",
      "Validation batch: 100%|██████████| 7/7 [00:00<00:00, 29.36it/s]\n"
     ]
    },
    {
     "name": "stdout",
     "output_type": "stream",
     "text": [
      "Epoch 112: train loss = 0.616238, val loss = 0.617805, time consumed = 0:24:03\n",
      "Model saved after epoch 112\n",
      "Reset patience counter\n",
      "\n"
     ]
    },
    {
     "name": "stderr",
     "output_type": "stream",
     "text": [
      "Training batch\t:  96%|█████████▋| 27/28 [00:12<00:00,  2.21it/s][codecarbon INFO @ 22:33:08] Energy consumed for RAM : 0.005457 kWh. RAM Power : 13.5 W\n",
      "[codecarbon INFO @ 22:33:08] Energy consumed for all CPUs : 0.017181 kWh. Total CPU Power : 42.5 W\n",
      "[codecarbon INFO @ 22:33:08] 0.022639 kWh of electricity used since the beginning.\n",
      "Training batch\t: 100%|██████████| 28/28 [00:12<00:00,  2.24it/s]\n",
      "Validation batch: 100%|██████████| 7/7 [00:00<00:00, 29.34it/s]\n"
     ]
    },
    {
     "name": "stdout",
     "output_type": "stream",
     "text": [
      "Epoch 113: train loss = 0.616219, val loss = 0.617612, time consumed = 0:24:15\n",
      "Model saved after epoch 113\n",
      "Reset patience counter\n",
      "\n"
     ]
    },
    {
     "name": "stderr",
     "output_type": "stream",
     "text": [
      "Training batch\t: 100%|██████████| 28/28 [00:12<00:00,  2.21it/s]\n",
      "Validation batch: 100%|██████████| 7/7 [00:00<00:00, 29.66it/s]\n"
     ]
    },
    {
     "name": "stdout",
     "output_type": "stream",
     "text": [
      "Epoch 114: train loss = 0.616251, val loss = 0.617426, time consumed = 0:24:28\n",
      "Model saved after epoch 114\n",
      "Reset patience counter\n",
      "\n"
     ]
    },
    {
     "name": "stderr",
     "output_type": "stream",
     "text": [
      "Training batch\t:  11%|█         | 3/28 [00:01<00:12,  2.01it/s][codecarbon INFO @ 22:33:23] Energy consumed for RAM : 0.005514 kWh. RAM Power : 13.5 W\n",
      "[codecarbon INFO @ 22:33:23] Energy consumed for all CPUs : 0.017359 kWh. Total CPU Power : 42.5 W\n",
      "[codecarbon INFO @ 22:33:23] 0.022872 kWh of electricity used since the beginning.\n",
      "Training batch\t: 100%|██████████| 28/28 [00:12<00:00,  2.25it/s]\n",
      "Validation batch: 100%|██████████| 7/7 [00:00<00:00, 25.70it/s]\n"
     ]
    },
    {
     "name": "stdout",
     "output_type": "stream",
     "text": [
      "Epoch 115: train loss = 0.615768, val loss = 0.617248, time consumed = 0:24:41\n",
      "Model saved after epoch 115\n",
      "Reset patience counter\n",
      "\n"
     ]
    },
    {
     "name": "stderr",
     "output_type": "stream",
     "text": [
      "Training batch\t:  29%|██▊       | 8/28 [00:03<00:08,  2.38it/s][codecarbon INFO @ 22:33:38] Energy consumed for RAM : 0.005570 kWh. RAM Power : 13.5 W\n",
      "[codecarbon INFO @ 22:33:38] Energy consumed for all CPUs : 0.017536 kWh. Total CPU Power : 42.5 W\n",
      "[codecarbon INFO @ 22:33:38] 0.023106 kWh of electricity used since the beginning.\n",
      "Training batch\t: 100%|██████████| 28/28 [00:11<00:00,  2.42it/s]\n",
      "Validation batch: 100%|██████████| 7/7 [00:00<00:00, 30.03it/s]\n"
     ]
    },
    {
     "name": "stdout",
     "output_type": "stream",
     "text": [
      "Epoch 116: train loss = 0.616073, val loss = 0.617075, time consumed = 0:24:53\n",
      "Model saved after epoch 116\n",
      "Reset patience counter\n",
      "\n"
     ]
    },
    {
     "name": "stderr",
     "output_type": "stream",
     "text": [
      "Training batch\t:  61%|██████    | 17/28 [00:06<00:04,  2.46it/s][codecarbon INFO @ 22:33:53] Energy consumed for RAM : 0.005626 kWh. RAM Power : 13.5 W\n",
      "[codecarbon INFO @ 22:33:53] Energy consumed for all CPUs : 0.017713 kWh. Total CPU Power : 42.5 W\n",
      "[codecarbon INFO @ 22:33:53] 0.023339 kWh of electricity used since the beginning.\n",
      "Training batch\t: 100%|██████████| 28/28 [00:11<00:00,  2.44it/s]\n",
      "Validation batch: 100%|██████████| 7/7 [00:00<00:00, 30.13it/s]\n"
     ]
    },
    {
     "name": "stdout",
     "output_type": "stream",
     "text": [
      "Epoch 117: train loss = 0.615337, val loss = 0.616907, time consumed = 0:25:05\n",
      "Model saved after epoch 117\n",
      "Reset patience counter\n",
      "\n"
     ]
    },
    {
     "name": "stderr",
     "output_type": "stream",
     "text": [
      "Training batch\t:  82%|████████▏ | 23/28 [00:10<00:02,  2.26it/s][codecarbon INFO @ 22:34:08] Energy consumed for RAM : 0.005682 kWh. RAM Power : 13.5 W\n",
      "[codecarbon INFO @ 22:34:08] Energy consumed for all CPUs : 0.017890 kWh. Total CPU Power : 42.5 W\n",
      "[codecarbon INFO @ 22:34:08] 0.023572 kWh of electricity used since the beginning.\n",
      "Training batch\t: 100%|██████████| 28/28 [00:12<00:00,  2.22it/s]\n",
      "Validation batch: 100%|██████████| 7/7 [00:00<00:00, 30.30it/s]\n"
     ]
    },
    {
     "name": "stdout",
     "output_type": "stream",
     "text": [
      "Epoch 118: train loss = 0.615670, val loss = 0.616745, time consumed = 0:25:17\n",
      "Model saved after epoch 118\n",
      "Reset patience counter\n",
      "\n"
     ]
    },
    {
     "name": "stderr",
     "output_type": "stream",
     "text": [
      "Training batch\t: 100%|██████████| 28/28 [00:12<00:00,  2.27it/s]\n",
      "Validation batch:  43%|████▎     | 3/7 [00:00<00:00, 28.93it/s][codecarbon INFO @ 22:34:23] Energy consumed for RAM : 0.005739 kWh. RAM Power : 13.5 W\n",
      "[codecarbon INFO @ 22:34:23] Energy consumed for all CPUs : 0.018067 kWh. Total CPU Power : 42.5 W\n",
      "[codecarbon INFO @ 22:34:23] 0.023806 kWh of electricity used since the beginning.\n",
      "Validation batch: 100%|██████████| 7/7 [00:00<00:00, 29.69it/s]\n"
     ]
    },
    {
     "name": "stdout",
     "output_type": "stream",
     "text": [
      "Epoch 119: train loss = 0.615602, val loss = 0.616589, time consumed = 0:25:30\n",
      "Model saved after epoch 119\n",
      "Reset patience counter\n",
      "\n"
     ]
    },
    {
     "name": "stderr",
     "output_type": "stream",
     "text": [
      "Training batch\t: 100%|██████████| 28/28 [00:12<00:00,  2.27it/s]\n",
      "Validation batch: 100%|██████████| 7/7 [00:00<00:00, 29.71it/s]\n"
     ]
    },
    {
     "name": "stdout",
     "output_type": "stream",
     "text": [
      "Epoch 120: train loss = 0.615871, val loss = 0.616439, time consumed = 0:25:43\n",
      "Model saved after epoch 120\n",
      "Reset patience counter\n",
      "\n"
     ]
    },
    {
     "name": "stderr",
     "output_type": "stream",
     "text": [
      "Training batch\t:  18%|█▊        | 5/28 [00:02<00:10,  2.23it/s][codecarbon INFO @ 22:34:38] Energy consumed for RAM : 0.005795 kWh. RAM Power : 13.5 W\n",
      "[codecarbon INFO @ 22:34:38] Energy consumed for all CPUs : 0.018244 kWh. Total CPU Power : 42.5 W\n",
      "[codecarbon INFO @ 22:34:38] 0.024039 kWh of electricity used since the beginning.\n",
      "Training batch\t: 100%|██████████| 28/28 [00:12<00:00,  2.32it/s]\n",
      "Validation batch: 100%|██████████| 7/7 [00:00<00:00, 29.74it/s]\n"
     ]
    },
    {
     "name": "stdout",
     "output_type": "stream",
     "text": [
      "Epoch 121: train loss = 0.614865, val loss = 0.616293, time consumed = 0:25:55\n",
      "Model saved after epoch 121\n",
      "Reset patience counter\n",
      "\n"
     ]
    },
    {
     "name": "stderr",
     "output_type": "stream",
     "text": [
      "Training batch\t:  39%|███▉      | 11/28 [00:04<00:08,  2.04it/s][codecarbon INFO @ 22:34:53] Energy consumed for RAM : 0.005851 kWh. RAM Power : 13.5 W\n",
      "[codecarbon INFO @ 22:34:53] Energy consumed for all CPUs : 0.018421 kWh. Total CPU Power : 42.5 W\n",
      "[codecarbon INFO @ 22:34:53] 0.024272 kWh of electricity used since the beginning.\n",
      "[codecarbon INFO @ 22:34:53] 0.000872 g.CO2eq/s mean an estimation of 27.488605763194858 kg.CO2eq/year\n",
      "Training batch\t: 100%|██████████| 28/28 [00:12<00:00,  2.30it/s]\n",
      "Validation batch: 100%|██████████| 7/7 [00:00<00:00, 29.94it/s]\n"
     ]
    },
    {
     "name": "stdout",
     "output_type": "stream",
     "text": [
      "Epoch 122: train loss = 0.614794, val loss = 0.616150, time consumed = 0:26:07\n",
      "Model saved after epoch 122\n",
      "Reset patience counter\n",
      "\n"
     ]
    },
    {
     "name": "stderr",
     "output_type": "stream",
     "text": [
      "Training batch\t:  54%|█████▎    | 15/28 [00:07<00:05,  2.26it/s][codecarbon INFO @ 22:35:08] Energy consumed for RAM : 0.005907 kWh. RAM Power : 13.5 W\n",
      "[codecarbon INFO @ 22:35:08] Energy consumed for all CPUs : 0.018598 kWh. Total CPU Power : 42.5 W\n",
      "[codecarbon INFO @ 22:35:08] 0.024506 kWh of electricity used since the beginning.\n",
      "Training batch\t: 100%|██████████| 28/28 [00:12<00:00,  2.33it/s]\n",
      "Validation batch: 100%|██████████| 7/7 [00:00<00:00, 28.82it/s]\n"
     ]
    },
    {
     "name": "stdout",
     "output_type": "stream",
     "text": [
      "Epoch 123: train loss = 0.614430, val loss = 0.616013, time consumed = 0:26:20\n",
      "Model saved after epoch 123\n",
      "Reset patience counter\n",
      "\n"
     ]
    },
    {
     "name": "stderr",
     "output_type": "stream",
     "text": [
      "Training batch\t:  79%|███████▊  | 22/28 [00:09<00:02,  2.05it/s][codecarbon INFO @ 22:35:23] Energy consumed for RAM : 0.005964 kWh. RAM Power : 13.5 W\n",
      "[codecarbon INFO @ 22:35:23] Energy consumed for all CPUs : 0.018776 kWh. Total CPU Power : 42.5 W\n",
      "[codecarbon INFO @ 22:35:23] 0.024739 kWh of electricity used since the beginning.\n",
      "Training batch\t: 100%|██████████| 28/28 [00:12<00:00,  2.26it/s]\n",
      "Validation batch: 100%|██████████| 7/7 [00:00<00:00, 30.20it/s]\n"
     ]
    },
    {
     "name": "stdout",
     "output_type": "stream",
     "text": [
      "Epoch 124: train loss = 0.614736, val loss = 0.615881, time consumed = 0:26:32\n",
      "Model saved after epoch 124\n",
      "Reset patience counter\n",
      "\n"
     ]
    },
    {
     "name": "stderr",
     "output_type": "stream",
     "text": [
      "Training batch\t: 100%|██████████| 28/28 [00:12<00:00,  2.24it/s]\n",
      "Validation batch:  43%|████▎     | 3/7 [00:00<00:00, 29.07it/s][codecarbon INFO @ 22:35:38] Energy consumed for RAM : 0.006020 kWh. RAM Power : 13.5 W\n",
      "[codecarbon INFO @ 22:35:38] Energy consumed for all CPUs : 0.018953 kWh. Total CPU Power : 42.5 W\n",
      "[codecarbon INFO @ 22:35:38] 0.024973 kWh of electricity used since the beginning.\n",
      "Validation batch: 100%|██████████| 7/7 [00:00<00:00, 29.91it/s]\n"
     ]
    },
    {
     "name": "stdout",
     "output_type": "stream",
     "text": [
      "Epoch 125: train loss = 0.614059, val loss = 0.615752, time consumed = 0:26:45\n",
      "Model saved after epoch 125\n",
      "Reset patience counter\n",
      "\n"
     ]
    },
    {
     "name": "stderr",
     "output_type": "stream",
     "text": [
      "Training batch\t: 100%|██████████| 28/28 [00:12<00:00,  2.33it/s]\n",
      "Validation batch: 100%|██████████| 7/7 [00:00<00:00, 30.01it/s]\n"
     ]
    },
    {
     "name": "stdout",
     "output_type": "stream",
     "text": [
      "Epoch 126: train loss = 0.614509, val loss = 0.615628, time consumed = 0:26:57\n",
      "Model saved after epoch 126\n",
      "Reset patience counter\n",
      "\n"
     ]
    },
    {
     "name": "stderr",
     "output_type": "stream",
     "text": [
      "Training batch\t:  21%|██▏       | 6/28 [00:02<00:10,  2.19it/s][codecarbon INFO @ 22:35:53] Energy consumed for RAM : 0.006076 kWh. RAM Power : 13.5 W\n",
      "[codecarbon INFO @ 22:35:53] Energy consumed for all CPUs : 0.019130 kWh. Total CPU Power : 42.5 W\n",
      "[codecarbon INFO @ 22:35:53] 0.025206 kWh of electricity used since the beginning.\n",
      "Training batch\t: 100%|██████████| 28/28 [00:12<00:00,  2.24it/s]\n",
      "Validation batch: 100%|██████████| 7/7 [00:00<00:00, 30.05it/s]\n"
     ]
    },
    {
     "name": "stdout",
     "output_type": "stream",
     "text": [
      "Epoch 127: train loss = 0.614235, val loss = 0.615509, time consumed = 0:27:10\n",
      "Model saved after epoch 127\n",
      "Reset patience counter\n",
      "\n"
     ]
    },
    {
     "name": "stderr",
     "output_type": "stream",
     "text": [
      "Training batch\t:  39%|███▉      | 11/28 [00:04<00:06,  2.52it/s][codecarbon INFO @ 22:36:08] Energy consumed for RAM : 0.006132 kWh. RAM Power : 13.5 W\n",
      "[codecarbon INFO @ 22:36:08] Energy consumed for all CPUs : 0.019307 kWh. Total CPU Power : 42.5 W\n",
      "[codecarbon INFO @ 22:36:08] 0.025439 kWh of electricity used since the beginning.\n",
      "Training batch\t: 100%|██████████| 28/28 [00:12<00:00,  2.21it/s]\n",
      "Validation batch: 100%|██████████| 7/7 [00:00<00:00, 29.25it/s]\n"
     ]
    },
    {
     "name": "stdout",
     "output_type": "stream",
     "text": [
      "Epoch 128: train loss = 0.614213, val loss = 0.615393, time consumed = 0:27:23\n",
      "Model saved after epoch 128\n",
      "Reset patience counter\n",
      "\n"
     ]
    },
    {
     "name": "stderr",
     "output_type": "stream",
     "text": [
      "Training batch\t:  50%|█████     | 14/28 [00:06<00:07,  1.97it/s][codecarbon INFO @ 22:36:23] Energy consumed for RAM : 0.006189 kWh. RAM Power : 13.5 W\n",
      "[codecarbon INFO @ 22:36:23] Energy consumed for all CPUs : 0.019484 kWh. Total CPU Power : 42.5 W\n",
      "[codecarbon INFO @ 22:36:23] 0.025673 kWh of electricity used since the beginning.\n",
      "Training batch\t: 100%|██████████| 28/28 [00:12<00:00,  2.32it/s]\n",
      "Validation batch: 100%|██████████| 7/7 [00:00<00:00, 29.60it/s]\n"
     ]
    },
    {
     "name": "stdout",
     "output_type": "stream",
     "text": [
      "Epoch 129: train loss = 0.613820, val loss = 0.615282, time consumed = 0:27:35\n",
      "Model saved after epoch 129\n",
      "Reset patience counter\n",
      "\n"
     ]
    },
    {
     "name": "stderr",
     "output_type": "stream",
     "text": [
      "Training batch\t:  79%|███████▊  | 22/28 [00:09<00:02,  2.39it/s][codecarbon INFO @ 22:36:38] Energy consumed for RAM : 0.006245 kWh. RAM Power : 13.5 W\n",
      "[codecarbon INFO @ 22:36:38] Energy consumed for all CPUs : 0.019661 kWh. Total CPU Power : 42.5 W\n",
      "[codecarbon INFO @ 22:36:38] 0.025906 kWh of electricity used since the beginning.\n",
      "Training batch\t: 100%|██████████| 28/28 [00:12<00:00,  2.23it/s]\n",
      "Validation batch: 100%|██████████| 7/7 [00:00<00:00, 30.24it/s]\n"
     ]
    },
    {
     "name": "stdout",
     "output_type": "stream",
     "text": [
      "Epoch 130: train loss = 0.613684, val loss = 0.615175, time consumed = 0:27:48\n",
      "Model saved after epoch 130\n",
      "Reset patience counter\n",
      "\n"
     ]
    },
    {
     "name": "stderr",
     "output_type": "stream",
     "text": [
      "Training batch\t:  93%|█████████▎| 26/28 [00:11<00:00,  2.24it/s][codecarbon INFO @ 22:36:53] Energy consumed for RAM : 0.006301 kWh. RAM Power : 13.5 W\n",
      "[codecarbon INFO @ 22:36:53] Energy consumed for all CPUs : 0.019838 kWh. Total CPU Power : 42.5 W\n",
      "[codecarbon INFO @ 22:36:53] 0.026140 kWh of electricity used since the beginning.\n",
      "[codecarbon INFO @ 22:36:53] 0.000872 g.CO2eq/s mean an estimation of 27.488529294196475 kg.CO2eq/year\n",
      "Training batch\t: 100%|██████████| 28/28 [00:12<00:00,  2.28it/s]\n",
      "Validation batch: 100%|██████████| 7/7 [00:00<00:00, 29.29it/s]\n"
     ]
    },
    {
     "name": "stdout",
     "output_type": "stream",
     "text": [
      "Epoch 131: train loss = 0.613682, val loss = 0.615070, time consumed = 0:28:01\n",
      "Model saved after epoch 131\n",
      "Reset patience counter\n",
      "\n"
     ]
    },
    {
     "name": "stderr",
     "output_type": "stream",
     "text": [
      "Training batch\t: 100%|██████████| 28/28 [00:12<00:00,  2.30it/s]\n",
      "Validation batch: 100%|██████████| 7/7 [00:00<00:00, 23.18it/s]\n"
     ]
    },
    {
     "name": "stdout",
     "output_type": "stream",
     "text": [
      "Epoch 132: train loss = 0.614113, val loss = 0.614970, time consumed = 0:28:13\n",
      "Model saved after epoch 132\n",
      "Reset patience counter\n",
      "\n"
     ]
    },
    {
     "name": "stderr",
     "output_type": "stream",
     "text": [
      "Training batch\t:   7%|▋         | 2/28 [00:01<00:17,  1.45it/s][codecarbon INFO @ 22:37:08] Energy consumed for RAM : 0.006357 kWh. RAM Power : 13.5 W\n",
      "[codecarbon INFO @ 22:37:08] Energy consumed for all CPUs : 0.020015 kWh. Total CPU Power : 42.5 W\n",
      "[codecarbon INFO @ 22:37:08] 0.026373 kWh of electricity used since the beginning.\n",
      "Training batch\t: 100%|██████████| 28/28 [00:12<00:00,  2.32it/s]\n",
      "Validation batch: 100%|██████████| 7/7 [00:00<00:00, 29.41it/s]\n"
     ]
    },
    {
     "name": "stdout",
     "output_type": "stream",
     "text": [
      "Epoch 133: train loss = 0.613432, val loss = 0.614873, time consumed = 0:28:26\n",
      "Model saved after epoch 133\n",
      "Reset patience counter\n",
      "\n"
     ]
    },
    {
     "name": "stderr",
     "output_type": "stream",
     "text": [
      "Training batch\t:  32%|███▏      | 9/28 [00:04<00:09,  2.11it/s][codecarbon INFO @ 22:37:23] Energy consumed for RAM : 0.006414 kWh. RAM Power : 13.5 W\n",
      "[codecarbon INFO @ 22:37:23] Energy consumed for all CPUs : 0.020193 kWh. Total CPU Power : 42.5 W\n",
      "[codecarbon INFO @ 22:37:23] 0.026606 kWh of electricity used since the beginning.\n",
      "Training batch\t: 100%|██████████| 28/28 [00:12<00:00,  2.21it/s]\n",
      "Validation batch: 100%|██████████| 7/7 [00:00<00:00, 30.17it/s]\n"
     ]
    },
    {
     "name": "stdout",
     "output_type": "stream",
     "text": [
      "Epoch 134: train loss = 0.613473, val loss = 0.614778, time consumed = 0:28:38\n",
      "Model saved after epoch 134\n",
      "Reset patience counter\n",
      "\n"
     ]
    },
    {
     "name": "stderr",
     "output_type": "stream",
     "text": [
      "Training batch\t:  50%|█████     | 14/28 [00:06<00:06,  2.28it/s][codecarbon INFO @ 22:37:38] Energy consumed for RAM : 0.006470 kWh. RAM Power : 13.5 W\n",
      "[codecarbon INFO @ 22:37:38] Energy consumed for all CPUs : 0.020370 kWh. Total CPU Power : 42.5 W\n",
      "[codecarbon INFO @ 22:37:38] 0.026840 kWh of electricity used since the beginning.\n",
      "Training batch\t: 100%|██████████| 28/28 [00:12<00:00,  2.25it/s]\n",
      "Validation batch: 100%|██████████| 7/7 [00:00<00:00, 30.17it/s]\n"
     ]
    },
    {
     "name": "stdout",
     "output_type": "stream",
     "text": [
      "Epoch 135: train loss = 0.613905, val loss = 0.614687, time consumed = 0:28:51\n",
      "Model saved after epoch 135\n",
      "Reset patience counter\n",
      "\n"
     ]
    },
    {
     "name": "stderr",
     "output_type": "stream",
     "text": [
      "Training batch\t:  68%|██████▊   | 19/28 [00:08<00:04,  2.22it/s][codecarbon INFO @ 22:37:53] Energy consumed for RAM : 0.006526 kWh. RAM Power : 13.5 W\n",
      "[codecarbon INFO @ 22:37:53] Energy consumed for all CPUs : 0.020547 kWh. Total CPU Power : 42.5 W\n",
      "[codecarbon INFO @ 22:37:53] 0.027073 kWh of electricity used since the beginning.\n",
      "Training batch\t: 100%|██████████| 28/28 [00:12<00:00,  2.24it/s]\n",
      "Validation batch: 100%|██████████| 7/7 [00:00<00:00, 29.89it/s]\n"
     ]
    },
    {
     "name": "stdout",
     "output_type": "stream",
     "text": [
      "Epoch 136: train loss = 0.613452, val loss = 0.614598, time consumed = 0:29:04\n",
      "Model saved after epoch 136\n"
     ]
    },
    {
     "name": "stderr",
     "output_type": "stream",
     "text": [
      "Training batch\t:  86%|████████▌ | 24/28 [00:10<00:01,  2.21it/s][codecarbon INFO @ 22:38:08] Energy consumed for RAM : 0.006582 kWh. RAM Power : 13.5 W\n",
      "[codecarbon INFO @ 22:38:08] Energy consumed for all CPUs : 0.020724 kWh. Total CPU Power : 42.5 W\n",
      "[codecarbon INFO @ 22:38:08] 0.027306 kWh of electricity used since the beginning.\n",
      "Training batch\t: 100%|██████████| 28/28 [00:12<00:00,  2.23it/s]\n",
      "Validation batch: 100%|██████████| 7/7 [00:00<00:00, 29.25it/s]\n"
     ]
    },
    {
     "name": "stdout",
     "output_type": "stream",
     "text": [
      "Epoch 137: train loss = 0.613407, val loss = 0.614512, time consumed = 0:29:17\n",
      "Model saved after epoch 137\n"
     ]
    },
    {
     "name": "stderr",
     "output_type": "stream",
     "text": [
      "Training batch\t: 100%|██████████| 28/28 [00:12<00:00,  2.26it/s]\n",
      "Validation batch: 100%|██████████| 7/7 [00:00<00:00, 29.47it/s]\n"
     ]
    },
    {
     "name": "stdout",
     "output_type": "stream",
     "text": [
      "Epoch 138: train loss = 0.613424, val loss = 0.614429, time consumed = 0:29:29\n",
      "Model saved after epoch 138\n"
     ]
    },
    {
     "name": "stderr",
     "output_type": "stream",
     "text": [
      "Training batch\t:   4%|▎         | 1/28 [00:00<00:17,  1.57it/s][codecarbon INFO @ 22:38:23] Energy consumed for RAM : 0.006639 kWh. RAM Power : 13.5 W\n",
      "[codecarbon INFO @ 22:38:23] Energy consumed for all CPUs : 0.020901 kWh. Total CPU Power : 42.5 W\n",
      "[codecarbon INFO @ 22:38:23] 0.027540 kWh of electricity used since the beginning.\n",
      "Training batch\t: 100%|██████████| 28/28 [00:12<00:00,  2.23it/s]\n",
      "Validation batch: 100%|██████████| 7/7 [00:00<00:00, 29.64it/s]\n"
     ]
    },
    {
     "name": "stdout",
     "output_type": "stream",
     "text": [
      "Epoch 139: train loss = 0.612663, val loss = 0.614350, time consumed = 0:29:42\n",
      "Model saved after epoch 139\n"
     ]
    },
    {
     "name": "stderr",
     "output_type": "stream",
     "text": [
      "Training batch\t:  18%|█▊        | 5/28 [00:02<00:11,  2.03it/s][codecarbon INFO @ 22:38:38] Energy consumed for RAM : 0.006695 kWh. RAM Power : 13.5 W\n",
      "[codecarbon INFO @ 22:38:38] Energy consumed for all CPUs : 0.021078 kWh. Total CPU Power : 42.5 W\n",
      "[codecarbon INFO @ 22:38:38] 0.027773 kWh of electricity used since the beginning.\n",
      "Training batch\t: 100%|██████████| 28/28 [00:12<00:00,  2.29it/s]\n",
      "Validation batch: 100%|██████████| 7/7 [00:00<00:00, 29.99it/s]\n"
     ]
    },
    {
     "name": "stdout",
     "output_type": "stream",
     "text": [
      "Epoch 140: train loss = 0.612757, val loss = 0.614271, time consumed = 0:29:55\n",
      "Model saved after epoch 140\n",
      "Early stopping!\n"
     ]
    },
    {
     "name": "stderr",
     "output_type": "stream",
     "text": [
      "[codecarbon INFO @ 22:38:50] Energy consumed for RAM : 0.006739 kWh. RAM Power : 13.5 W\n",
      "[codecarbon INFO @ 22:38:50] Energy consumed for all CPUs : 0.021216 kWh. Total CPU Power : 42.5 W\n",
      "[codecarbon INFO @ 22:38:50] 0.027954 kWh of electricity used since the beginning.\n",
      "[codecarbon INFO @ 22:38:50] 0.000872 g.CO2eq/s mean an estimation of 27.488595810342193 kg.CO2eq/year\n"
     ]
    },
    {
     "name": "stdout",
     "output_type": "stream",
     "text": [
      "Carbon emission tracking completed. Check 'emissions.csv' for details.\n"
     ]
    }
   ],
   "source": [
    "# Start carbon tracker\n",
    "tracker.start()\n",
    "\n",
    "# train the neural network\n",
    "histories, saved_path = train(\n",
    "    train_dl,\n",
    "    val_dl,\n",
    "    model,\n",
    "    loss_fn,\n",
    "    optimizer,\n",
    "    epochs,\n",
    "    early_stopping_patience,\n",
    "    lr_scheduler,\n",
    "    saved_path_prefix\n",
    ")\n",
    "\n",
    "import time\n",
    "time.sleep(2)  # Replace this with your actual processing code\n",
    "\n",
    "# Stop tracking after execution\n",
    "tracker.stop()\n",
    "\n",
    "print(\"Carbon emission tracking completed. Check 'emissions.csv' for details.\")"
   ]
  },
  {
   "cell_type": "code",
   "execution_count": 19,
   "metadata": {},
   "outputs": [
    {
     "data": {
      "image/png": "[encoded data removed]",
      "text/plain": [
       "<Figure size 640x480 with 1 Axes>"
      ]
     },
     "metadata": {},
     "output_type": "display_data"
    }
   ],
   "source": [
    "# plot the train vs. val loss history\n",
    "plt.figure()\n",
    "plt.plot(np.arange(len(histories['train_epoch'])), histories['train_epoch'], '-', label = 'train loss')\n",
    "plt.plot(np.arange(len(histories['val_epoch'])), histories['val_epoch'], '-', label = 'val loss')\n",
    "plt.title('train vs. validation loss history')\n",
    "plt.xlabel('epoch')\n",
    "plt.ylabel('loss')\n",
    "plt.legend()\n",
    "plt.show()"
   ]
  },
  {
   "cell_type": "code",
   "execution_count": 20,
   "metadata": {},
   "outputs": [
    {
     "data": {
      "text/plain": [
       "MultiLabelBiLSTM(\n",
       "  (embedding): Embedding(24000, 128)\n",
       "  (lstm): LSTM(128, 64, batch_first=True, bidirectional=True)\n",
       "  (fc): Linear(in_features=128, out_features=33, bias=True)\n",
       ")"
      ]
     },
     "execution_count": 20,
     "metadata": {},
     "output_type": "execute_result"
    }
   ],
   "source": [
    "# reload the best model\n",
    "model.load_state_dict(torch.load(saved_path))\n",
    "model.to(device)"
   ]
  },
  {
   "cell_type": "code",
   "execution_count": 22,
   "metadata": {},
   "outputs": [],
   "source": [
    "def test_model(test_dl, model, loss_fn, threshold=0.5):\n",
    "    test_loss = 0.0\n",
    "    all_logits = []\n",
    "    all_probs = []\n",
    "    all_preds = []\n",
    "    all_true = []\n",
    "    \n",
    "    with torch.no_grad():\n",
    "        for X_batch, y_batch, lengths in test_dl:\n",
    "            X_batch, y_batch, lengths = X_batch.to(device), y_batch.to(device), lengths.to(device)\n",
    "            \n",
    "            # Forward pass: get predicted probabilities\n",
    "            logits = model(X_batch, lengths)  # Shape: (batch_size, num_classes)\n",
    "            \n",
    "            # Calculate loss for this batch\n",
    "            loss = loss_fn(logits, y_batch)\n",
    "            test_loss += loss.item()\n",
    "            \n",
    "            # Get predicted probabilities (our model already applies sigmoid)\n",
    "            probs = logits  \n",
    "            \n",
    "            # Convert probabilities to binary predictions using threshold\n",
    "            preds = (probs >= threshold).float()\n",
    "            \n",
    "            # Collect outputs and ground truth for evaluation\n",
    "            all_logits.append(logits.cpu().numpy())\n",
    "            all_probs.append(probs.cpu().numpy())\n",
    "            all_preds.append(preds.cpu().numpy())\n",
    "            all_true.append(y_batch.cpu().numpy())\n",
    "    \n",
    "    # Average test loss over batches\n",
    "    test_loss /= len(test_dl)\n",
    "    \n",
    "    # Concatenate outputs from all batches\n",
    "    all_true = np.concatenate(all_true, axis=0)\n",
    "    all_preds = np.concatenate(all_preds, axis=0)\n",
    "    all_probs = np.concatenate(all_probs, axis=0)\n",
    "    \n",
    "    print(f\"Test Loss: {test_loss:.4f}\")\n",
    "    return all_logits, all_probs, all_preds, all_true"
   ]
  },
  {
   "cell_type": "code",
   "execution_count": 32,
   "metadata": {},
   "outputs": [
    {
     "name": "stdout",
     "output_type": "stream",
     "text": [
      "Test Loss: 0.6121\n",
      "Classification Report:\n",
      "                     precision    recall  f1-score   support\n",
      "\n",
      "  dark_pigmentation       0.00      0.00      0.00       261\n",
      "               acne       0.00      0.00      0.00       225\n",
      "        eye_contour       0.00      0.00      0.00       149\n",
      "        homogeneity       0.00      0.00      0.00      1063\n",
      "      lack_firmness       0.00      0.00      0.00       292\n",
      "      lack_radiance       0.61      0.93      0.74      1150\n",
      "              pores       0.00      0.00      0.00       311\n",
      "         fine_lines       0.00      0.00      0.00         5\n",
      "wrinkles_fine-lines       0.00      0.00      0.00       657\n",
      "       eye-wrinkles       0.00      0.00      0.00       108\n",
      "      undereye-bags       0.00      0.00      0.00       107\n",
      "            generic       0.00      0.00      0.00        27\n",
      "              18-34       0.91      1.00      0.96      1711\n",
      "              35-54       0.94      1.00      0.97      1765\n",
      "              55-99       0.95      1.00      0.98      1782\n",
      "                dry       0.82      1.00      0.90      1542\n",
      "             normal       0.84      1.00      0.92      1581\n",
      "               oily       0.80      1.00      0.89      1504\n",
      "        combination       0.81      1.00      0.90      1520\n",
      "   sensitivity-high       0.00      0.00      0.00       168\n",
      "    sensitivity-low       0.00      0.00      0.00       276\n",
      "     no_sensitivity       0.83      1.00      0.91      1551\n",
      "               male       0.00      0.00      0.00       724\n",
      "             female       0.90      1.00      0.95      1687\n",
      "            cleanse       0.00      0.00      0.00       354\n",
      "            prepare       0.00      0.00      0.00       130\n",
      "              treat       0.00      0.00      0.00       947\n",
      "           targeted       0.00      0.00      0.00       124\n",
      "               care       0.00      0.00      0.00       301\n",
      "         moisturize       0.00      0.00      0.00       888\n",
      "            protect       0.00      0.00      0.00       373\n",
      "                day       0.90      1.00      0.95      1686\n",
      "              night       0.82      1.00      0.90      1537\n",
      "\n",
      "          micro avg       0.85      0.71      0.78     26506\n",
      "          macro avg       0.31      0.36      0.33     26506\n",
      "       weighted avg       0.61      0.71      0.66     26506\n",
      "        samples avg       0.85      0.72      0.77     26506\n",
      "\n"
     ]
    }
   ],
   "source": [
    "# Test 1\n",
    "\"\"\"\n",
    "import torch.nn as nn\n",
    "\n",
    "class MultiLabelLSTM(nn.Module):\n",
    "    def __init__(self, vocab_size, embed_size, hidden_size, num_classes):\n",
    "        super().__init__()\n",
    "        \n",
    "        # Embedding layer\n",
    "        self.embedding = nn.Embedding(vocab_size, embed_size)\n",
    "        \n",
    "        # LSTM layer\n",
    "        self.lstm = nn.LSTM(embed_size, hidden_size, batch_first=True)\n",
    "        \n",
    "        # Fully connected output layer\n",
    "        self.fc = nn.Linear(hidden_size, num_classes)  # Output size = number of labels\n",
    "        \n",
    "    def forward(self, x, lengths):\n",
    "        # Convert token IDs into embeddings\n",
    "        x = self.embedding(x)\n",
    "\n",
    "        # Pack padded sequences for efficient LSTM processing\n",
    "        packed_x = pack_padded_sequence(x, lengths.cpu(), batch_first=True, enforce_sorted=False)\n",
    "        \n",
    "        # LSTM forward pass\n",
    "        out, (h, c) = self.lstm(packed_x)\n",
    "        \n",
    "        # Fully connected layer with sigmoid activation (multi-label)\n",
    "        return torch.sigmoid(self.fc(h[-1]))  # Sigmoid for independent label probabilities\n",
    "\n",
    "        Batch size: 64\n",
    "        (val_epoch_loss + 0.00009) < min_val_loss\n",
    "        Time consumed: 9.58 minutes\n",
    "        Epochs needed: N/A (forgot to note)\n",
    "\"\"\"\n",
    "# Evaluate the model on the test set using the test_model function\n",
    "all_logits, all_probs, all_preds, all_true = test_model(test_dl, model, loss_fn, threshold=0.5)\n",
    "\n",
    "# Create a list of output class names from the dataframe (excluding 'text_raw')\n",
    "output_classes = list(df_loreal.columns[1:34])  # Adjust if needed\n",
    "\n",
    "# Print classification metrics for each label\n",
    "print(\"Classification Report:\")\n",
    "print(classification_report(all_true, all_preds, target_names=output_classes))"
   ]
  },
  {
   "cell_type": "code",
   "execution_count": 65,
   "metadata": {},
   "outputs": [
    {
     "name": "stdout",
     "output_type": "stream",
     "text": [
      "Test Loss: 0.6130\n",
      "Classification Report:\n",
      "                     precision    recall  f1-score   support\n",
      "\n",
      "  dark_pigmentation       0.00      0.00      0.00       261\n",
      "               acne       0.00      0.00      0.00       225\n",
      "        eye_contour       0.00      0.00      0.00       149\n",
      "        homogeneity       0.78      0.01      0.01      1063\n",
      "      lack_firmness       0.00      0.00      0.00       292\n",
      "      lack_radiance       0.62      0.99      0.76      1150\n",
      "              pores       0.00      0.00      0.00       311\n",
      "         fine_lines       0.00      0.00      0.00         5\n",
      "wrinkles_fine-lines       0.00      0.00      0.00       657\n",
      "       eye-wrinkles       0.00      0.00      0.00       108\n",
      "      undereye-bags       0.00      0.00      0.00       107\n",
      "            generic       0.00      0.00      0.00        27\n",
      "              18-34       0.91      1.00      0.96      1711\n",
      "              35-54       0.94      1.00      0.97      1765\n",
      "              55-99       0.95      1.00      0.98      1782\n",
      "                dry       0.82      1.00      0.90      1542\n",
      "             normal       0.84      1.00      0.92      1581\n",
      "               oily       0.80      1.00      0.89      1504\n",
      "        combination       0.81      1.00      0.90      1520\n",
      "   sensitivity-high       0.00      0.00      0.00       168\n",
      "    sensitivity-low       0.00      0.00      0.00       276\n",
      "     no_sensitivity       0.83      1.00      0.91      1551\n",
      "               male       0.00      0.00      0.00       724\n",
      "             female       0.90      1.00      0.95      1687\n",
      "            cleanse       0.00      0.00      0.00       354\n",
      "            prepare       0.00      0.00      0.00       130\n",
      "              treat       0.00      0.00      0.00       947\n",
      "           targeted       0.00      0.00      0.00       124\n",
      "               care       0.00      0.00      0.00       301\n",
      "         moisturize       0.00      0.00      0.00       888\n",
      "            protect       0.00      0.00      0.00       373\n",
      "                day       0.90      1.00      0.95      1686\n",
      "              night       0.82      1.00      0.90      1537\n",
      "\n",
      "          micro avg       0.85      0.72      0.78     26506\n",
      "          macro avg       0.33      0.36      0.33     26506\n",
      "       weighted avg       0.64      0.72      0.66     26506\n",
      "        samples avg       0.85      0.72      0.77     26506\n",
      "\n"
     ]
    }
   ],
   "source": [
    "# Test 2\n",
    "\"\"\"\n",
    "import torch.nn as nn\n",
    "\n",
    "class MultiLabelLSTM(nn.Module):\n",
    "    def __init__(self, vocab_size, embed_size, hidden_size, num_classes):\n",
    "        super().__init__()\n",
    "        \n",
    "        # Embedding layer\n",
    "        self.embedding = nn.Embedding(vocab_size, embed_size)\n",
    "        \n",
    "        # LSTM layer\n",
    "        self.lstm = nn.LSTM(embed_size, hidden_size, batch_first=True)\n",
    "        \n",
    "        # Fully connected output layer\n",
    "        self.fc = nn.Linear(hidden_size, num_classes)  # Output size = number of labels\n",
    "        \n",
    "    def forward(self, x, lengths):\n",
    "        # Convert token IDs into embeddings\n",
    "        x = self.embedding(x)\n",
    "\n",
    "        # Pack padded sequences for efficient LSTM processing\n",
    "        packed_x = pack_padded_sequence(x, lengths.cpu(), batch_first=True, enforce_sorted=False)\n",
    "        \n",
    "        # LSTM forward pass\n",
    "        out, (h, c) = self.lstm(packed_x)\n",
    "        \n",
    "        # Fully connected layer with sigmoid activation (multi-label)\n",
    "        return torch.sigmoid(self.fc(h[-1]))  # Sigmoid for independent label probabilities\n",
    "\n",
    "        Batch size: 128\n",
    "        (val_epoch_loss + 0.000009) < min_val_loss\n",
    "        Time consumed: 15min\n",
    "        Epochs needed:\n",
    "\"\"\"\n",
    "# Evaluate the model on the test set using the test_model function\n",
    "all_logits, all_probs, all_preds, all_true = test_model(test_dl, model, loss_fn, threshold=0.5)\n",
    "\n",
    "# Create a list of output class names from the dataframe (excluding 'text_raw')\n",
    "output_classes = list(df_loreal.columns[1:34])  # Adjust if needed\n",
    "\n",
    "# Print classification metrics for each label\n",
    "print(\"Classification Report:\")\n",
    "print(classification_report(all_true, all_preds, target_names=output_classes))"
   ]
  },
  {
   "cell_type": "code",
   "execution_count": 69,
   "metadata": {},
   "outputs": [
    {
     "name": "stdout",
     "output_type": "stream",
     "text": [
      "Test Loss: 0.6130\n",
      "Classification Report:\n",
      "                     precision    recall  f1-score   support\n",
      "\n",
      "  dark_pigmentation       0.00      0.00      0.00       261\n",
      "               acne       0.00      0.00      0.00       225\n",
      "        eye_contour       0.00      0.00      0.00       149\n",
      "        homogeneity       0.78      0.01      0.01      1063\n",
      "      lack_firmness       0.00      0.00      0.00       292\n",
      "      lack_radiance       0.62      0.99      0.76      1150\n",
      "              pores       0.00      0.00      0.00       311\n",
      "         fine_lines       0.00      0.00      0.00         5\n",
      "wrinkles_fine-lines       0.00      0.00      0.00       657\n",
      "       eye-wrinkles       0.00      0.00      0.00       108\n",
      "      undereye-bags       0.00      0.00      0.00       107\n",
      "            generic       0.00      0.00      0.00        27\n",
      "              18-34       0.91      1.00      0.96      1711\n",
      "              35-54       0.94      1.00      0.97      1765\n",
      "              55-99       0.95      1.00      0.98      1782\n",
      "                dry       0.82      1.00      0.90      1542\n",
      "             normal       0.84      1.00      0.92      1581\n",
      "               oily       0.80      1.00      0.89      1504\n",
      "        combination       0.81      1.00      0.90      1520\n",
      "   sensitivity-high       0.00      0.00      0.00       168\n",
      "    sensitivity-low       0.00      0.00      0.00       276\n",
      "     no_sensitivity       0.83      1.00      0.91      1551\n",
      "               male       0.00      0.00      0.00       724\n",
      "             female       0.90      1.00      0.95      1687\n",
      "            cleanse       0.00      0.00      0.00       354\n",
      "            prepare       0.00      0.00      0.00       130\n",
      "              treat       0.00      0.00      0.00       947\n",
      "           targeted       0.00      0.00      0.00       124\n",
      "               care       0.00      0.00      0.00       301\n",
      "         moisturize       0.00      0.00      0.00       888\n",
      "            protect       0.00      0.00      0.00       373\n",
      "                day       0.90      1.00      0.95      1686\n",
      "              night       0.82      1.00      0.90      1537\n",
      "\n",
      "          micro avg       0.85      0.72      0.78     26506\n",
      "          macro avg       0.33      0.36      0.33     26506\n",
      "       weighted avg       0.64      0.72      0.66     26506\n",
      "        samples avg       0.85      0.72      0.77     26506\n",
      "\n"
     ]
    }
   ],
   "source": [
    "# Test 3\n",
    "\"\"\"\n",
    "import torch.nn as nn\n",
    "\n",
    "class MultiLabelGRU(nn.Module):\n",
    "    def __init__(self, vocab_size, embed_size, hidden_size, num_classes):\n",
    "        super(MultiLabelGRU, self).__init__()\n",
    "        self.embedding = nn.Embedding(vocab_size, embed_size)\n",
    "        self.gru = nn.GRU(embed_size, hidden_size, batch_first=True)\n",
    "        self.fc = nn.Linear(hidden_size, num_classes)\n",
    "        \n",
    "    def forward(self, x, lengths):\n",
    "        x = self.embedding(x)\n",
    "        packed_x = pack_padded_sequence(x, lengths.cpu(), batch_first=True, enforce_sorted=False)\n",
    "        # GRU returns output and hidden state (no cell state)\n",
    "        packed_out, h = self.gru(packed_x)\n",
    "        # Use the last hidden state for classification\n",
    "        return torch.sigmoid(self.fc(h[-1]))\n",
    "\n",
    "        Batch size: 128\n",
    "        (val_epoch_loss + 0.00009) < min_val_loss\n",
    "        Time consumed: \n",
    "        Epochs needed:\n",
    "\"\"\"\n",
    "# Evaluate the model on the test set using the test_model function\n",
    "all_logits, all_probs, all_preds, all_true = test_model(test_dl, model, loss_fn, threshold=0.5)\n",
    "\n",
    "# Create a list of output class names from the dataframe (excluding 'text_raw')\n",
    "output_classes = list(df_loreal.columns[1:34])  # Adjust if needed\n",
    "\n",
    "# Print classification metrics for each label\n",
    "print(\"Classification Report:\")\n",
    "print(classification_report(all_true, all_preds, target_names=output_classes))"
   ]
  },
  {
   "cell_type": "code",
   "execution_count": 23,
   "metadata": {},
   "outputs": [
    {
     "name": "stdout",
     "output_type": "stream",
     "text": [
      "Test Loss: 0.6136\n",
      "Classification Report:\n",
      "                     precision    recall  f1-score   support\n",
      "\n",
      "  dark_pigmentation       0.00      0.00      0.00       255\n",
      "               acne       0.00      0.00      0.00       231\n",
      "        eye_contour       0.00      0.00      0.00       157\n",
      "        homogeneity       0.00      0.00      0.00      1095\n",
      "      lack_firmness       0.00      0.00      0.00       306\n",
      "      lack_radiance       0.63      0.88      0.74      1199\n",
      "              pores       0.00      0.00      0.00       316\n",
      "         fine_lines       0.00      0.00      0.00         2\n",
      "wrinkles_fine-lines       0.00      0.00      0.00       662\n",
      "       eye-wrinkles       0.00      0.00      0.00       121\n",
      "      undereye-bags       0.00      0.00      0.00       114\n",
      "            generic       0.00      0.00      0.00        29\n",
      "              18-34       0.90      1.00      0.95      1691\n",
      "              35-54       0.94      1.00      0.97      1758\n",
      "              55-99       0.95      1.00      0.97      1775\n",
      "                dry       0.83      1.00      0.90      1545\n",
      "             normal       0.84      1.00      0.91      1571\n",
      "               oily       0.81      1.00      0.89      1514\n",
      "        combination       0.82      1.00      0.90      1532\n",
      "   sensitivity-high       0.00      0.00      0.00       172\n",
      "    sensitivity-low       0.00      0.00      0.00       259\n",
      "     no_sensitivity       0.82      1.00      0.90      1533\n",
      "               male       0.00      0.00      0.00       692\n",
      "             female       0.91      1.00      0.95      1703\n",
      "            cleanse       0.00      0.00      0.00       336\n",
      "            prepare       0.00      0.00      0.00       140\n",
      "              treat       0.00      0.00      0.00       992\n",
      "           targeted       0.00      0.00      0.00       123\n",
      "               care       0.00      0.00      0.00       299\n",
      "         moisturize       0.00      0.00      0.00       884\n",
      "            protect       0.00      0.00      0.00       381\n",
      "                day       0.90      1.00      0.95      1677\n",
      "              night       0.81      1.00      0.90      1521\n",
      "\n",
      "          micro avg       0.85      0.71      0.77     26585\n",
      "          macro avg       0.31      0.36      0.33     26585\n",
      "       weighted avg       0.61      0.71      0.66     26585\n",
      "        samples avg       0.85      0.71      0.77     26585\n",
      "\n"
     ]
    }
   ],
   "source": [
    "# Test 4\n",
    "\"\"\"\n",
    "import torch.nn as nn\n",
    "\n",
    "class MultiLabelBiLSTM(nn.Module):\n",
    "    def __init__(self, vocab_size, embed_size, hidden_size, num_classes):\n",
    "        super(MultiLabelBiLSTM, self).__init__()\n",
    "        self.embedding = nn.Embedding(vocab_size, embed_size)\n",
    "        # Bidirectional LSTM: hidden size is doubled after concatenation\n",
    "        self.lstm = nn.LSTM(embed_size, hidden_size, batch_first=True, bidirectional=True)\n",
    "        self.fc = nn.Linear(hidden_size * 2, num_classes)\n",
    "        \n",
    "    def forward(self, x, lengths):\n",
    "        x = self.embedding(x)\n",
    "        packed_x = pack_padded_sequence(x, lengths.cpu(), batch_first=True, enforce_sorted=False)\n",
    "        packed_out, (h, c) = self.lstm(packed_x)\n",
    "        # For a single layer bidirectional LSTM, h[-2] is from the forward and h[-1] from the backward pass.\n",
    "        h_forward = h[-2]\n",
    "        h_backward = h[-1]\n",
    "        h_combined = torch.cat((h_forward, h_backward), dim=1)\n",
    "        return torch.sigmoid(self.fc(h_combined))\n",
    "\n",
    "        Batch size: 128\n",
    "        (val_epoch_loss + 0.00009) < min_val_loss\n",
    "        Time consumed: \n",
    "        Epochs needed:\n",
    "\"\"\"\n",
    "# Evaluate the model on the test set using the test_model function\n",
    "all_logits, all_probs, all_preds, all_true = test_model(test_dl, model, loss_fn, threshold=0.5)\n",
    "\n",
    "# Create a list of output class names from the dataframe (excluding 'text_raw')\n",
    "output_classes = list(df_loreal.columns[1:34])  # Adjust if needed\n",
    "\n",
    "# Print classification metrics for each label\n",
    "print(\"Classification Report:\")\n",
    "print(classification_report(all_true, all_preds, target_names=output_classes))"
   ]
  },
  {
   "cell_type": "code",
   "execution_count": null,
   "metadata": {},
   "outputs": [],
   "source": [
    "# Test 5\n",
    "\"\"\"\n",
    "\n",
    "\n",
    "        Batch size: 128\n",
    "        (val_epoch_loss + 0.00009) < min_val_loss\n",
    "        Time consumed: \n",
    "        Epochs needed:\n",
    "\"\"\"\n",
    "# Evaluate the model on the test set using the test_model function\n",
    "all_logits, all_probs, all_preds, all_true = test_model(test_dl, model, loss_fn, threshold=0.5)\n",
    "\n",
    "# Create a list of output class names from the dataframe (excluding 'text_raw')\n",
    "output_classes = list(df_loreal.columns[1:34])  # Adjust if needed\n",
    "\n",
    "# Print classification metrics for each label\n",
    "print(\"Classification Report:\")\n",
    "print(classification_report(all_true, all_preds, target_names=output_classes))"
   ]
  }
 ],
 "metadata": {
  "kernelspec": {
   "display_name": "ForPyTorch",
   "language": "python",
   "name": "python3"
  },
  "language_info": {
   "codemirror_mode": {
    "name": "ipython",
    "version": 3
   },
   "file_extension": ".py",
   "mimetype": "text/x-python",
   "name": "python",
   "nbconvert_exporter": "python",
   "pygments_lexer": "ipython3",
   "version": "3.12.8"
  }
 },
 "nbformat": 4,
 "nbformat_minor": 2
}
